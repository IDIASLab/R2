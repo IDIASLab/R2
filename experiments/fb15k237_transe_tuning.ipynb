{
  "cells": [
    {
      "cell_type": "code",
      "execution_count": 1,
      "metadata": {
        "id": "X5k8WFGpevba"
      },
      "outputs": [],
      "source": [
        "#!pip uninstall scikit-learn\n",
        "#!pip install scikit-learn==1.5.2"
      ]
    },
    {
      "cell_type": "code",
      "execution_count": null,
      "metadata": {
        "id": "W7uPMNxqSZXX"
      },
      "outputs": [],
      "source": [
        "import pandas as pd\n",
        "import numpy as np\n",
        "from tqdm import tqdm\n",
        "import pickle\n",
        "import time\n",
        "from sklearn.metrics import accuracy_score, precision_score, recall_score, f1_score,roc_curve,auc,classification_report,make_scorer\n",
        "from sklearn.model_selection import train_test_split,GridSearchCV\n",
        "from sklearn.neural_network import MLPClassifier\n",
        "from sklearn.ensemble import VotingClassifier\n",
        "from lightgbm import LGBMClassifier\n",
        "from xgboost import XGBClassifier\n",
        "\n",
        "from link_prediction import *"
      ]
    },
    {
      "cell_type": "code",
      "execution_count": 4,
      "metadata": {
        "id": "v4rpvOhwSxVE"
      },
      "outputs": [],
      "source": [
        "#Load the entity embeddings dict\n",
        "with open(\"nguyen_fb15k237_transe_entity_embeddings.pkl\", \"rb\") as f:\n",
        "    entity_embeddings = pickle.load(f)\n",
        "#Load the predicate embeddings dict\n",
        "with open(\"nguyen_fb15k237_transe_predicate_embeddings.pkl\", \"rb\") as f:\n",
        "    predicate_embeddings = pickle.load(f)\n",
        "\n",
        "train_triples = pd.read_csv('fb15k237_train.txt', dtype=str, sep='\\t', header=None, names=['head', 'relation', 'tail'])\n",
        "test_triples = pd.read_csv('fb15k237_test.txt', dtype=str, sep='\\t', header=None, names=['head', 'relation', 'tail'])"
      ]
    },
    {
      "cell_type": "markdown",
      "metadata": {
        "id": "vUmY423XWjUn"
      },
      "source": [
        "**Create Negative Samples**"
      ]
    },
    {
      "cell_type": "code",
      "execution_count": 5,
      "metadata": {
        "colab": {
          "base_uri": "https://localhost:8080/"
        },
        "id": "0VYaBwd_S6Ni",
        "outputId": "af541110-5812-4079-a471-7eaa0cad51b2"
      },
      "outputs": [
        {
          "name": "stderr",
          "output_type": "stream",
          "text": [
            "Processing triples: 100%|██████████| 272115/272115 [02:07<00:00, 2139.10triple/s]\n",
            "Processing triples: 100%|██████████| 272115/272115 [02:11<00:00, 2070.31triple/s]"
          ]
        },
        {
          "name": "stdout",
          "output_type": "stream",
          "text": [
            "93371\n",
            "56317\n"
          ]
        },
        {
          "name": "stderr",
          "output_type": "stream",
          "text": [
            "\n"
          ]
        }
      ],
      "source": [
        "training_object=Training(entity_embeddings,predicate_embeddings,train_triples,test_triples, model='TransE')\n",
        "tail_df = training_object.create_training_data_filtered(n=1, creating_for=\"tail\")\n",
        "head_df = training_object.create_training_data_filtered(n=1, creating_for=\"head\")\n",
        "print(len(tail_df))\n",
        "print(len(head_df))"
      ]
    },
    {
      "cell_type": "markdown",
      "metadata": {
        "id": "8js9F5XPTLq3"
      },
      "source": [
        "**Prepare Training Data**"
      ]
    },
    {
      "cell_type": "code",
      "execution_count": 6,
      "metadata": {
        "colab": {
          "base_uri": "https://localhost:8080/",
          "height": 178
        },
        "id": "qOXSQ_U0TEOd",
        "outputId": "634ececf-ed19-4f07-e73e-b09468232e2c"
      },
      "outputs": [
        {
          "data": {
            "text/html": [
              "<div>\n",
              "<style scoped>\n",
              "    .dataframe tbody tr th:only-of-type {\n",
              "        vertical-align: middle;\n",
              "    }\n",
              "\n",
              "    .dataframe tbody tr th {\n",
              "        vertical-align: top;\n",
              "    }\n",
              "\n",
              "    .dataframe thead th {\n",
              "        text-align: right;\n",
              "    }\n",
              "</style>\n",
              "<table border=\"1\" class=\"dataframe\">\n",
              "  <thead>\n",
              "    <tr style=\"text-align: right;\">\n",
              "      <th></th>\n",
              "      <th>count</th>\n",
              "    </tr>\n",
              "    <tr>\n",
              "      <th>label</th>\n",
              "      <th></th>\n",
              "    </tr>\n",
              "  </thead>\n",
              "  <tbody>\n",
              "    <tr>\n",
              "      <th>1</th>\n",
              "      <td>272115</td>\n",
              "    </tr>\n",
              "    <tr>\n",
              "      <th>0</th>\n",
              "      <td>146168</td>\n",
              "    </tr>\n",
              "  </tbody>\n",
              "</table>\n",
              "</div><br><label><b>dtype:</b> int64</label>"
            ],
            "text/plain": [
              "label\n",
              "1    272115\n",
              "0    146168\n",
              "Name: count, dtype: int64"
            ]
          },
          "execution_count": 6,
          "metadata": {},
          "output_type": "execute_result"
        }
      ],
      "source": [
        "train_triples['label']=1\n",
        "train_df = pd.concat([head_df,tail_df,train_triples], axis=0)\n",
        "# Reset the index\n",
        "train_df.reset_index(drop=True, inplace=True)\n",
        "# Drop duplicate rows\n",
        "train_df.drop_duplicates(inplace=True)\n",
        "# Step 1: Prepare the training data\n",
        "train_df['embedding'] = train_df.apply(lambda row: training_object.get_embedding(row).cpu().numpy(), axis=1)\n",
        "X_train = np.vstack(train_df['embedding'].values)  # Stack embeddings into a matrix\n",
        "y_train = train_df['label'].values  # Labels\n",
        "# Step 1: Split the data into training and test sets with stratification\n",
        "X_train, X_test, y_train, y_test = train_test_split(\n",
        "    np.vstack(train_df['embedding'].values),  # Embeddings matrix\n",
        "    train_df['label'].values,                # Labels\n",
        "    test_size=0.1,                           # 10% of the data for testing\n",
        "    random_state=42,                         # For reproducibility\n",
        "    stratify=train_df['label'].values        # Maintain label distribution\n",
        ")\n",
        "train_df['label'].value_counts()"
      ]
    },
    {
      "cell_type": "markdown",
      "metadata": {
        "id": "BewwL105Telw"
      },
      "source": [
        "**Set Models**"
      ]
    },
    {
      "cell_type": "markdown",
      "metadata": {
        "id": "FGzknXtLORux"
      },
      "source": [
        "**MLP**"
      ]
    },
    {
      "cell_type": "code",
      "execution_count": 7,
      "metadata": {
        "id": "Hhf-7qv2-Ht-"
      },
      "outputs": [],
      "source": [
        "import warnings\n",
        "from sklearn.exceptions import ConvergenceWarning\n",
        "warnings.simplefilter(\"ignore\", ConvergenceWarning)"
      ]
    },
    {
      "cell_type": "code",
      "execution_count": 8,
      "metadata": {
        "colab": {
          "base_uri": "https://localhost:8080/"
        },
        "id": "4Ep1UaH6TPR_",
        "outputId": "ee7e4256-7a2f-4ed3-adea-2cc78d5e7000"
      },
      "outputs": [
        {
          "name": "stdout",
          "output_type": "stream",
          "text": [
            "Best parameters for MLP: {'hidden_layer_sizes': (256, 256), 'alpha': 0.0001, 'learning_rate_init': 0.001, 'max_iter': 100, 'f1_score': 0.8470329748214823, 'accuracy': 0.7936120873078486, 'precision_0': 0.7373849571564582, 'precision_1': 0.8178614200171086, 'recall_0': 0.6358349866593692, 'recall_1': 0.8783624871380273}\n"
          ]
        }
      ],
      "source": [
        "param_grid_mlp = {\n",
        "    'hidden_layer_sizes': [ (64, 64), (128, 128), (256, 256)],\n",
        "    'alpha': [0.0001, 0.001, 0.01],\n",
        "    'learning_rate_init': [0.001, 0.01],\n",
        "    'max_iter': [50, 100]\n",
        "}\n",
        "\n",
        "\n",
        "\n",
        "results_mlp = []\n",
        "for hidden_layer_sizes in param_grid_mlp['hidden_layer_sizes']:\n",
        "    for alpha in param_grid_mlp['alpha']:\n",
        "        for learning_rate_init in param_grid_mlp['learning_rate_init']:\n",
        "            for max_iter in param_grid_mlp['max_iter']:\n",
        "                mlp = MLPClassifier(\n",
        "                    hidden_layer_sizes=hidden_layer_sizes,\n",
        "                    alpha=alpha,\n",
        "                    learning_rate_init=learning_rate_init,\n",
        "                    max_iter=max_iter,\n",
        "                    solver='adam',\n",
        "                    early_stopping=True,\n",
        "                    batch_size=32,\n",
        "                    random_state=42\n",
        "                )\n",
        "                mlp.fit(X_train, y_train)\n",
        "                preds = mlp.predict(X_test)\n",
        "\n",
        "                # Calculate metrics\n",
        "                score_f1 = f1_score(y_test, preds)\n",
        "                acc = accuracy_score(y_test, preds)\n",
        "                precisions = precision_score(y_test, preds, average=None, zero_division=0)\n",
        "                recalls = recall_score(y_test, preds, average=None, zero_division=0)\n",
        "\n",
        "                results_mlp.append({\n",
        "                    'hidden_layer_sizes': hidden_layer_sizes,\n",
        "                    'alpha': alpha,\n",
        "                    'learning_rate_init': learning_rate_init,\n",
        "                    'max_iter': max_iter,\n",
        "                    'f1_score': score_f1,\n",
        "                    'accuracy': acc,\n",
        "                    'precision_0': precisions[0],\n",
        "                    'precision_1': precisions[1],\n",
        "                    'recall_0': recalls[0],\n",
        "                    'recall_1': recalls[1]\n",
        "                })\n",
        "\n",
        "df_results_mlp = pd.DataFrame(results_mlp)\n",
        "\n",
        "best_mlp_params = df_results_mlp.sort_values(by='f1_score', ascending=False).iloc[0].to_dict()\n",
        "print(\"Best parameters for MLP:\", best_mlp_params)"
      ]
    },
    {
      "cell_type": "markdown",
      "metadata": {
        "id": "S9YJEh-WOP07"
      },
      "source": [
        "**XGB**"
      ]
    },
    {
      "cell_type": "code",
      "execution_count": null,
      "metadata": {
        "colab": {
          "base_uri": "https://localhost:8080/"
        },
        "id": "zlTfpHrPMA7v",
        "outputId": "b1698ca7-4b81-43b7-b36d-0dd8636345e7"
      },
      "outputs": [],
      "source": [
        "param_grid_xgb = {\n",
        "    'n_estimators': [100, 200, 300],\n",
        "    'max_depth': [5, 10, 15],\n",
        "    'scale_pos_weight': [0.5, 1],\n",
        "    'learning_rate': [0.01, 0.1, 0.2]\n",
        "}\n",
        "\n",
        "results_xgb = []\n",
        "for n_estimators in param_grid_xgb['n_estimators']:\n",
        "    for max_depth in param_grid_xgb['max_depth']:\n",
        "        for scale_pos_weight in param_grid_xgb['scale_pos_weight']:\n",
        "            for learning_rate in param_grid_xgb['learning_rate']:\n",
        "                xgb = XGBClassifier(\n",
        "                    n_estimators=n_estimators,\n",
        "                    max_depth=max_depth,\n",
        "                    scale_pos_weight=scale_pos_weight,\n",
        "                    learning_rate=learning_rate,\n",
        "                    random_state=42,\n",
        "                    use_label_encoder=False,\n",
        "                    eval_metric='logloss'\n",
        "                )\n",
        "                xgb.fit(X_train, y_train)\n",
        "                preds = xgb.predict(X_test)\n",
        "\n",
        "                # Calculate metrics\n",
        "                score_f1 = f1_score(y_test, preds)\n",
        "                acc = accuracy_score(y_test, preds)\n",
        "                precisions = precision_score(y_test, preds, average=None, zero_division=0)\n",
        "                recalls = recall_score(y_test, preds, average=None, zero_division=0)\n",
        "\n",
        "                results_xgb.append({\n",
        "                    'n_estimators': n_estimators,\n",
        "                    'max_depth': max_depth,\n",
        "                    'scale_pos_weight': scale_pos_weight,\n",
        "                    'learning_rate': learning_rate,\n",
        "                    'f1_score': score_f1,\n",
        "                    'accuracy': acc,\n",
        "                    'precision_0': precisions[0],\n",
        "                    'precision_1': precisions[1],\n",
        "                    'recall_0': recalls[0],\n",
        "                    'recall_1': recalls[1]\n",
        "                })\n",
        "\n",
        "df_results_xgb = pd.DataFrame(results_xgb)\n",
        "best_xgb_params = df_results_xgb.sort_values(by='f1_score', ascending=False).iloc[0].to_dict()\n",
        "print(\"Best parameters for XGBClassifier:\", best_xgb_params)"
      ]
    },
    {
      "cell_type": "markdown",
      "metadata": {
        "id": "sBawiIGpOUxY"
      },
      "source": [
        "**LGBM**"
      ]
    },
    {
      "cell_type": "code",
      "execution_count": null,
      "metadata": {
        "colab": {
          "base_uri": "https://localhost:8080/"
        },
        "id": "HKdY6e6LMCG8",
        "outputId": "8d6f0152-8328-4ab9-d98f-eb71217ccd82"
      },
      "outputs": [],
      "source": [
        "param_grid_lgbm = {\n",
        "    'n_estimators': [100, 200, 300],\n",
        "    'max_depth': [5, 10, 15],\n",
        "    'learning_rate': [0.01, 0.1, 0.2],\n",
        "    'is_unbalance': [True, False]\n",
        "}\n",
        "\n",
        "results_lgbm = []\n",
        "for n_estimators in param_grid_lgbm['n_estimators']:\n",
        "    for max_depth in param_grid_lgbm['max_depth']:\n",
        "        for learning_rate in param_grid_lgbm['learning_rate']:\n",
        "            for is_unbalance in param_grid_lgbm['is_unbalance']:\n",
        "                lgbm = LGBMClassifier(\n",
        "                    n_estimators=n_estimators,\n",
        "                    max_depth=max_depth,\n",
        "                    learning_rate=learning_rate,\n",
        "                    is_unbalance=is_unbalance,\n",
        "                    random_state=42\n",
        "                )\n",
        "                lgbm.fit(X_train, y_train)\n",
        "                preds = lgbm.predict(X_test)\n",
        "\n",
        "                # Calculate metrics\n",
        "                score_f1 = f1_score(y_test, preds)\n",
        "                acc = accuracy_score(y_test, preds)\n",
        "                precisions = precision_score(y_test, preds, average=None, zero_division=0)\n",
        "                recalls = recall_score(y_test, preds, average=None, zero_division=0)\n",
        "\n",
        "                results_lgbm.append({\n",
        "                    'n_estimators': n_estimators,\n",
        "                    'max_depth': max_depth,\n",
        "                    'learning_rate': learning_rate,\n",
        "                    'is_unbalance': is_unbalance,\n",
        "                    'f1_score': score_f1,\n",
        "                    'accuracy': acc,\n",
        "                    'precision_0': precisions[0],\n",
        "                    'precision_1': precisions[1],\n",
        "                    'recall_0': recalls[0],\n",
        "                    'recall_1': recalls[1]\n",
        "                })\n",
        "\n",
        "df_results_lgbm = pd.DataFrame(results_lgbm)\n",
        "best_lgbm_params = df_results_lgbm.sort_values(by='f1_score', ascending=False).iloc[0].to_dict()\n",
        "print(\"Best parameters for LGBM:\", best_lgbm_params)"
      ]
    },
    {
      "cell_type": "markdown",
      "metadata": {
        "id": "g3wpa-6XTijx"
      },
      "source": [
        "**Train Ensemble**"
      ]
    },
    {
      "cell_type": "code",
      "execution_count": 11,
      "metadata": {
        "colab": {
          "base_uri": "https://localhost:8080/"
        },
        "id": "hh_nSA9ATkra",
        "outputId": "1658392c-50a5-40c5-b158-496da0148b74"
      },
      "outputs": [
        {
          "name": "stderr",
          "output_type": "stream",
          "text": [
            "/usr/local/lib/python3.11/dist-packages/sklearn/utils/deprecation.py:151: FutureWarning: 'force_all_finite' was renamed to 'ensure_all_finite' in 1.6 and will be removed in 1.8.\n",
            "  warnings.warn(\n"
          ]
        },
        {
          "name": "stdout",
          "output_type": "stream",
          "text": [
            "[LightGBM] [Info] Number of positive: 244903, number of negative: 131551\n",
            "[LightGBM] [Info] Auto-choosing col-wise multi-threading, the overhead of testing was 0.322060 seconds.\n",
            "You can set `force_col_wise=true` to remove the overhead.\n",
            "[LightGBM] [Info] Total Bins 73922\n",
            "[LightGBM] [Info] Number of data points in the train set: 376454, number of used features: 300\n",
            "[LightGBM] [Info] [binary:BoostFromScore]: pavg=0.650552 -> initscore=0.621468\n",
            "[LightGBM] [Info] Start training from score 0.621468\n"
          ]
        },
        {
          "name": "stderr",
          "output_type": "stream",
          "text": [
            "/usr/local/lib/python3.11/dist-packages/sklearn/utils/deprecation.py:151: FutureWarning: 'force_all_finite' was renamed to 'ensure_all_finite' in 1.6 and will be removed in 1.8.\n",
            "  warnings.warn(\n",
            "/usr/local/lib/python3.11/dist-packages/sklearn/utils/deprecation.py:151: FutureWarning: 'force_all_finite' was renamed to 'ensure_all_finite' in 1.6 and will be removed in 1.8.\n",
            "  warnings.warn(\n"
          ]
        }
      ],
      "source": [
        "# Best MLPClassifier\n",
        "best_mlp = MLPClassifier(\n",
        "    hidden_layer_sizes=best_mlp_params['hidden_layer_sizes'],\n",
        "    alpha=best_mlp_params['alpha'],\n",
        "    learning_rate_init=best_mlp_params['learning_rate_init'],\n",
        "    max_iter=best_mlp_params['max_iter'],\n",
        "    solver='adam',\n",
        "    early_stopping=True,\n",
        "    batch_size=32,\n",
        "    random_state=42\n",
        ")\n",
        "best_mlp.fit(X_train, y_train)\n",
        "preds_mlp = best_mlp.predict(X_test)\n",
        "report_mlp = classification_report(y_test, preds_mlp)\n",
        "\n",
        "best_xgb = XGBClassifier(\n",
        "    n_estimators=int(best_xgb_params['n_estimators']),\n",
        "    max_depth=int(best_xgb_params['max_depth']),\n",
        "    learning_rate=float(best_xgb_params['learning_rate']),\n",
        "    scale_pos_weight=float(best_xgb_params['scale_pos_weight']),\n",
        "    random_state=42,\n",
        ")\n",
        "best_xgb.fit(X_train, y_train)\n",
        "preds_xgb = best_xgb.predict(X_test)\n",
        "report_xgb = classification_report(y_test, preds_xgb)\n",
        "\n",
        "# Best LGBMClassifier\n",
        "best_lgbm = LGBMClassifier(\n",
        "    n_estimators=best_lgbm_params['n_estimators'],\n",
        "    max_depth=best_lgbm_params['max_depth'],\n",
        "    learning_rate=best_lgbm_params['learning_rate'],\n",
        "    is_unbalance=best_lgbm_params['is_unbalance'],\n",
        "    random_state=42\n",
        ")\n",
        "best_lgbm.fit(X_train, y_train)\n",
        "preds_lgbm = best_lgbm.predict(X_test)\n",
        "report_lgbm = classification_report(y_test, preds_lgbm)\n",
        "\n",
        "######################################\n",
        "# Ensemble the best models using VotingClassifier\n",
        "######################################\n",
        "ensemble_model = VotingClassifier(\n",
        "    estimators=[\n",
        "        ('mlp', best_mlp),\n",
        "        ('xgb', best_xgb),\n",
        "        ('lgbm', best_lgbm)\n",
        "    ],\n",
        "    voting='soft',  # Soft voting uses predicted probabilities\n",
        "    n_jobs=-1\n",
        ")\n",
        "\n",
        "start_time = time.time()\n",
        "ensemble_model.fit(X_train, y_train)\n",
        "end_time = time.time()\n",
        "\n",
        "ensemble_time = end_time - start_time\n",
        "preds_ensemble = ensemble_model.predict(X_test)\n",
        "ensemble_acc = accuracy_score(y_test, preds_ensemble)\n",
        "report_ensemble = classification_report(y_test, preds_ensemble)"
      ]
    },
    {
      "cell_type": "code",
      "execution_count": 12,
      "metadata": {
        "colab": {
          "base_uri": "https://localhost:8080/"
        },
        "id": "ziF_s2HTKr34",
        "outputId": "71e27db3-2830-4d94-f871-89794e261ee7"
      },
      "outputs": [
        {
          "name": "stdout",
          "output_type": "stream",
          "text": [
            "Ensemble Accuracy: 0.804752683544909\n",
            "Ensemble Classification Report:\n",
            "               precision    recall  f1-score   support\n",
            "\n",
            "           0       0.76      0.64      0.70     14617\n",
            "           1       0.82      0.89      0.86     27212\n",
            "\n",
            "    accuracy                           0.80     41829\n",
            "   macro avg       0.79      0.77      0.78     41829\n",
            "weighted avg       0.80      0.80      0.80     41829\n",
            "\n"
          ]
        },
        {
          "name": "stderr",
          "output_type": "stream",
          "text": [
            "/usr/local/lib/python3.11/dist-packages/sklearn/utils/deprecation.py:151: FutureWarning: 'force_all_finite' was renamed to 'ensure_all_finite' in 1.6 and will be removed in 1.8.\n",
            "  warnings.warn(\n"
          ]
        }
      ],
      "source": [
        "y_pred_ensemble = ensemble_model.predict(X_test)\n",
        "print(\"Ensemble Accuracy:\", accuracy_score(y_test, y_pred_ensemble))\n",
        "print(\"Ensemble Classification Report:\\n\", classification_report(y_test, y_pred_ensemble))"
      ]
    },
    {
      "cell_type": "code",
      "execution_count": null,
      "metadata": {
        "colab": {
          "base_uri": "https://localhost:8080/"
        },
        "id": "LNjIfcQGKxIx",
        "outputId": "eb88273c-b0e3-4638-a31c-fd848cdaef5a"
      },
      "outputs": [
        {
          "name": "stdout",
          "output_type": "stream",
          "text": [
            "Results saved to model_results.txt\n"
          ]
        }
      ],
      "source": [
        "with open(\"/content/drive/MyDrive/link_prediction/tuning/fb15k237_transe_tuning.txt\", \"w\") as f:\n",
        "    f.write(\"##############################\\n\")\n",
        "    f.write(\"MLPClassifier Full Results\\n\")\n",
        "    f.write(\"##############################\\n\")\n",
        "    f.write(df_results_mlp.to_string())\n",
        "    f.write(\"\\n\\nBest Parameters for MLPClassifier:\\n\")\n",
        "    f.write(str(best_mlp_params))\n",
        "    f.write(\"\\n\\nClassification Report for Best MLPClassifier:\\n\")\n",
        "    f.write(report_mlp)\n",
        "\n",
        "    f.write(\"\\n\\n\\n##############################\\n\")\n",
        "    f.write(\"XGBClassifier Full Results\\n\")\n",
        "    f.write(\"##############################\\n\")\n",
        "    f.write(df_results_xgb.to_string())\n",
        "    f.write(\"\\n\\nBest Parameters for XGBClassifier:\\n\")\n",
        "    f.write(str(best_xgb_params))\n",
        "    f.write(\"\\n\\nClassification Report for Best XGBClassifier:\\n\")\n",
        "    f.write(report_xgb)\n",
        "\n",
        "    f.write(\"\\n\\n\\n##############################\\n\")\n",
        "    f.write(\"LGBMClassifier Full Results\\n\")\n",
        "    f.write(\"##############################\\n\")\n",
        "    f.write(df_results_lgbm.to_string())\n",
        "    f.write(\"\\n\\nBest Parameters for LGBMClassifier:\\n\")\n",
        "    f.write(str(best_lgbm_params))\n",
        "    f.write(\"\\n\\nClassification Report for Best LGBMClassifier:\\n\")\n",
        "    f.write(report_lgbm)\n",
        "\n",
        "    f.write(\"\\n\\n\\n##############################\\n\")\n",
        "    f.write(\"Ensemble Model Performance\\n\")\n",
        "    f.write(\"##############################\\n\")\n",
        "    f.write(\"Ensemble Accuracy: {:.4f}\\n\".format(ensemble_acc))\n",
        "    f.write(\"Ensemble Classification Report:\\n\")\n",
        "    f.write(report_ensemble)\n",
        "\n",
        "print(\"Results saved to model_results.txt\")"
      ]
    },
    {
      "cell_type": "markdown",
      "metadata": {
        "id": "LaaXmNZEUIB1"
      },
      "source": [
        "**Rerank Hitk**"
      ]
    },
    {
      "cell_type": "code",
      "execution_count": 14,
      "metadata": {
        "id": "NklFNH7RUlTM"
      },
      "outputs": [],
      "source": [
        "import warnings\n",
        "warnings.simplefilter(action='ignore', category=FutureWarning)"
      ]
    },
    {
      "cell_type": "code",
      "execution_count": 15,
      "metadata": {
        "colab": {
          "base_uri": "https://localhost:8080/"
        },
        "id": "8bcKVBNzUjTD",
        "outputId": "3ed0bb66-8150-4d37-c10f-100f99223556"
      },
      "outputs": [
        {
          "name": "stderr",
          "output_type": "stream",
          "text": [
            "Precomputing top-k predictions: 100%|██████████| 20466/20466 [01:30<00:00, 227.29it/s]\n"
          ]
        }
      ],
      "source": [
        "tripleEvaluator=TripleEvaluator(entity_embeddings,predicate_embeddings,train_triples,test_triples, model='TransE', k=50)"
      ]
    },
    {
      "cell_type": "code",
      "execution_count": 16,
      "metadata": {
        "colab": {
          "base_uri": "https://localhost:8080/"
        },
        "id": "D3XXGZChPo76",
        "outputId": "56013da7-abb2-4529-b33f-12036b6c3d74"
      },
      "outputs": [
        {
          "name": "stdout",
          "output_type": "stream",
          "text": [
            "k=1 | th=1 | head: 11.93% | tail: 31.18% | overall: 23.50%\n",
            "k=1 | th=2 | head: 13.36% | tail: 33.25% | overall: 25.31%\n",
            "k=1 | th=3 | head: 12.68% | tail: 31.64% | overall: 24.07%\n",
            "k=1 | th=4 | head: 11.48% | tail: 29.64% | overall: 22.40%\n",
            "k=1 | th=5 | head: 10.88% | tail: 27.84% | overall: 21.07%\n",
            "k=1 | th=6 | head: 10.52% | tail: 26.35% | overall: 20.04%\n",
            "k=1 | th=7 | head: 10.13% | tail: 25.19% | overall: 19.18%\n",
            "k=1 | th=8 | head: 9.74% | tail: 24.19% | overall: 18.42%\n",
            "k=1 | th=9 | head: 9.33% | tail: 23.55% | overall: 17.88%\n",
            "k=1 | th=10 | head: 8.99% | tail: 22.76% | overall: 17.26%\n",
            "k=1 | th=20 | head: 7.06% | tail: 19.35% | overall: 14.45%\n",
            "k=1 | th=30 | head: 6.01% | tail: 17.65% | overall: 13.01%\n",
            "k=1 | th=40 | head: 5.55% | tail: 16.75% | overall: 12.28%\n",
            "k=1 | th=50 | head: 5.05% | tail: 16.16% | overall: 11.73%\n",
            "k=3 | th=3 | head: 24.30% | tail: 45.69% | overall: 37.16%\n",
            "k=3 | th=4 | head: 24.12% | tail: 45.21% | overall: 36.80%\n",
            "k=3 | th=5 | head: 23.20% | tail: 43.72% | overall: 35.53%\n",
            "k=3 | th=6 | head: 21.88% | tail: 41.67% | overall: 33.78%\n",
            "k=3 | th=7 | head: 20.87% | tail: 39.39% | overall: 32.00%\n",
            "k=3 | th=8 | head: 20.08% | tail: 37.44% | overall: 30.51%\n",
            "k=3 | th=9 | head: 19.47% | tail: 36.25% | overall: 29.55%\n",
            "k=3 | th=10 | head: 18.99% | tail: 35.01% | overall: 28.62%\n",
            "k=3 | th=20 | head: 15.12% | tail: 27.95% | overall: 22.83%\n",
            "k=3 | th=30 | head: 12.80% | tail: 24.82% | overall: 20.02%\n",
            "k=3 | th=40 | head: 11.44% | tail: 23.24% | overall: 18.53%\n",
            "k=3 | th=50 | head: 10.45% | tail: 21.82% | overall: 17.28%\n",
            "k=5 | th=5 | head: 30.91% | tail: 52.62% | overall: 43.95%\n",
            "k=5 | th=6 | head: 30.33% | tail: 51.25% | overall: 42.90%\n",
            "k=5 | th=7 | head: 29.39% | tail: 49.38% | overall: 41.40%\n",
            "k=5 | th=8 | head: 28.16% | tail: 47.30% | overall: 39.66%\n",
            "k=5 | th=9 | head: 27.10% | tail: 45.37% | overall: 38.08%\n",
            "k=5 | th=10 | head: 26.28% | tail: 43.38% | overall: 36.56%\n",
            "k=5 | th=20 | head: 20.93% | tail: 34.17% | overall: 28.89%\n",
            "k=5 | th=30 | head: 18.09% | tail: 29.84% | overall: 25.15%\n",
            "k=5 | th=40 | head: 16.13% | tail: 27.41% | overall: 22.91%\n",
            "k=5 | th=50 | head: 14.84% | tail: 25.57% | overall: 21.29%\n",
            "k=10 | th=10 | head: 40.81% | tail: 60.83% | overall: 52.84%\n",
            "k=10 | th=11 | head: 39.59% | tail: 59.25% | overall: 51.40%\n",
            "k=10 | th=12 | head: 38.25% | tail: 57.38% | overall: 49.75%\n",
            "k=10 | th=13 | head: 36.92% | tail: 55.46% | overall: 48.06%\n",
            "k=10 | th=14 | head: 36.10% | tail: 53.68% | overall: 46.66%\n",
            "k=10 | th=15 | head: 35.42% | tail: 51.76% | overall: 45.24%\n",
            "k=10 | th=16 | head: 34.78% | tail: 50.56% | overall: 44.26%\n",
            "k=10 | th=17 | head: 34.01% | tail: 49.11% | overall: 43.08%\n",
            "k=10 | th=18 | head: 33.47% | tail: 48.16% | overall: 42.30%\n",
            "k=10 | th=19 | head: 32.81% | tail: 47.18% | overall: 41.45%\n",
            "k=10 | th=20 | head: 32.13% | tail: 46.15% | overall: 40.56%\n",
            "k=10 | th=30 | head: 28.08% | tail: 39.51% | overall: 34.95%\n",
            "k=10 | th=40 | head: 25.55% | tail: 36.21% | overall: 31.96%\n",
            "k=10 | th=50 | head: 22.89% | tail: 33.46% | overall: 29.24%\n"
          ]
        }
      ],
      "source": [
        "# Define the mapping of k values to their respective threshold lists\n",
        "k_threshold_mapping = {\n",
        "    1: [1,2,3,4,5,6,7,8,9,10, 20, 30, 40, 50],\n",
        "    3: [3,4,5,6,7,8,9,10, 20, 30, 40, 50],\n",
        "    5: [5,6,7,8,9, 10,20, 30, 40, 50],\n",
        "    10: [10,11,12,13,14,15,16,17,18,19,20, 30, 40, 50]\n",
        "}\n",
        "\n",
        "# Iterate through the mapping and print results on the fly\n",
        "for k, threshold_values in k_threshold_mapping.items():\n",
        "    for threshold in threshold_values:\n",
        "        # Evaluate for head\n",
        "        total_count_head, hit_count_head = tripleEvaluator.rerank(k=k, model=best_mlp, threshold=threshold, evaluate_for=\"head\")\n",
        "        head_percentage = hit_count_head / total_count_head * 100\n",
        "\n",
        "        # Evaluate for tail\n",
        "        total_count_tail, hit_count_tail = tripleEvaluator.rerank(k=k, model=best_mlp, threshold=threshold, evaluate_for=\"tail\")\n",
        "        tail_percentage = hit_count_tail / total_count_tail * 100\n",
        "\n",
        "        # Calculate overall metrics\n",
        "        overall_hit_count = hit_count_head + hit_count_tail\n",
        "        overall_total_count = total_count_head + total_count_tail\n",
        "        overall_percentage = (overall_hit_count / overall_total_count) * 100\n",
        "\n",
        "        # Print results immediately\n",
        "        print(\n",
        "            f\"k={k} | th={threshold} | \"\n",
        "            f\"head: {head_percentage:.2f}% | tail: {tail_percentage:.2f}% | overall: {overall_percentage:.2f}%\"\n",
        "        )"
      ]
    },
    {
      "cell_type": "code",
      "execution_count": 17,
      "metadata": {
        "colab": {
          "base_uri": "https://localhost:8080/"
        },
        "id": "hsbcZJ6fPomJ",
        "outputId": "9da27eaf-8d28-4b67-ee1b-c3bbe7013e89"
      },
      "outputs": [
        {
          "name": "stdout",
          "output_type": "stream",
          "text": [
            "k=1 | th=1 | head: 11.93% | tail: 31.18% | overall: 23.50%\n",
            "k=1 | th=2 | head: 15.26% | tail: 35.36% | overall: 27.34%\n",
            "k=1 | th=3 | head: 13.87% | tail: 33.34% | overall: 25.57%\n",
            "k=1 | th=4 | head: 12.37% | tail: 30.72% | overall: 23.40%\n",
            "k=1 | th=5 | head: 11.58% | tail: 28.67% | overall: 21.85%\n",
            "k=1 | th=6 | head: 11.08% | tail: 26.64% | overall: 20.43%\n",
            "k=1 | th=7 | head: 10.84% | tail: 25.44% | overall: 19.62%\n",
            "k=1 | th=8 | head: 10.61% | tail: 24.62% | overall: 19.03%\n",
            "k=1 | th=9 | head: 10.16% | tail: 24.07% | overall: 18.52%\n",
            "k=1 | th=10 | head: 9.77% | tail: 23.46% | overall: 17.99%\n",
            "k=1 | th=20 | head: 8.38% | tail: 20.79% | overall: 15.84%\n",
            "k=1 | th=30 | head: 7.59% | tail: 19.57% | overall: 14.79%\n",
            "k=1 | th=40 | head: 7.34% | tail: 18.94% | overall: 14.31%\n",
            "k=1 | th=50 | head: 7.10% | tail: 18.62% | overall: 14.02%\n",
            "k=3 | th=3 | head: 24.30% | tail: 45.69% | overall: 37.16%\n",
            "k=3 | th=4 | head: 25.35% | tail: 46.11% | overall: 37.83%\n",
            "k=3 | th=5 | head: 24.45% | tail: 44.98% | overall: 36.79%\n",
            "k=3 | th=6 | head: 23.10% | tail: 42.89% | overall: 34.99%\n",
            "k=3 | th=7 | head: 21.95% | tail: 40.29% | overall: 32.97%\n",
            "k=3 | th=8 | head: 21.44% | tail: 37.95% | overall: 31.36%\n",
            "k=3 | th=9 | head: 20.60% | tail: 36.26% | overall: 30.01%\n",
            "k=3 | th=10 | head: 20.02% | tail: 35.06% | overall: 29.05%\n",
            "k=3 | th=20 | head: 16.84% | tail: 29.47% | overall: 24.43%\n",
            "k=3 | th=30 | head: 15.31% | tail: 27.46% | overall: 22.61%\n",
            "k=3 | th=40 | head: 14.20% | tail: 26.49% | overall: 21.59%\n",
            "k=3 | th=50 | head: 13.29% | tail: 25.65% | overall: 20.72%\n",
            "k=5 | th=5 | head: 30.91% | tail: 52.62% | overall: 43.95%\n",
            "k=5 | th=6 | head: 31.39% | tail: 51.77% | overall: 43.63%\n",
            "k=5 | th=7 | head: 30.34% | tail: 50.02% | overall: 42.17%\n",
            "k=5 | th=8 | head: 28.90% | tail: 47.82% | overall: 40.27%\n",
            "k=5 | th=9 | head: 27.84% | tail: 45.88% | overall: 38.68%\n",
            "k=5 | th=10 | head: 27.11% | tail: 43.99% | overall: 37.25%\n",
            "k=5 | th=20 | head: 22.37% | tail: 34.90% | overall: 29.90%\n",
            "k=5 | th=30 | head: 20.39% | tail: 32.23% | overall: 27.50%\n",
            "k=5 | th=40 | head: 19.29% | tail: 30.89% | overall: 26.26%\n",
            "k=5 | th=50 | head: 18.32% | tail: 29.93% | overall: 25.30%\n",
            "k=10 | th=10 | head: 40.81% | tail: 60.83% | overall: 52.84%\n",
            "k=10 | th=11 | head: 40.22% | tail: 59.34% | overall: 51.71%\n",
            "k=10 | th=12 | head: 38.76% | tail: 57.48% | overall: 50.01%\n",
            "k=10 | th=13 | head: 37.35% | tail: 55.45% | overall: 48.23%\n",
            "k=10 | th=14 | head: 36.23% | tail: 53.51% | overall: 46.62%\n",
            "k=10 | th=15 | head: 35.34% | tail: 51.60% | overall: 45.11%\n",
            "k=10 | th=16 | head: 34.67% | tail: 50.12% | overall: 43.95%\n",
            "k=10 | th=17 | head: 34.08% | tail: 48.84% | overall: 42.95%\n",
            "k=10 | th=18 | head: 33.55% | tail: 47.71% | overall: 42.06%\n",
            "k=10 | th=19 | head: 33.09% | tail: 46.64% | overall: 41.23%\n",
            "k=10 | th=20 | head: 32.82% | tail: 45.73% | overall: 40.58%\n",
            "k=10 | th=30 | head: 29.35% | tail: 40.86% | overall: 36.27%\n",
            "k=10 | th=40 | head: 27.84% | tail: 38.60% | overall: 34.30%\n",
            "k=10 | th=50 | head: 26.41% | tail: 37.30% | overall: 32.95%\n"
          ]
        }
      ],
      "source": [
        "# Define the mapping of k values to their respective threshold lists\n",
        "k_threshold_mapping = {\n",
        "    1: [1,2, 3,4, 5,6,7,8,9,10, 20, 30, 40, 50],\n",
        "    3: [3,4,5,6,7,8,9, 10, 20, 30, 40, 50],\n",
        "    5: [5,6,7,8,9, 10, 20, 30, 40, 50],\n",
        "    10: [10,11,12,13,14,15,16,17,18,19, 20, 30, 40, 50]\n",
        "}\n",
        "\n",
        "# Iterate through the mapping and print results on the fly\n",
        "for k, threshold_values in k_threshold_mapping.items():\n",
        "    for threshold in threshold_values:\n",
        "        # Evaluate for head\n",
        "        total_count_head, hit_count_head = tripleEvaluator.rerank(k=k, model=best_xgb, threshold=threshold, evaluate_for=\"head\")\n",
        "        head_percentage = hit_count_head / total_count_head * 100\n",
        "\n",
        "        # Evaluate for tail\n",
        "        total_count_tail, hit_count_tail = tripleEvaluator.rerank(k=k, model=best_xgb, threshold=threshold, evaluate_for=\"tail\")\n",
        "        tail_percentage = hit_count_tail / total_count_tail * 100\n",
        "\n",
        "        # Calculate overall metrics\n",
        "        overall_hit_count = hit_count_head + hit_count_tail\n",
        "        overall_total_count = total_count_head + total_count_tail\n",
        "        overall_percentage = (overall_hit_count / overall_total_count) * 100\n",
        "\n",
        "        # Print results immediately\n",
        "        print(\n",
        "            f\"k={k} | th={threshold} | \"\n",
        "            f\"head: {head_percentage:.2f}% | tail: {tail_percentage:.2f}% | overall: {overall_percentage:.2f}%\"\n",
        "        )"
      ]
    },
    {
      "cell_type": "code",
      "execution_count": 18,
      "metadata": {
        "colab": {
          "base_uri": "https://localhost:8080/"
        },
        "id": "nI-JrkLNPn4D",
        "outputId": "1614192b-9a8f-416a-835e-02bb76a441cd"
      },
      "outputs": [
        {
          "name": "stdout",
          "output_type": "stream",
          "text": [
            "k=1 | th=1 | head: 11.93% | tail: 31.18% | overall: 23.50%\n",
            "k=1 | th=2 | head: 13.23% | tail: 32.82% | overall: 25.00%\n",
            "k=1 | th=3 | head: 12.48% | tail: 31.08% | overall: 23.66%\n",
            "k=1 | th=4 | head: 11.26% | tail: 28.91% | overall: 21.87%\n",
            "k=1 | th=5 | head: 10.62% | tail: 27.27% | overall: 20.63%\n",
            "k=1 | th=6 | head: 10.16% | tail: 25.71% | overall: 19.50%\n",
            "k=1 | th=7 | head: 9.51% | tail: 24.63% | overall: 18.60%\n",
            "k=1 | th=8 | head: 9.06% | tail: 24.05% | overall: 18.07%\n",
            "k=1 | th=9 | head: 8.80% | tail: 23.69% | overall: 17.75%\n",
            "k=1 | th=10 | head: 8.61% | tail: 23.24% | overall: 17.40%\n",
            "k=1 | th=20 | head: 7.29% | tail: 20.37% | overall: 15.15%\n",
            "k=1 | th=30 | head: 6.44% | tail: 19.10% | overall: 14.05%\n",
            "k=1 | th=40 | head: 5.88% | tail: 18.36% | overall: 13.38%\n",
            "k=1 | th=50 | head: 5.69% | tail: 17.77% | overall: 12.95%\n",
            "k=3 | th=3 | head: 24.30% | tail: 45.69% | overall: 37.16%\n",
            "k=3 | th=4 | head: 24.07% | tail: 44.63% | overall: 36.42%\n",
            "k=3 | th=5 | head: 22.93% | tail: 43.29% | overall: 35.16%\n",
            "k=3 | th=6 | head: 21.28% | tail: 41.32% | overall: 33.32%\n",
            "k=3 | th=7 | head: 20.03% | tail: 38.82% | overall: 31.32%\n",
            "k=3 | th=8 | head: 19.61% | tail: 36.93% | overall: 30.02%\n",
            "k=3 | th=9 | head: 18.66% | tail: 35.55% | overall: 28.81%\n",
            "k=3 | th=10 | head: 18.09% | tail: 34.29% | overall: 27.83%\n",
            "k=3 | th=20 | head: 14.18% | tail: 28.65% | overall: 22.88%\n",
            "k=3 | th=30 | head: 12.37% | tail: 26.46% | overall: 20.84%\n",
            "k=3 | th=40 | head: 11.66% | tail: 24.97% | overall: 19.66%\n",
            "k=3 | th=50 | head: 10.95% | tail: 24.07% | overall: 18.84%\n",
            "k=5 | th=5 | head: 30.91% | tail: 52.62% | overall: 43.95%\n",
            "k=5 | th=6 | head: 30.12% | tail: 50.62% | overall: 42.44%\n",
            "k=5 | th=7 | head: 28.87% | tail: 48.77% | overall: 40.83%\n",
            "k=5 | th=8 | head: 27.31% | tail: 46.95% | overall: 39.12%\n",
            "k=5 | th=9 | head: 26.15% | tail: 45.17% | overall: 37.58%\n",
            "k=5 | th=10 | head: 25.39% | tail: 43.22% | overall: 36.10%\n",
            "k=5 | th=20 | head: 20.04% | tail: 34.63% | overall: 28.81%\n",
            "k=5 | th=30 | head: 17.31% | tail: 31.45% | overall: 25.81%\n",
            "k=5 | th=40 | head: 15.86% | tail: 29.38% | overall: 23.99%\n",
            "k=5 | th=50 | head: 14.63% | tail: 28.09% | overall: 22.72%\n",
            "k=10 | th=10 | head: 40.81% | tail: 60.83% | overall: 52.84%\n",
            "k=10 | th=11 | head: 39.08% | tail: 58.39% | overall: 50.68%\n",
            "k=10 | th=12 | head: 37.75% | tail: 56.62% | overall: 49.09%\n",
            "k=10 | th=13 | head: 36.35% | tail: 54.84% | overall: 47.46%\n",
            "k=10 | th=14 | head: 35.09% | tail: 53.01% | overall: 45.86%\n",
            "k=10 | th=15 | head: 34.23% | tail: 51.25% | overall: 44.46%\n",
            "k=10 | th=16 | head: 33.54% | tail: 49.89% | overall: 43.36%\n",
            "k=10 | th=17 | head: 32.67% | tail: 48.44% | overall: 42.15%\n",
            "k=10 | th=18 | head: 32.12% | tail: 47.45% | overall: 41.33%\n",
            "k=10 | th=19 | head: 31.77% | tail: 46.33% | overall: 40.52%\n",
            "k=10 | th=20 | head: 31.29% | tail: 45.66% | overall: 39.92%\n",
            "k=10 | th=30 | head: 27.12% | tail: 40.53% | overall: 35.18%\n",
            "k=10 | th=40 | head: 24.57% | tail: 37.71% | overall: 32.47%\n",
            "k=10 | th=50 | head: 22.61% | tail: 35.80% | overall: 30.54%\n"
          ]
        }
      ],
      "source": [
        "# Define the mapping of k values to their respective threshold lists\n",
        "k_threshold_mapping = {\n",
        "    1: [1,2, 3,4, 5,6,7,8,9,10, 20, 30, 40, 50],\n",
        "    3: [3,4,5,6,7,8,9, 10, 20, 30, 40, 50],\n",
        "    5: [5,6,7,8,9, 10, 20, 30, 40, 50],\n",
        "    10: [10,11,12,13,14,15,16,17,18,19, 20, 30, 40, 50]\n",
        "}\n",
        "\n",
        "# Iterate through the mapping and print results on the fly\n",
        "for k, threshold_values in k_threshold_mapping.items():\n",
        "    for threshold in threshold_values:\n",
        "        # Evaluate for head\n",
        "        total_count_head, hit_count_head = tripleEvaluator.rerank(k=k, model=best_lgbm, threshold=threshold, evaluate_for=\"head\")\n",
        "        head_percentage = hit_count_head / total_count_head * 100\n",
        "\n",
        "        # Evaluate for tail\n",
        "        total_count_tail, hit_count_tail = tripleEvaluator.rerank(k=k, model=best_lgbm, threshold=threshold, evaluate_for=\"tail\")\n",
        "        tail_percentage = hit_count_tail / total_count_tail * 100\n",
        "\n",
        "        # Calculate overall metrics\n",
        "        overall_hit_count = hit_count_head + hit_count_tail\n",
        "        overall_total_count = total_count_head + total_count_tail\n",
        "        overall_percentage = (overall_hit_count / overall_total_count) * 100\n",
        "\n",
        "        # Print results immediately\n",
        "        print(\n",
        "            f\"k={k} | th={threshold} | \"\n",
        "            f\"head: {head_percentage:.2f}% | tail: {tail_percentage:.2f}% | overall: {overall_percentage:.2f}%\"\n",
        "        )"
      ]
    },
    {
      "cell_type": "code",
      "execution_count": 19,
      "metadata": {
        "colab": {
          "base_uri": "https://localhost:8080/"
        },
        "id": "SfckpZ0vgt-J",
        "outputId": "2f7e369e-7abc-4023-a65c-cfefc78d22fd"
      },
      "outputs": [
        {
          "name": "stdout",
          "output_type": "stream",
          "text": [
            "k=1 | th=1 | head: 11.93% | tail: 31.18% | overall: 23.50%\n",
            "k=1 | th=2 | head: 14.50% | tail: 34.37% | overall: 26.44%\n",
            "k=1 | th=3 | head: 13.67% | tail: 32.42% | overall: 24.93%\n",
            "k=1 | th=4 | head: 12.44% | tail: 30.40% | overall: 23.23%\n",
            "k=1 | th=5 | head: 11.72% | tail: 28.46% | overall: 21.78%\n",
            "k=1 | th=6 | head: 11.25% | tail: 27.02% | overall: 20.73%\n",
            "k=1 | th=7 | head: 10.74% | tail: 26.26% | overall: 20.07%\n",
            "k=1 | th=8 | head: 10.53% | tail: 25.47% | overall: 19.51%\n",
            "k=1 | th=9 | head: 10.35% | tail: 24.96% | overall: 19.13%\n",
            "k=1 | th=10 | head: 9.99% | tail: 24.47% | overall: 18.69%\n",
            "k=1 | th=20 | head: 8.84% | tail: 22.11% | overall: 16.82%\n",
            "k=1 | th=30 | head: 8.13% | tail: 21.27% | overall: 16.03%\n",
            "k=1 | th=40 | head: 7.73% | tail: 20.70% | overall: 15.53%\n",
            "k=1 | th=50 | head: 7.50% | tail: 20.36% | overall: 15.23%\n",
            "k=3 | th=3 | head: 24.30% | tail: 45.69% | overall: 37.16%\n",
            "k=3 | th=4 | head: 24.85% | tail: 45.58% | overall: 37.31%\n",
            "k=3 | th=5 | head: 24.04% | tail: 44.38% | overall: 36.26%\n",
            "k=3 | th=6 | head: 22.84% | tail: 42.29% | overall: 34.53%\n",
            "k=3 | th=7 | head: 22.01% | tail: 39.89% | overall: 32.75%\n",
            "k=3 | th=8 | head: 21.39% | tail: 37.66% | overall: 31.17%\n",
            "k=3 | th=9 | head: 20.59% | tail: 36.48% | overall: 30.14%\n",
            "k=3 | th=10 | head: 20.05% | tail: 35.26% | overall: 29.19%\n",
            "k=3 | th=20 | head: 16.94% | tail: 30.43% | overall: 25.04%\n",
            "k=3 | th=30 | head: 15.35% | tail: 28.55% | overall: 23.28%\n",
            "k=3 | th=40 | head: 14.50% | tail: 27.60% | overall: 22.37%\n",
            "k=3 | th=50 | head: 13.73% | tail: 26.96% | overall: 21.68%\n",
            "k=5 | th=5 | head: 30.91% | tail: 52.62% | overall: 43.95%\n",
            "k=5 | th=6 | head: 30.84% | tail: 51.27% | overall: 43.11%\n",
            "k=5 | th=7 | head: 29.76% | tail: 49.55% | overall: 41.65%\n",
            "k=5 | th=8 | head: 28.54% | tail: 47.60% | overall: 40.00%\n",
            "k=5 | th=9 | head: 27.86% | tail: 45.68% | overall: 38.57%\n",
            "k=5 | th=10 | head: 27.47% | tail: 43.83% | overall: 37.30%\n",
            "k=5 | th=20 | head: 23.05% | tail: 35.91% | overall: 30.78%\n",
            "k=5 | th=30 | head: 20.96% | tail: 33.24% | overall: 28.34%\n",
            "k=5 | th=40 | head: 19.58% | tail: 31.96% | overall: 27.02%\n",
            "k=5 | th=50 | head: 18.43% | tail: 30.85% | overall: 25.89%\n",
            "k=10 | th=10 | head: 40.81% | tail: 60.83% | overall: 52.84%\n",
            "k=10 | th=11 | head: 39.77% | tail: 58.95% | overall: 51.29%\n",
            "k=10 | th=12 | head: 38.34% | tail: 57.17% | overall: 49.65%\n",
            "k=10 | th=13 | head: 37.03% | tail: 55.23% | overall: 47.97%\n",
            "k=10 | th=14 | head: 36.27% | tail: 53.44% | overall: 46.59%\n",
            "k=10 | th=15 | head: 35.76% | tail: 51.53% | overall: 45.23%\n",
            "k=10 | th=16 | head: 35.19% | tail: 50.13% | overall: 44.17%\n",
            "k=10 | th=17 | head: 34.32% | tail: 48.70% | overall: 42.96%\n",
            "k=10 | th=18 | head: 33.79% | tail: 47.78% | overall: 42.20%\n",
            "k=10 | th=19 | head: 33.26% | tail: 46.89% | overall: 41.45%\n",
            "k=10 | th=20 | head: 32.89% | tail: 46.06% | overall: 40.80%\n",
            "k=10 | th=30 | head: 30.40% | tail: 41.26% | overall: 36.92%\n",
            "k=10 | th=40 | head: 29.01% | tail: 39.46% | overall: 35.29%\n",
            "k=10 | th=50 | head: 27.05% | tail: 37.91% | overall: 33.57%\n"
          ]
        }
      ],
      "source": [
        "# Define the mapping of k values to their respective threshold lists\n",
        "k_threshold_mapping = {\n",
        "    1: [1,2, 3,4, 5,6,7,8,9,10, 20, 30, 40, 50],\n",
        "    3: [3,4,5,6,7,8,9, 10, 20, 30, 40, 50],\n",
        "    5: [5,6,7,8,9, 10, 20, 30, 40, 50],\n",
        "    10: [10,11,12,13,14,15,16,17,18,19, 20, 30, 40, 50]\n",
        "}\n",
        "\n",
        "# Iterate through the mapping and print results on the fly\n",
        "for k, threshold_values in k_threshold_mapping.items():\n",
        "    for threshold in threshold_values:\n",
        "        # Evaluate for head\n",
        "        total_count_head, hit_count_head = tripleEvaluator.rerank(k=k, model=ensemble_model, threshold=threshold, evaluate_for=\"head\")\n",
        "        head_percentage = hit_count_head / total_count_head * 100\n",
        "\n",
        "        # Evaluate for tail\n",
        "        total_count_tail, hit_count_tail = tripleEvaluator.rerank(k=k, model=ensemble_model, threshold=threshold, evaluate_for=\"tail\")\n",
        "        tail_percentage = hit_count_tail / total_count_tail * 100\n",
        "\n",
        "        # Calculate overall metrics\n",
        "        overall_hit_count = hit_count_head + hit_count_tail\n",
        "        overall_total_count = total_count_head + total_count_tail\n",
        "        overall_percentage = (overall_hit_count / overall_total_count) * 100\n",
        "\n",
        "        # Print results immediately\n",
        "        print(\n",
        "            f\"k={k} | th={threshold} | \"\n",
        "            f\"head: {head_percentage:.2f}% | tail: {tail_percentage:.2f}% | overall: {overall_percentage:.2f}%\"\n",
        "        )"
      ]
    }
  ],
  "metadata": {
    "colab": {
      "machine_shape": "hm",
      "provenance": []
    },
    "kernelspec": {
      "display_name": "Python 3",
      "name": "python3"
    },
    "language_info": {
      "name": "python"
    }
  },
  "nbformat": 4,
  "nbformat_minor": 0
}
