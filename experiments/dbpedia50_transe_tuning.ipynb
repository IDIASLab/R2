{
  "cells": [
    {
      "cell_type": "code",
      "execution_count": null,
      "metadata": {
        "id": "X5k8WFGpevba"
      },
      "outputs": [],
      "source": [
        "#!pip uninstall scikit-learn\n",
        "#!pip install scikit-learn==1.5.2"
      ]
    },
    {
      "cell_type": "code",
      "execution_count": null,
      "metadata": {
        "id": "W7uPMNxqSZXX"
      },
      "outputs": [],
      "source": [
        "import pandas as pd\n",
        "import numpy as np\n",
        "from tqdm import tqdm\n",
        "import pickle\n",
        "import time\n",
        "from sklearn.metrics import accuracy_score, precision_score, recall_score, f1_score,roc_curve,auc,classification_report,make_scorer\n",
        "from sklearn.model_selection import train_test_split,GridSearchCV\n",
        "from sklearn.neural_network import MLPClassifier\n",
        "from sklearn.ensemble import VotingClassifier\n",
        "from lightgbm import LGBMClassifier\n",
        "from xgboost import XGBClassifier\n",
        "\n",
        "from link_prediction import *"
      ]
    },
    {
      "cell_type": "code",
      "execution_count": null,
      "metadata": {
        "id": "v4rpvOhwSxVE"
      },
      "outputs": [],
      "source": [
        "#Load the entity embeddings dict\n",
        "with open(\"dbpedia50_transe_entity_embeddings.pkl\", \"rb\") as f:\n",
        "    entity_embeddings = pickle.load(f)\n",
        "#Load the predicate embeddings dict\n",
        "with open(\"dbpedia50_transe_predicate_embeddings.pkl\", \"rb\") as f:\n",
        "    predicate_embeddings = pickle.load(f)\n",
        "\n",
        "train_triples = pd.read_csv('dbpedia50_train.csv', dtype=str)\n",
        "test_triples = pd.read_csv('dbpedia50_test_filtered.csv', dtype=str)"
      ]
    },
    {
      "cell_type": "markdown",
      "metadata": {
        "id": "vUmY423XWjUn"
      },
      "source": [
        "**Create Negative Samples**"
      ]
    },
    {
      "cell_type": "code",
      "execution_count": 4,
      "metadata": {
        "colab": {
          "base_uri": "https://localhost:8080/"
        },
        "id": "0VYaBwd_S6Ni",
        "outputId": "6de38372-fff8-4cfc-ba0c-e2458286b342"
      },
      "outputs": [
        {
          "name": "stderr",
          "output_type": "stream",
          "text": [
            "Processing triples: 100%|██████████| 32388/32388 [01:58<00:00, 272.17triple/s] \n",
            "Processing triples: 100%|██████████| 32388/32388 [00:42<00:00, 758.48triple/s] "
          ]
        },
        {
          "name": "stdout",
          "output_type": "stream",
          "text": [
            "29346\n",
            "11854\n"
          ]
        },
        {
          "name": "stderr",
          "output_type": "stream",
          "text": [
            "\n"
          ]
        }
      ],
      "source": [
        "training_object=Training(entity_embeddings,predicate_embeddings,train_triples,test_triples, model='TransE')\n",
        "tail_df = training_object.create_training_data_filtered(n=1, creating_for=\"tail\")\n",
        "head_df = training_object.create_training_data_filtered(n=1, creating_for=\"head\")\n",
        "print(len(tail_df))\n",
        "print(len(head_df))"
      ]
    },
    {
      "cell_type": "markdown",
      "metadata": {
        "id": "8js9F5XPTLq3"
      },
      "source": [
        "**Prepare Training Data**"
      ]
    },
    {
      "cell_type": "code",
      "execution_count": 5,
      "metadata": {
        "colab": {
          "base_uri": "https://localhost:8080/",
          "height": 178
        },
        "id": "qOXSQ_U0TEOd",
        "outputId": "99e94dc9-a359-45d0-dbae-0dc2f5c39005"
      },
      "outputs": [
        {
          "data": {
            "text/html": [
              "<div>\n",
              "<style scoped>\n",
              "    .dataframe tbody tr th:only-of-type {\n",
              "        vertical-align: middle;\n",
              "    }\n",
              "\n",
              "    .dataframe tbody tr th {\n",
              "        vertical-align: top;\n",
              "    }\n",
              "\n",
              "    .dataframe thead th {\n",
              "        text-align: right;\n",
              "    }\n",
              "</style>\n",
              "<table border=\"1\" class=\"dataframe\">\n",
              "  <thead>\n",
              "    <tr style=\"text-align: right;\">\n",
              "      <th></th>\n",
              "      <th>count</th>\n",
              "    </tr>\n",
              "    <tr>\n",
              "      <th>label</th>\n",
              "      <th></th>\n",
              "    </tr>\n",
              "  </thead>\n",
              "  <tbody>\n",
              "    <tr>\n",
              "      <th>0</th>\n",
              "      <td>40018</td>\n",
              "    </tr>\n",
              "    <tr>\n",
              "      <th>1</th>\n",
              "      <td>32203</td>\n",
              "    </tr>\n",
              "  </tbody>\n",
              "</table>\n",
              "</div><br><label><b>dtype:</b> int64</label>"
            ],
            "text/plain": [
              "label\n",
              "0    40018\n",
              "1    32203\n",
              "Name: count, dtype: int64"
            ]
          },
          "execution_count": 5,
          "metadata": {},
          "output_type": "execute_result"
        }
      ],
      "source": [
        "train_triples['label']=1\n",
        "train_df = pd.concat([head_df,tail_df,train_triples], axis=0)\n",
        "# Reset the index\n",
        "train_df.reset_index(drop=True, inplace=True)\n",
        "# Drop duplicate rows\n",
        "train_df.drop_duplicates(inplace=True)\n",
        "# Step 1: Prepare the training data\n",
        "train_df['embedding'] = train_df.apply(lambda row: training_object.get_embedding(row).cpu().numpy(), axis=1)\n",
        "X_train = np.vstack(train_df['embedding'].values)  # Stack embeddings into a matrix\n",
        "y_train = train_df['label'].values  # Labels\n",
        "# Step 1: Split the data into training and test sets with stratification\n",
        "X_train, X_test, y_train, y_test = train_test_split(\n",
        "    np.vstack(train_df['embedding'].values),  # Embeddings matrix\n",
        "    train_df['label'].values,                # Labels\n",
        "    test_size=0.1,                           # 10% of the data for testing\n",
        "    random_state=42,                         # For reproducibility\n",
        "    stratify=train_df['label'].values        # Maintain label distribution\n",
        ")\n",
        "train_df['label'].value_counts()"
      ]
    },
    {
      "cell_type": "markdown",
      "metadata": {
        "id": "BewwL105Telw"
      },
      "source": [
        "**Set Models**"
      ]
    },
    {
      "cell_type": "markdown",
      "metadata": {
        "id": "FGzknXtLORux"
      },
      "source": [
        "**MLP**"
      ]
    },
    {
      "cell_type": "code",
      "execution_count": 6,
      "metadata": {
        "id": "CUoEJsgLHUe5"
      },
      "outputs": [],
      "source": [
        "import warnings\n",
        "from sklearn.exceptions import ConvergenceWarning\n",
        "warnings.simplefilter(\"ignore\", ConvergenceWarning)"
      ]
    },
    {
      "cell_type": "code",
      "execution_count": 7,
      "metadata": {
        "colab": {
          "base_uri": "https://localhost:8080/"
        },
        "id": "4Ep1UaH6TPR_",
        "outputId": "e5d47d4a-8954-46fa-9fad-ef956311da3f"
      },
      "outputs": [
        {
          "name": "stdout",
          "output_type": "stream",
          "text": [
            "Best parameters for MLP: {'hidden_layer_sizes': (256, 256), 'alpha': 0.01, 'learning_rate_init': 0.001, 'max_iter': 100, 'f1_score': 0.8302895322939866, 'accuracy': 0.8417555032534958, 'precision_0': 0.8854138581827986, 'precision_1': 0.7956744450768355, 'recall_0': 0.8205897051474262, 'recall_1': 0.8680533995653523}\n"
          ]
        }
      ],
      "source": [
        "param_grid_mlp = {\n",
        "    'hidden_layer_sizes': [(32, 32), (64, 64), (128, 128), (256, 256)],\n",
        "    'alpha': [0.0001, 0.001, 0.01, 0.1],\n",
        "    'learning_rate_init': [0.001, 0.01, 0.1],\n",
        "    'max_iter': [25, 50, 100]\n",
        "}\n",
        "\n",
        "\n",
        "results_mlp = []\n",
        "for hidden_layer_sizes in param_grid_mlp['hidden_layer_sizes']:\n",
        "    for alpha in param_grid_mlp['alpha']:\n",
        "        for learning_rate_init in param_grid_mlp['learning_rate_init']:\n",
        "            for max_iter in param_grid_mlp['max_iter']:\n",
        "                mlp = MLPClassifier(\n",
        "                    hidden_layer_sizes=hidden_layer_sizes,\n",
        "                    alpha=alpha,\n",
        "                    learning_rate_init=learning_rate_init,\n",
        "                    max_iter=max_iter,\n",
        "                    solver='adam',\n",
        "                    early_stopping=True,\n",
        "                    batch_size=32,\n",
        "                    random_state=42\n",
        "                )\n",
        "                mlp.fit(X_train, y_train)\n",
        "                preds = mlp.predict(X_test)\n",
        "\n",
        "                # Calculate metrics\n",
        "                score_f1 = f1_score(y_test, preds)\n",
        "                acc = accuracy_score(y_test, preds)\n",
        "                precisions = precision_score(y_test, preds, average=None, zero_division=0)\n",
        "                recalls = recall_score(y_test, preds, average=None, zero_division=0)\n",
        "\n",
        "                results_mlp.append({\n",
        "                    'hidden_layer_sizes': hidden_layer_sizes,\n",
        "                    'alpha': alpha,\n",
        "                    'learning_rate_init': learning_rate_init,\n",
        "                    'max_iter': max_iter,\n",
        "                    'f1_score': score_f1,\n",
        "                    'accuracy': acc,\n",
        "                    'precision_0': precisions[0],\n",
        "                    'precision_1': precisions[1],\n",
        "                    'recall_0': recalls[0],\n",
        "                    'recall_1': recalls[1]\n",
        "                })\n",
        "\n",
        "df_results_mlp = pd.DataFrame(results_mlp)\n",
        "\n",
        "best_mlp_params = df_results_mlp.sort_values(by='f1_score', ascending=False).iloc[0].to_dict()\n",
        "print(\"Best parameters for MLP:\", best_mlp_params)"
      ]
    },
    {
      "cell_type": "markdown",
      "metadata": {
        "id": "S9YJEh-WOP07"
      },
      "source": [
        "**XGB**"
      ]
    },
    {
      "cell_type": "code",
      "execution_count": 8,
      "metadata": {
        "colab": {
          "base_uri": "https://localhost:8080/"
        },
        "id": "zlTfpHrPMA7v",
        "outputId": "db3d62f7-0f98-4d09-f414-bc325f14a064"
      },
      "outputs": [
        {
          "name": "stdout",
          "output_type": "stream",
          "text": [
            "Best parameters for XGBClassifier: {'n_estimators': 300.0, 'max_depth': 5.0, 'learning_rate': 0.2, 'f1_score': 0.7742037212235888, 'accuracy': 0.8017444275231899, 'precision_0': 0.8132618235007314, 'precision_1': 0.7866068567766742, 'recall_0': 0.8335832083958021, 'recall_1': 0.7621856566283762}\n"
          ]
        }
      ],
      "source": [
        "param_grid_xgb = {\n",
        "    'n_estimators': [100, 200, 300],\n",
        "    'max_depth': [5, 10, 15],\n",
        "    # 'scale_pos_weight': [0.5, 1, 2],  # commented out as provided\n",
        "    'learning_rate': [0.01, 0.1, 0.2]\n",
        "}\n",
        "\n",
        "\n",
        "results_xgb = []\n",
        "for n_estimators in param_grid_xgb['n_estimators']:\n",
        "    for max_depth in param_grid_xgb['max_depth']:\n",
        "        for learning_rate in param_grid_xgb['learning_rate']:\n",
        "            xgb = XGBClassifier(\n",
        "                n_estimators=n_estimators,\n",
        "                max_depth=max_depth,\n",
        "                learning_rate=learning_rate,\n",
        "                random_state=42,\n",
        "            )\n",
        "            xgb.fit(X_train, y_train)\n",
        "            preds = xgb.predict(X_test)\n",
        "\n",
        "            # Calculate metrics\n",
        "            score_f1 = f1_score(y_test, preds)\n",
        "            acc = accuracy_score(y_test, preds)\n",
        "            precisions = precision_score(y_test, preds, average=None, zero_division=0)\n",
        "            recalls = recall_score(y_test, preds, average=None, zero_division=0)\n",
        "\n",
        "            results_xgb.append({\n",
        "                'n_estimators': n_estimators,\n",
        "                'max_depth': max_depth,\n",
        "                'learning_rate': learning_rate,\n",
        "                'f1_score': score_f1,\n",
        "                'accuracy': acc,\n",
        "                'precision_0': precisions[0],\n",
        "                'precision_1': precisions[1],\n",
        "                'recall_0': recalls[0],\n",
        "                'recall_1': recalls[1]\n",
        "            })\n",
        "\n",
        "df_results_xgb = pd.DataFrame(results_xgb)\n",
        "best_xgb_params = df_results_xgb.sort_values(by='f1_score', ascending=False).iloc[0].to_dict()\n",
        "print(\"Best parameters for XGBClassifier:\", best_xgb_params)"
      ]
    },
    {
      "cell_type": "markdown",
      "metadata": {
        "id": "sBawiIGpOUxY"
      },
      "source": [
        "**LGBM**"
      ]
    },
    {
      "cell_type": "code",
      "execution_count": null,
      "metadata": {
        "colab": {
          "base_uri": "https://localhost:8080/"
        },
        "id": "HKdY6e6LMCG8",
        "outputId": "3975b70a-0281-4b2b-ced9-89f2aefab68f"
      },
      "outputs": [],
      "source": [
        "param_grid_lgbm = {\n",
        "    'n_estimators': [100, 200, 300],\n",
        "    'max_depth': [5, 10, 15],\n",
        "    'learning_rate': [0.01, 0.1, 0.2],\n",
        "    'is_unbalance': [True, False]\n",
        "}\n",
        "\n",
        "results_lgbm = []\n",
        "for n_estimators in param_grid_lgbm['n_estimators']:\n",
        "    for max_depth in param_grid_lgbm['max_depth']:\n",
        "        for learning_rate in param_grid_lgbm['learning_rate']:\n",
        "            for is_unbalance in param_grid_lgbm['is_unbalance']:\n",
        "                lgbm = LGBMClassifier(\n",
        "                    n_estimators=n_estimators,\n",
        "                    max_depth=max_depth,\n",
        "                    learning_rate=learning_rate,\n",
        "                    is_unbalance=is_unbalance,\n",
        "                    random_state=42\n",
        "                )\n",
        "                lgbm.fit(X_train, y_train)\n",
        "                preds = lgbm.predict(X_test)\n",
        "\n",
        "                # Calculate metrics\n",
        "                score_f1 = f1_score(y_test, preds)\n",
        "                acc = accuracy_score(y_test, preds)\n",
        "                precisions = precision_score(y_test, preds, average=None, zero_division=0)\n",
        "                recalls = recall_score(y_test, preds, average=None, zero_division=0)\n",
        "\n",
        "                results_lgbm.append({\n",
        "                    'n_estimators': n_estimators,\n",
        "                    'max_depth': max_depth,\n",
        "                    'learning_rate': learning_rate,\n",
        "                    'is_unbalance': is_unbalance,\n",
        "                    'f1_score': score_f1,\n",
        "                    'accuracy': acc,\n",
        "                    'precision_0': precisions[0],\n",
        "                    'precision_1': precisions[1],\n",
        "                    'recall_0': recalls[0],\n",
        "                    'recall_1': recalls[1]\n",
        "                })\n",
        "\n",
        "df_results_lgbm = pd.DataFrame(results_lgbm)\n",
        "best_lgbm_params = df_results_lgbm.sort_values(by='f1_score', ascending=False).iloc[0].to_dict()\n",
        "print(\"Best parameters for LGBM:\", best_lgbm_params)"
      ]
    },
    {
      "cell_type": "markdown",
      "metadata": {
        "id": "g3wpa-6XTijx"
      },
      "source": [
        "**Train Ensemble**"
      ]
    },
    {
      "cell_type": "code",
      "execution_count": null,
      "metadata": {
        "colab": {
          "base_uri": "https://localhost:8080/"
        },
        "id": "hh_nSA9ATkra",
        "outputId": "da9d4c97-dc5e-4304-cf40-58b6f83aeba4"
      },
      "outputs": [],
      "source": [
        "# Best MLPClassifier\n",
        "best_mlp = MLPClassifier(\n",
        "    hidden_layer_sizes=best_mlp_params['hidden_layer_sizes'],\n",
        "    alpha=best_mlp_params['alpha'],\n",
        "    learning_rate_init=best_mlp_params['learning_rate_init'],\n",
        "    max_iter=best_mlp_params['max_iter'],\n",
        "    solver='adam',\n",
        "    early_stopping=True,\n",
        "    batch_size=32,\n",
        "    random_state=42\n",
        ")\n",
        "best_mlp.fit(X_train, y_train)\n",
        "preds_mlp = best_mlp.predict(X_test)\n",
        "report_mlp = classification_report(y_test, preds_mlp)\n",
        "\n",
        "# Best XGBClassifier\n",
        "best_xgb = XGBClassifier(\n",
        "    n_estimators=int(best_xgb_params['n_estimators']),\n",
        "    max_depth=int(best_xgb_params['max_depth']),\n",
        "    learning_rate=float(best_xgb_params['learning_rate']),\n",
        "    random_state=42,\n",
        ")\n",
        "best_xgb.fit(X_train, y_train)\n",
        "preds_xgb = best_xgb.predict(X_test)\n",
        "report_xgb = classification_report(y_test, preds_xgb)\n",
        "\n",
        "# Best LGBMClassifier\n",
        "best_lgbm = LGBMClassifier(\n",
        "    n_estimators=best_lgbm_params['n_estimators'],\n",
        "    max_depth=best_lgbm_params['max_depth'],\n",
        "    learning_rate=best_lgbm_params['learning_rate'],\n",
        "    is_unbalance=best_lgbm_params['is_unbalance'],\n",
        "    random_state=42\n",
        ")\n",
        "best_lgbm.fit(X_train, y_train)\n",
        "preds_lgbm = best_lgbm.predict(X_test)\n",
        "report_lgbm = classification_report(y_test, preds_lgbm)\n",
        "\n",
        "######################################\n",
        "# Ensemble the best models using VotingClassifier\n",
        "######################################\n",
        "ensemble_model = VotingClassifier(\n",
        "    estimators=[\n",
        "        ('mlp', best_mlp),\n",
        "        ('xgb', best_xgb),\n",
        "        ('lgbm', best_lgbm)\n",
        "    ],\n",
        "    voting='soft',  # Soft voting uses predicted probabilities\n",
        "    n_jobs=-1\n",
        ")\n",
        "\n",
        "start_time = time.time()\n",
        "ensemble_model.fit(X_train, y_train)\n",
        "end_time = time.time()\n",
        "\n",
        "ensemble_time = end_time - start_time\n",
        "preds_ensemble = ensemble_model.predict(X_test)\n",
        "ensemble_acc = accuracy_score(y_test, preds_ensemble)\n",
        "report_ensemble = classification_report(y_test, preds_ensemble)"
      ]
    },
    {
      "cell_type": "code",
      "execution_count": 18,
      "metadata": {
        "colab": {
          "base_uri": "https://localhost:8080/"
        },
        "id": "k5DyVfR1gsKV",
        "outputId": "76010e90-778e-444d-eb61-05b0e6bac4b1"
      },
      "outputs": [
        {
          "name": "stderr",
          "output_type": "stream",
          "text": [
            "/usr/local/lib/python3.11/dist-packages/sklearn/utils/deprecation.py:151: FutureWarning: 'force_all_finite' was renamed to 'ensure_all_finite' in 1.6 and will be removed in 1.8.\n",
            "  warnings.warn(\n"
          ]
        },
        {
          "name": "stdout",
          "output_type": "stream",
          "text": [
            "Ensemble Accuracy: 0.8520005537865153\n",
            "Ensemble Classification Report:\n",
            "               precision    recall  f1-score   support\n",
            "\n",
            "           0       0.87      0.86      0.87      4002\n",
            "           1       0.83      0.84      0.83      3221\n",
            "\n",
            "    accuracy                           0.85      7223\n",
            "   macro avg       0.85      0.85      0.85      7223\n",
            "weighted avg       0.85      0.85      0.85      7223\n",
            "\n"
          ]
        }
      ],
      "source": [
        "preds_ensemble = ensemble_model.predict(X_test)\n",
        "print(\"Ensemble Accuracy:\", accuracy_score(y_test, preds_ensemble))\n",
        "print(\"Ensemble Classification Report:\\n\", classification_report(y_test, preds_ensemble))"
      ]
    },
    {
      "cell_type": "code",
      "execution_count": null,
      "metadata": {
        "colab": {
          "base_uri": "https://localhost:8080/"
        },
        "id": "hP5YiceFI-AW",
        "outputId": "fb52089d-c594-47c5-cbbb-112beeea419f"
      },
      "outputs": [
        {
          "name": "stdout",
          "output_type": "stream",
          "text": [
            "Results saved to model_results.txt\n"
          ]
        }
      ],
      "source": [
        "with open(\"/content/drive/MyDrive/link_prediction/tuning/dbpedia50_transe_tuning.txt\", \"w\") as f:\n",
        "    f.write(\"##############################\\n\")\n",
        "    f.write(\"MLPClassifier Full Results\\n\")\n",
        "    f.write(\"##############################\\n\")\n",
        "    f.write(df_results_mlp.to_string())\n",
        "    f.write(\"\\n\\nBest Parameters for MLPClassifier:\\n\")\n",
        "    f.write(str(best_mlp_params))\n",
        "    f.write(\"\\n\\nClassification Report for Best MLPClassifier:\\n\")\n",
        "    f.write(report_mlp)\n",
        "\n",
        "    f.write(\"\\n\\n\\n##############################\\n\")\n",
        "    f.write(\"XGBClassifier Full Results\\n\")\n",
        "    f.write(\"##############################\\n\")\n",
        "    f.write(df_results_xgb.to_string())\n",
        "    f.write(\"\\n\\nBest Parameters for XGBClassifier:\\n\")\n",
        "    f.write(str(best_xgb_params))\n",
        "    f.write(\"\\n\\nClassification Report for Best XGBClassifier:\\n\")\n",
        "    f.write(report_xgb)\n",
        "\n",
        "    f.write(\"\\n\\n\\n##############################\\n\")\n",
        "    f.write(\"LGBMClassifier Full Results\\n\")\n",
        "    f.write(\"##############################\\n\")\n",
        "    f.write(df_results_lgbm.to_string())\n",
        "    f.write(\"\\n\\nBest Parameters for LGBMClassifier:\\n\")\n",
        "    f.write(str(best_lgbm_params))\n",
        "    f.write(\"\\n\\nClassification Report for Best LGBMClassifier:\\n\")\n",
        "    f.write(report_lgbm)\n",
        "\n",
        "    f.write(\"\\n\\n\\n##############################\\n\")\n",
        "    f.write(\"Ensemble Model Performance\\n\")\n",
        "    f.write(\"##############################\\n\")\n",
        "    f.write(\"Ensemble Accuracy: {:.4f}\\n\".format(ensemble_acc))\n",
        "    f.write(\"Ensemble Classification Report:\\n\")\n",
        "    f.write(report_ensemble)\n",
        "\n",
        "print(\"Results saved to model_results.txt\")"
      ]
    },
    {
      "cell_type": "markdown",
      "metadata": {
        "id": "LaaXmNZEUIB1"
      },
      "source": [
        "**Rerank Hitk**"
      ]
    },
    {
      "cell_type": "code",
      "execution_count": 20,
      "metadata": {
        "id": "NklFNH7RUlTM"
      },
      "outputs": [],
      "source": [
        "import warnings\n",
        "warnings.simplefilter(action='ignore', category=FutureWarning)"
      ]
    },
    {
      "cell_type": "code",
      "execution_count": 21,
      "metadata": {
        "colab": {
          "base_uri": "https://localhost:8080/"
        },
        "id": "8bcKVBNzUjTD",
        "outputId": "4e97bb30-24eb-460d-facf-122bb2084848"
      },
      "outputs": [
        {
          "name": "stderr",
          "output_type": "stream",
          "text": [
            "Precomputing top-k predictions: 100%|██████████| 2098/2098 [00:23<00:00, 88.16it/s]\n"
          ]
        }
      ],
      "source": [
        "tripleEvaluator=TripleEvaluator(entity_embeddings,predicate_embeddings,train_triples,test_triples, model='TransE', k=50)"
      ]
    },
    {
      "cell_type": "code",
      "execution_count": 22,
      "metadata": {
        "colab": {
          "base_uri": "https://localhost:8080/"
        },
        "id": "D3XXGZChPo76",
        "outputId": "3961fa20-9846-44a3-dd0b-2773e74294ee"
      },
      "outputs": [
        {
          "name": "stdout",
          "output_type": "stream",
          "text": [
            "k=1 | th=1 | head: 15.65% | tail: 35.86% | overall: 27.91%\n",
            "k=1 | th=2 | head: 19.08% | tail: 38.86% | overall: 31.08%\n",
            "k=1 | th=3 | head: 18.26% | tail: 38.57% | overall: 30.58%\n",
            "k=1 | th=4 | head: 18.11% | tail: 37.41% | overall: 29.82%\n",
            "k=1 | th=5 | head: 17.51% | tail: 37.36% | overall: 29.55%\n",
            "k=1 | th=6 | head: 17.59% | tail: 36.64% | overall: 29.14%\n",
            "k=1 | th=7 | head: 17.66% | tail: 36.64% | overall: 29.17%\n",
            "k=1 | th=8 | head: 17.73% | tail: 36.54% | overall: 29.14%\n",
            "k=1 | th=9 | head: 17.81% | tail: 36.35% | overall: 29.05%\n",
            "k=1 | th=10 | head: 17.73% | tail: 35.81% | overall: 28.70%\n",
            "k=1 | th=20 | head: 17.06% | tail: 34.36% | overall: 27.56%\n",
            "k=1 | th=30 | head: 16.84% | tail: 33.74% | overall: 27.09%\n",
            "k=1 | th=40 | head: 16.47% | tail: 33.06% | overall: 26.53%\n",
            "k=1 | th=50 | head: 16.47% | tail: 32.53% | overall: 26.21%\n",
            "k=3 | th=3 | head: 43.82% | tail: 58.53% | overall: 52.74%\n",
            "k=3 | th=4 | head: 43.07% | tail: 58.72% | overall: 52.57%\n",
            "k=3 | th=5 | head: 42.32% | tail: 58.39% | overall: 52.07%\n",
            "k=3 | th=6 | head: 41.95% | tail: 57.90% | overall: 51.63%\n",
            "k=3 | th=7 | head: 41.51% | tail: 57.76% | overall: 51.36%\n",
            "k=3 | th=8 | head: 41.28% | tail: 57.56% | overall: 51.16%\n",
            "k=3 | th=9 | head: 41.13% | tail: 57.18% | overall: 50.86%\n",
            "k=3 | th=10 | head: 40.54% | tail: 56.74% | overall: 50.37%\n",
            "k=3 | th=20 | head: 39.94% | tail: 54.66% | overall: 48.87%\n",
            "k=3 | th=30 | head: 39.34% | tail: 54.28% | overall: 48.40%\n",
            "k=3 | th=40 | head: 38.90% | tail: 53.65% | overall: 47.85%\n",
            "k=3 | th=50 | head: 38.52% | tail: 52.97% | overall: 47.29%\n",
            "k=5 | th=5 | head: 47.09% | tail: 62.83% | overall: 56.64%\n",
            "k=5 | th=6 | head: 46.13% | tail: 62.83% | overall: 56.26%\n",
            "k=5 | th=7 | head: 45.45% | tail: 63.12% | overall: 56.17%\n",
            "k=5 | th=8 | head: 45.45% | tail: 63.17% | overall: 56.20%\n",
            "k=5 | th=9 | head: 45.23% | tail: 62.83% | overall: 55.91%\n",
            "k=5 | th=10 | head: 45.08% | tail: 62.64% | overall: 55.73%\n",
            "k=5 | th=20 | head: 44.86% | tail: 60.08% | overall: 54.09%\n",
            "k=5 | th=30 | head: 44.49% | tail: 59.50% | overall: 53.59%\n",
            "k=5 | th=40 | head: 43.52% | tail: 58.19% | overall: 52.42%\n",
            "k=5 | th=50 | head: 43.52% | tail: 57.61% | overall: 52.07%\n",
            "k=10 | th=10 | head: 50.89% | tail: 68.20% | overall: 61.39%\n",
            "k=10 | th=11 | head: 50.30% | tail: 68.68% | overall: 61.45%\n",
            "k=10 | th=12 | head: 49.70% | tail: 68.78% | overall: 61.27%\n",
            "k=10 | th=13 | head: 49.85% | tail: 68.58% | overall: 61.21%\n",
            "k=10 | th=14 | head: 49.70% | tail: 68.78% | overall: 61.27%\n",
            "k=10 | th=15 | head: 49.40% | tail: 68.58% | overall: 61.04%\n",
            "k=10 | th=16 | head: 49.33% | tail: 68.25% | overall: 60.80%\n",
            "k=10 | th=17 | head: 49.25% | tail: 68.05% | overall: 60.66%\n",
            "k=10 | th=18 | head: 49.18% | tail: 67.91% | overall: 60.54%\n",
            "k=10 | th=19 | head: 48.96% | tail: 68.00% | overall: 60.51%\n",
            "k=10 | th=20 | head: 49.11% | tail: 67.86% | overall: 60.48%\n",
            "k=10 | th=30 | head: 49.18% | tail: 67.13% | overall: 60.07%\n",
            "k=10 | th=40 | head: 48.66% | tail: 65.93% | overall: 59.13%\n",
            "k=10 | th=50 | head: 48.44% | tail: 64.96% | overall: 58.46%\n"
          ]
        }
      ],
      "source": [
        "# Define the mapping of k values to their respective threshold lists\n",
        "k_threshold_mapping = {\n",
        "    1: [1,2,3,4,5,6,7,8,9,10, 20, 30, 40, 50],\n",
        "    3: [3,4,5,6,7,8,9,10, 20, 30, 40, 50],\n",
        "    5: [5,6,7,8,9, 10,20, 30, 40, 50],\n",
        "    10: [10,11,12,13,14,15,16,17,18,19,20, 30, 40, 50]\n",
        "}\n",
        "\n",
        "# Iterate through the mapping and print results on the fly\n",
        "for k, threshold_values in k_threshold_mapping.items():\n",
        "    for threshold in threshold_values:\n",
        "        # Evaluate for head\n",
        "        total_count_head, hit_count_head = tripleEvaluator.rerank(k=k, model=best_mlp, threshold=threshold, evaluate_for=\"head\")\n",
        "        head_percentage = hit_count_head / total_count_head * 100\n",
        "\n",
        "        # Evaluate for tail\n",
        "        total_count_tail, hit_count_tail = tripleEvaluator.rerank(k=k, model=best_mlp, threshold=threshold, evaluate_for=\"tail\")\n",
        "        tail_percentage = hit_count_tail / total_count_tail * 100\n",
        "\n",
        "        # Calculate overall metrics\n",
        "        overall_hit_count = hit_count_head + hit_count_tail\n",
        "        overall_total_count = total_count_head + total_count_tail\n",
        "        overall_percentage = (overall_hit_count / overall_total_count) * 100\n",
        "\n",
        "        # Print results immediately\n",
        "        print(\n",
        "            f\"k={k} | th={threshold} | \"\n",
        "            f\"head: {head_percentage:.2f}% | tail: {tail_percentage:.2f}% | overall: {overall_percentage:.2f}%\"\n",
        "        )"
      ]
    },
    {
      "cell_type": "code",
      "execution_count": 23,
      "metadata": {
        "colab": {
          "base_uri": "https://localhost:8080/"
        },
        "id": "hsbcZJ6fPomJ",
        "outputId": "1e5b507e-3ddc-4e84-a4a4-2b634847113c"
      },
      "outputs": [
        {
          "name": "stdout",
          "output_type": "stream",
          "text": [
            "k=1 | th=1 | head: 15.65% | tail: 35.86% | overall: 27.91%\n",
            "k=1 | th=2 | head: 20.04% | tail: 40.99% | overall: 32.75%\n",
            "k=1 | th=3 | head: 19.67% | tail: 41.52% | overall: 32.92%\n",
            "k=1 | th=4 | head: 18.70% | tail: 40.79% | overall: 32.10%\n",
            "k=1 | th=5 | head: 18.78% | tail: 40.89% | overall: 32.19%\n",
            "k=1 | th=6 | head: 18.48% | tail: 40.94% | overall: 32.10%\n",
            "k=1 | th=7 | head: 18.48% | tail: 41.18% | overall: 32.25%\n",
            "k=1 | th=8 | head: 18.33% | tail: 40.84% | overall: 31.98%\n",
            "k=1 | th=9 | head: 18.18% | tail: 40.45% | overall: 31.69%\n",
            "k=1 | th=10 | head: 18.11% | tail: 40.45% | overall: 31.66%\n",
            "k=1 | th=20 | head: 17.51% | tail: 40.50% | overall: 31.46%\n",
            "k=1 | th=30 | head: 17.44% | tail: 40.31% | overall: 31.31%\n",
            "k=1 | th=40 | head: 17.21% | tail: 40.12% | overall: 31.11%\n",
            "k=1 | th=50 | head: 17.06% | tail: 39.73% | overall: 30.81%\n",
            "k=3 | th=3 | head: 43.82% | tail: 58.53% | overall: 52.74%\n",
            "k=3 | th=4 | head: 42.62% | tail: 59.21% | overall: 52.68%\n",
            "k=3 | th=5 | head: 41.58% | tail: 59.30% | overall: 52.33%\n",
            "k=3 | th=6 | head: 41.13% | tail: 58.97% | overall: 51.95%\n",
            "k=3 | th=7 | head: 40.76% | tail: 59.45% | overall: 52.10%\n",
            "k=3 | th=8 | head: 40.54% | tail: 59.11% | overall: 51.80%\n",
            "k=3 | th=9 | head: 40.39% | tail: 59.06% | overall: 51.72%\n",
            "k=3 | th=10 | head: 40.01% | tail: 58.97% | overall: 51.51%\n",
            "k=3 | th=20 | head: 38.67% | tail: 58.34% | overall: 50.60%\n",
            "k=3 | th=30 | head: 38.08% | tail: 58.19% | overall: 50.28%\n",
            "k=3 | th=40 | head: 37.63% | tail: 57.85% | overall: 49.90%\n",
            "k=3 | th=50 | head: 37.63% | tail: 57.37% | overall: 49.60%\n",
            "k=5 | th=5 | head: 47.09% | tail: 62.83% | overall: 56.64%\n",
            "k=5 | th=6 | head: 46.20% | tail: 63.27% | overall: 56.55%\n",
            "k=5 | th=7 | head: 45.60% | tail: 63.99% | overall: 56.76%\n",
            "k=5 | th=8 | head: 45.75% | tail: 64.23% | overall: 56.96%\n",
            "k=5 | th=9 | head: 45.38% | tail: 64.09% | overall: 56.73%\n",
            "k=5 | th=10 | head: 45.01% | tail: 64.23% | overall: 56.67%\n",
            "k=5 | th=20 | head: 42.85% | tail: 63.51% | overall: 55.38%\n",
            "k=5 | th=30 | head: 42.47% | tail: 63.07% | overall: 54.97%\n",
            "k=5 | th=40 | head: 42.10% | tail: 62.30% | overall: 54.35%\n",
            "k=5 | th=50 | head: 41.95% | tail: 62.01% | overall: 54.12%\n",
            "k=10 | th=10 | head: 50.89% | tail: 68.20% | overall: 61.39%\n",
            "k=10 | th=11 | head: 50.67% | tail: 68.73% | overall: 61.62%\n",
            "k=10 | th=12 | head: 50.52% | tail: 69.07% | overall: 61.77%\n",
            "k=10 | th=13 | head: 50.45% | tail: 69.26% | overall: 61.86%\n",
            "k=10 | th=14 | head: 50.45% | tail: 69.36% | overall: 61.92%\n",
            "k=10 | th=15 | head: 50.30% | tail: 69.74% | overall: 62.09%\n",
            "k=10 | th=16 | head: 50.45% | tail: 69.84% | overall: 62.21%\n",
            "k=10 | th=17 | head: 50.60% | tail: 69.84% | overall: 62.27%\n",
            "k=10 | th=18 | head: 50.52% | tail: 69.74% | overall: 62.18%\n",
            "k=10 | th=19 | head: 50.37% | tail: 69.65% | overall: 62.06%\n",
            "k=10 | th=20 | head: 50.45% | tail: 69.50% | overall: 62.01%\n",
            "k=10 | th=30 | head: 49.33% | tail: 69.26% | overall: 61.42%\n",
            "k=10 | th=40 | head: 48.88% | tail: 68.29% | overall: 60.66%\n",
            "k=10 | th=50 | head: 48.73% | tail: 67.86% | overall: 60.33%\n"
          ]
        }
      ],
      "source": [
        "# Define the mapping of k values to their respective threshold lists\n",
        "k_threshold_mapping = {\n",
        "    1: [1,2, 3,4, 5,6,7,8,9,10, 20, 30, 40, 50],\n",
        "    3: [3,4,5,6,7,8,9, 10, 20, 30, 40, 50],\n",
        "    5: [5,6,7,8,9, 10, 20, 30, 40, 50],\n",
        "    10: [10,11,12,13,14,15,16,17,18,19, 20, 30, 40, 50]\n",
        "}\n",
        "\n",
        "# Iterate through the mapping and print results on the fly\n",
        "for k, threshold_values in k_threshold_mapping.items():\n",
        "    for threshold in threshold_values:\n",
        "        # Evaluate for head\n",
        "        total_count_head, hit_count_head = tripleEvaluator.rerank(k=k, model=best_xgb, threshold=threshold, evaluate_for=\"head\")\n",
        "        head_percentage = hit_count_head / total_count_head * 100\n",
        "\n",
        "        # Evaluate for tail\n",
        "        total_count_tail, hit_count_tail = tripleEvaluator.rerank(k=k, model=best_xgb, threshold=threshold, evaluate_for=\"tail\")\n",
        "        tail_percentage = hit_count_tail / total_count_tail * 100\n",
        "\n",
        "        # Calculate overall metrics\n",
        "        overall_hit_count = hit_count_head + hit_count_tail\n",
        "        overall_total_count = total_count_head + total_count_tail\n",
        "        overall_percentage = (overall_hit_count / overall_total_count) * 100\n",
        "\n",
        "        # Print results immediately\n",
        "        print(\n",
        "            f\"k={k} | th={threshold} | \"\n",
        "            f\"head: {head_percentage:.2f}% | tail: {tail_percentage:.2f}% | overall: {overall_percentage:.2f}%\"\n",
        "        )"
      ]
    },
    {
      "cell_type": "code",
      "execution_count": 24,
      "metadata": {
        "colab": {
          "base_uri": "https://localhost:8080/"
        },
        "id": "nI-JrkLNPn4D",
        "outputId": "2cc12300-72f0-4b39-e645-b16b0c80a3da"
      },
      "outputs": [
        {
          "name": "stdout",
          "output_type": "stream",
          "text": [
            "k=1 | th=1 | head: 15.65% | tail: 35.86% | overall: 27.91%\n",
            "k=1 | th=2 | head: 19.15% | tail: 40.84% | overall: 32.31%\n",
            "k=1 | th=3 | head: 18.63% | tail: 41.08% | overall: 32.25%\n",
            "k=1 | th=4 | head: 18.18% | tail: 40.31% | overall: 31.60%\n",
            "k=1 | th=5 | head: 17.96% | tail: 40.36% | overall: 31.55%\n",
            "k=1 | th=6 | head: 17.73% | tail: 40.21% | overall: 31.37%\n",
            "k=1 | th=7 | head: 17.59% | tail: 40.12% | overall: 31.25%\n",
            "k=1 | th=8 | head: 17.59% | tail: 40.02% | overall: 31.19%\n",
            "k=1 | th=9 | head: 17.06% | tail: 39.87% | overall: 30.90%\n",
            "k=1 | th=10 | head: 16.99% | tail: 39.54% | overall: 30.67%\n",
            "k=1 | th=20 | head: 16.10% | tail: 38.76% | overall: 29.84%\n",
            "k=1 | th=30 | head: 16.32% | tail: 38.28% | overall: 29.64%\n",
            "k=1 | th=40 | head: 15.87% | tail: 37.94% | overall: 29.26%\n",
            "k=1 | th=50 | head: 15.80% | tail: 37.70% | overall: 29.08%\n",
            "k=3 | th=3 | head: 43.82% | tail: 58.53% | overall: 52.74%\n",
            "k=3 | th=4 | head: 43.00% | tail: 58.77% | overall: 52.57%\n",
            "k=3 | th=5 | head: 42.47% | tail: 58.92% | overall: 52.45%\n",
            "k=3 | th=6 | head: 41.88% | tail: 58.92% | overall: 52.21%\n",
            "k=3 | th=7 | head: 41.58% | tail: 59.40% | overall: 52.39%\n",
            "k=3 | th=8 | head: 41.21% | tail: 59.35% | overall: 52.21%\n",
            "k=3 | th=9 | head: 40.46% | tail: 59.35% | overall: 51.92%\n",
            "k=3 | th=10 | head: 40.54% | tail: 59.26% | overall: 51.89%\n",
            "k=3 | th=20 | head: 39.05% | tail: 58.24% | overall: 50.69%\n",
            "k=3 | th=30 | head: 38.52% | tail: 57.27% | overall: 49.90%\n",
            "k=3 | th=40 | head: 37.70% | tail: 56.55% | overall: 49.14%\n",
            "k=3 | th=50 | head: 37.63% | tail: 56.36% | overall: 48.99%\n",
            "k=5 | th=5 | head: 47.09% | tail: 62.83% | overall: 56.64%\n",
            "k=5 | th=6 | head: 46.35% | tail: 62.59% | overall: 56.20%\n",
            "k=5 | th=7 | head: 46.05% | tail: 63.51% | overall: 56.64%\n",
            "k=5 | th=8 | head: 46.27% | tail: 63.70% | overall: 56.85%\n",
            "k=5 | th=9 | head: 45.98% | tail: 63.99% | overall: 56.90%\n",
            "k=5 | th=10 | head: 45.68% | tail: 63.56% | overall: 56.52%\n",
            "k=5 | th=20 | head: 43.74% | tail: 63.07% | overall: 55.47%\n",
            "k=5 | th=30 | head: 43.44% | tail: 62.83% | overall: 55.20%\n",
            "k=5 | th=40 | head: 43.14% | tail: 62.01% | overall: 54.59%\n",
            "k=5 | th=50 | head: 43.00% | tail: 61.53% | overall: 54.24%\n",
            "k=10 | th=10 | head: 50.89% | tail: 68.20% | overall: 61.39%\n",
            "k=10 | th=11 | head: 50.97% | tail: 68.73% | overall: 61.74%\n",
            "k=10 | th=12 | head: 50.60% | tail: 68.97% | overall: 61.74%\n",
            "k=10 | th=13 | head: 50.60% | tail: 68.87% | overall: 61.68%\n",
            "k=10 | th=14 | head: 50.45% | tail: 68.87% | overall: 61.62%\n",
            "k=10 | th=15 | head: 50.37% | tail: 69.02% | overall: 61.68%\n",
            "k=10 | th=16 | head: 50.15% | tail: 69.26% | overall: 61.74%\n",
            "k=10 | th=17 | head: 50.45% | tail: 69.31% | overall: 61.89%\n",
            "k=10 | th=18 | head: 50.00% | tail: 69.45% | overall: 61.80%\n",
            "k=10 | th=19 | head: 49.85% | tail: 69.41% | overall: 61.71%\n",
            "k=10 | th=20 | head: 49.70% | tail: 69.45% | overall: 61.68%\n",
            "k=10 | th=30 | head: 49.40% | tail: 69.12% | overall: 61.36%\n",
            "k=10 | th=40 | head: 49.18% | tail: 68.25% | overall: 60.74%\n",
            "k=10 | th=50 | head: 48.51% | tail: 67.81% | overall: 60.22%\n"
          ]
        }
      ],
      "source": [
        "# Define the mapping of k values to their respective threshold lists\n",
        "k_threshold_mapping = {\n",
        "    1: [1,2, 3,4, 5,6,7,8,9,10, 20, 30, 40, 50],\n",
        "    3: [3,4,5,6,7,8,9, 10, 20, 30, 40, 50],\n",
        "    5: [5,6,7,8,9, 10, 20, 30, 40, 50],\n",
        "    10: [10,11,12,13,14,15,16,17,18,19, 20, 30, 40, 50]\n",
        "}\n",
        "\n",
        "# Iterate through the mapping and print results on the fly\n",
        "for k, threshold_values in k_threshold_mapping.items():\n",
        "    for threshold in threshold_values:\n",
        "        # Evaluate for head\n",
        "        total_count_head, hit_count_head = tripleEvaluator.rerank(k=k, model=best_lgbm, threshold=threshold, evaluate_for=\"head\")\n",
        "        head_percentage = hit_count_head / total_count_head * 100\n",
        "\n",
        "        # Evaluate for tail\n",
        "        total_count_tail, hit_count_tail = tripleEvaluator.rerank(k=k, model=best_lgbm, threshold=threshold, evaluate_for=\"tail\")\n",
        "        tail_percentage = hit_count_tail / total_count_tail * 100\n",
        "\n",
        "        # Calculate overall metrics\n",
        "        overall_hit_count = hit_count_head + hit_count_tail\n",
        "        overall_total_count = total_count_head + total_count_tail\n",
        "        overall_percentage = (overall_hit_count / overall_total_count) * 100\n",
        "\n",
        "        # Print results immediately\n",
        "        print(\n",
        "            f\"k={k} | th={threshold} | \"\n",
        "            f\"head: {head_percentage:.2f}% | tail: {tail_percentage:.2f}% | overall: {overall_percentage:.2f}%\"\n",
        "        )"
      ]
    },
    {
      "cell_type": "code",
      "execution_count": 25,
      "metadata": {
        "colab": {
          "base_uri": "https://localhost:8080/"
        },
        "id": "SfckpZ0vgt-J",
        "outputId": "b0335cf0-57e0-4a57-bc41-a8108ed7b141"
      },
      "outputs": [
        {
          "name": "stdout",
          "output_type": "stream",
          "text": [
            "k=1 | th=1 | head: 15.65% | tail: 35.86% | overall: 27.91%\n",
            "k=1 | th=2 | head: 19.30% | tail: 40.02% | overall: 31.87%\n",
            "k=1 | th=3 | head: 19.82% | tail: 40.74% | overall: 32.51%\n",
            "k=1 | th=4 | head: 19.37% | tail: 40.55% | overall: 32.22%\n",
            "k=1 | th=5 | head: 19.00% | tail: 41.08% | overall: 32.40%\n",
            "k=1 | th=6 | head: 18.78% | tail: 41.08% | overall: 32.31%\n",
            "k=1 | th=7 | head: 18.63% | tail: 41.28% | overall: 32.37%\n",
            "k=1 | th=8 | head: 18.63% | tail: 41.32% | overall: 32.40%\n",
            "k=1 | th=9 | head: 18.70% | tail: 41.28% | overall: 32.40%\n",
            "k=1 | th=10 | head: 18.78% | tail: 41.28% | overall: 32.42%\n",
            "k=1 | th=20 | head: 18.26% | tail: 41.32% | overall: 32.25%\n",
            "k=1 | th=30 | head: 18.48% | tail: 41.28% | overall: 32.31%\n",
            "k=1 | th=40 | head: 18.33% | tail: 41.23% | overall: 32.22%\n",
            "k=1 | th=50 | head: 18.33% | tail: 41.23% | overall: 32.22%\n",
            "k=3 | th=3 | head: 43.82% | tail: 58.53% | overall: 52.74%\n",
            "k=3 | th=4 | head: 43.67% | tail: 59.30% | overall: 53.15%\n",
            "k=3 | th=5 | head: 43.89% | tail: 59.64% | overall: 53.44%\n",
            "k=3 | th=6 | head: 43.44% | tail: 59.59% | overall: 53.24%\n",
            "k=3 | th=7 | head: 43.59% | tail: 60.22% | overall: 53.68%\n",
            "k=3 | th=8 | head: 43.59% | tail: 60.71% | overall: 53.97%\n",
            "k=3 | th=9 | head: 43.67% | tail: 60.75% | overall: 54.03%\n",
            "k=3 | th=10 | head: 43.67% | tail: 60.71% | overall: 54.00%\n",
            "k=3 | th=20 | head: 42.47% | tail: 60.85% | overall: 53.62%\n",
            "k=3 | th=30 | head: 42.55% | tail: 60.80% | overall: 53.62%\n",
            "k=3 | th=40 | head: 42.40% | tail: 60.27% | overall: 53.24%\n",
            "k=3 | th=50 | head: 42.18% | tail: 60.08% | overall: 53.03%\n",
            "k=5 | th=5 | head: 47.09% | tail: 62.83% | overall: 56.64%\n",
            "k=5 | th=6 | head: 47.02% | tail: 63.27% | overall: 56.87%\n",
            "k=5 | th=7 | head: 46.94% | tail: 64.04% | overall: 57.31%\n",
            "k=5 | th=8 | head: 47.24% | tail: 64.48% | overall: 57.70%\n",
            "k=5 | th=9 | head: 46.65% | tail: 64.72% | overall: 57.61%\n",
            "k=5 | th=10 | head: 46.50% | tail: 64.67% | overall: 57.52%\n",
            "k=5 | th=20 | head: 46.42% | tail: 65.06% | overall: 57.73%\n",
            "k=5 | th=30 | head: 46.35% | tail: 65.01% | overall: 57.67%\n",
            "k=5 | th=40 | head: 46.27% | tail: 64.52% | overall: 57.34%\n",
            "k=5 | th=50 | head: 45.83% | tail: 64.23% | overall: 56.99%\n",
            "k=10 | th=10 | head: 50.89% | tail: 68.20% | overall: 61.39%\n",
            "k=10 | th=11 | head: 50.89% | tail: 68.87% | overall: 61.80%\n",
            "k=10 | th=12 | head: 50.75% | tail: 69.16% | overall: 61.92%\n",
            "k=10 | th=13 | head: 50.82% | tail: 69.21% | overall: 61.98%\n",
            "k=10 | th=14 | head: 50.97% | tail: 69.45% | overall: 62.18%\n",
            "k=10 | th=15 | head: 50.82% | tail: 69.84% | overall: 62.36%\n",
            "k=10 | th=16 | head: 50.82% | tail: 69.94% | overall: 62.42%\n",
            "k=10 | th=17 | head: 50.97% | tail: 69.89% | overall: 62.45%\n",
            "k=10 | th=18 | head: 51.12% | tail: 69.79% | overall: 62.45%\n",
            "k=10 | th=19 | head: 51.19% | tail: 69.94% | overall: 62.56%\n",
            "k=10 | th=20 | head: 51.19% | tail: 69.99% | overall: 62.59%\n",
            "k=10 | th=30 | head: 50.89% | tail: 70.42% | overall: 62.74%\n",
            "k=10 | th=40 | head: 50.97% | tail: 69.79% | overall: 62.39%\n",
            "k=10 | th=50 | head: 50.97% | tail: 69.55% | overall: 62.24%\n"
          ]
        }
      ],
      "source": [
        "# Define the mapping of k values to their respective threshold lists\n",
        "k_threshold_mapping = {\n",
        "    1: [1,2, 3,4, 5,6,7,8,9,10, 20, 30, 40, 50],\n",
        "    3: [3,4,5,6,7,8,9, 10, 20, 30, 40, 50],\n",
        "    5: [5,6,7,8,9, 10, 20, 30, 40, 50],\n",
        "    10: [10,11,12,13,14,15,16,17,18,19, 20, 30, 40, 50]\n",
        "}\n",
        "\n",
        "# Iterate through the mapping and print results on the fly\n",
        "for k, threshold_values in k_threshold_mapping.items():\n",
        "    for threshold in threshold_values:\n",
        "        # Evaluate for head\n",
        "        total_count_head, hit_count_head = tripleEvaluator.rerank(k=k, model=ensemble_model, threshold=threshold, evaluate_for=\"head\")\n",
        "        head_percentage = hit_count_head / total_count_head * 100\n",
        "\n",
        "        # Evaluate for tail\n",
        "        total_count_tail, hit_count_tail = tripleEvaluator.rerank(k=k, model=ensemble_model, threshold=threshold, evaluate_for=\"tail\")\n",
        "        tail_percentage = hit_count_tail / total_count_tail * 100\n",
        "\n",
        "        # Calculate overall metrics\n",
        "        overall_hit_count = hit_count_head + hit_count_tail\n",
        "        overall_total_count = total_count_head + total_count_tail\n",
        "        overall_percentage = (overall_hit_count / overall_total_count) * 100\n",
        "\n",
        "        # Print results immediately\n",
        "        print(\n",
        "            f\"k={k} | th={threshold} | \"\n",
        "            f\"head: {head_percentage:.2f}% | tail: {tail_percentage:.2f}% | overall: {overall_percentage:.2f}%\"\n",
        "        )"
      ]
    }
  ],
  "metadata": {
    "colab": {
      "machine_shape": "hm",
      "provenance": []
    },
    "kernelspec": {
      "display_name": "Python 3",
      "name": "python3"
    },
    "language_info": {
      "name": "python"
    }
  },
  "nbformat": 4,
  "nbformat_minor": 0
}
