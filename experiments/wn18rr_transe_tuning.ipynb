{
  "cells": [
    {
      "cell_type": "code",
      "execution_count": null,
      "metadata": {
        "id": "X5k8WFGpevba"
      },
      "outputs": [],
      "source": [
        "#!pip uninstall scikit-learn\n",
        "#!pip install scikit-learn==1.5.2"
      ]
    },
    {
      "cell_type": "code",
      "execution_count": null,
      "metadata": {
        "id": "W7uPMNxqSZXX"
      },
      "outputs": [],
      "source": [
        "import pandas as pd\n",
        "import numpy as np\n",
        "from tqdm import tqdm\n",
        "import pickle\n",
        "import time\n",
        "from sklearn.metrics import accuracy_score, precision_score, recall_score, f1_score,roc_curve,auc,classification_report,make_scorer\n",
        "from sklearn.model_selection import train_test_split,GridSearchCV\n",
        "from sklearn.neural_network import MLPClassifier\n",
        "from sklearn.ensemble import VotingClassifier\n",
        "from lightgbm import LGBMClassifier\n",
        "from xgboost import XGBClassifier\n",
        "\n",
        "from link_prediction import *"
      ]
    },
    {
      "cell_type": "code",
      "execution_count": 2,
      "metadata": {
        "id": "v4rpvOhwSxVE"
      },
      "outputs": [],
      "source": [
        "#Load the entity embeddings dict\n",
        "with open(\"wn18rr_transe_entity_embeddings_2.pkl\", \"rb\") as f:\n",
        "    entity_embeddings = pickle.load(f)\n",
        "#Load the predicate embeddings dict\n",
        "with open(\"wn18rr_transe_predicate_embeddings_2.pkl\", \"rb\") as f:\n",
        "    predicate_embeddings = pickle.load(f)\n",
        "\n",
        "train_triples = pd.read_csv('wn18rr_train.txt', dtype=str, sep='\\t', header=None, names=['head', 'relation', 'tail'])\n",
        "test_triples = pd.read_csv('wn18rr_test.txt', dtype=str, sep='\\t', header=None, names=['head', 'relation', 'tail'])"
      ]
    },
    {
      "cell_type": "markdown",
      "metadata": {
        "id": "vUmY423XWjUn"
      },
      "source": [
        "**Create Negative Samples**"
      ]
    },
    {
      "cell_type": "code",
      "execution_count": 3,
      "metadata": {
        "colab": {
          "base_uri": "https://localhost:8080/"
        },
        "id": "0VYaBwd_S6Ni",
        "outputId": "ba27c9d7-8afc-443f-df93-719aef2fb761"
      },
      "outputs": [
        {
          "name": "stderr",
          "output_type": "stream",
          "text": [
            "Processing triples: 100%|██████████| 86835/86835 [03:17<00:00, 439.70triple/s]\n",
            "Processing triples: 100%|██████████| 86835/86835 [02:00<00:00, 723.04triple/s]\n"
          ]
        },
        {
          "name": "stdout",
          "output_type": "stream",
          "text": [
            "62547\n",
            "40962\n"
          ]
        }
      ],
      "source": [
        "training_object=Training(entity_embeddings,predicate_embeddings,train_triples,test_triples, model='TransE')\n",
        "tail_df = training_object.create_training_data_filtered(n=1, creating_for=\"tail\")\n",
        "head_df = training_object.create_training_data_filtered(n=1, creating_for=\"head\")\n",
        "print(len(tail_df))\n",
        "print(len(head_df))"
      ]
    },
    {
      "cell_type": "markdown",
      "metadata": {
        "id": "8js9F5XPTLq3"
      },
      "source": [
        "**Prepare Training Data**"
      ]
    },
    {
      "cell_type": "code",
      "execution_count": 4,
      "metadata": {
        "colab": {
          "base_uri": "https://localhost:8080/",
          "height": 178
        },
        "id": "qOXSQ_U0TEOd",
        "outputId": "7cb71fa8-c8fa-4056-f9f8-e0444044e039"
      },
      "outputs": [
        {
          "data": {
            "text/html": [
              "<div>\n",
              "<style scoped>\n",
              "    .dataframe tbody tr th:only-of-type {\n",
              "        vertical-align: middle;\n",
              "    }\n",
              "\n",
              "    .dataframe tbody tr th {\n",
              "        vertical-align: top;\n",
              "    }\n",
              "\n",
              "    .dataframe thead th {\n",
              "        text-align: right;\n",
              "    }\n",
              "</style>\n",
              "<table border=\"1\" class=\"dataframe\">\n",
              "  <thead>\n",
              "    <tr style=\"text-align: right;\">\n",
              "      <th></th>\n",
              "      <th>count</th>\n",
              "    </tr>\n",
              "    <tr>\n",
              "      <th>label</th>\n",
              "      <th></th>\n",
              "    </tr>\n",
              "  </thead>\n",
              "  <tbody>\n",
              "    <tr>\n",
              "      <th>0</th>\n",
              "      <td>94479</td>\n",
              "    </tr>\n",
              "    <tr>\n",
              "      <th>1</th>\n",
              "      <td>86835</td>\n",
              "    </tr>\n",
              "  </tbody>\n",
              "</table>\n",
              "</div><br><label><b>dtype:</b> int64</label>"
            ],
            "text/plain": [
              "label\n",
              "0    94479\n",
              "1    86835\n",
              "Name: count, dtype: int64"
            ]
          },
          "execution_count": 4,
          "metadata": {},
          "output_type": "execute_result"
        }
      ],
      "source": [
        "train_triples['label']=1\n",
        "train_df = pd.concat([head_df,tail_df,train_triples], axis=0)\n",
        "# Reset the index\n",
        "train_df.reset_index(drop=True, inplace=True)\n",
        "# Drop duplicate rows\n",
        "train_df.drop_duplicates(inplace=True)\n",
        "# Step 1: Prepare the training data\n",
        "train_df['embedding'] = train_df.apply(lambda row: training_object.get_embedding(row).cpu().numpy(), axis=1)\n",
        "X_train = np.vstack(train_df['embedding'].values)  # Stack embeddings into a matrix\n",
        "y_train = train_df['label'].values  # Labels\n",
        "# Step 1: Split the data into training and test sets with stratification\n",
        "X_train, X_test, y_train, y_test = train_test_split(\n",
        "    np.vstack(train_df['embedding'].values),  # Embeddings matrix\n",
        "    train_df['label'].values,                # Labels\n",
        "    test_size=0.1,                           # 10% of the data for testing\n",
        "    random_state=42,                         # For reproducibility\n",
        "    stratify=train_df['label'].values        # Maintain label distribution\n",
        ")\n",
        "train_df['label'].value_counts()"
      ]
    },
    {
      "cell_type": "markdown",
      "metadata": {
        "id": "BewwL105Telw"
      },
      "source": [
        "**Set Models**"
      ]
    },
    {
      "cell_type": "markdown",
      "metadata": {
        "id": "FGzknXtLORux"
      },
      "source": [
        "**MLP**"
      ]
    },
    {
      "cell_type": "code",
      "execution_count": 5,
      "metadata": {
        "id": "45eyAISBHSMN"
      },
      "outputs": [],
      "source": [
        "import warnings\n",
        "from sklearn.exceptions import ConvergenceWarning\n",
        "warnings.simplefilter(\"ignore\", ConvergenceWarning)"
      ]
    },
    {
      "cell_type": "code",
      "execution_count": 6,
      "metadata": {
        "colab": {
          "base_uri": "https://localhost:8080/"
        },
        "id": "4Ep1UaH6TPR_",
        "outputId": "71dfa60c-f264-45f8-dc46-b1fb48ec95d6"
      },
      "outputs": [
        {
          "name": "stdout",
          "output_type": "stream",
          "text": [
            "Best parameters for MLP: {'hidden_layer_sizes': (128, 128), 'alpha': 0.01, 'learning_rate_init': 0.001, 'max_iter': 100, 'f1_score': 0.850262599173092, 'accuracy': 0.8521950143392897, 'precision_0': 0.8794572774164611, 'precision_1': 0.8258085522031691, 'recall_0': 0.8301227773073666, 'recall_1': 0.8762091202210963}\n"
          ]
        }
      ],
      "source": [
        "param_grid_mlp = {\n",
        "    'hidden_layer_sizes': [ (64, 64), (128, 128), (256, 256)],\n",
        "    'alpha': [0.0001, 0.001, 0.01],\n",
        "    'learning_rate_init': [0.001, 0.01],\n",
        "    'max_iter': [50, 100]\n",
        "}\n",
        "\n",
        "results_mlp = []\n",
        "for hidden_layer_sizes in param_grid_mlp['hidden_layer_sizes']:\n",
        "    for alpha in param_grid_mlp['alpha']:\n",
        "        for learning_rate_init in param_grid_mlp['learning_rate_init']:\n",
        "            for max_iter in param_grid_mlp['max_iter']:\n",
        "                mlp = MLPClassifier(\n",
        "                    hidden_layer_sizes=hidden_layer_sizes,\n",
        "                    alpha=alpha,\n",
        "                    learning_rate_init=learning_rate_init,\n",
        "                    max_iter=max_iter,\n",
        "                    solver='adam',\n",
        "                    early_stopping=True,\n",
        "                    batch_size=32,\n",
        "                    random_state=42\n",
        "                )\n",
        "                mlp.fit(X_train, y_train)\n",
        "                preds = mlp.predict(X_test)\n",
        "\n",
        "                # Calculate metrics\n",
        "                score_f1 = f1_score(y_test, preds)\n",
        "                acc = accuracy_score(y_test, preds)\n",
        "                precisions = precision_score(y_test, preds, average=None, zero_division=0)\n",
        "                recalls = recall_score(y_test, preds, average=None, zero_division=0)\n",
        "\n",
        "                results_mlp.append({\n",
        "                    'hidden_layer_sizes': hidden_layer_sizes,\n",
        "                    'alpha': alpha,\n",
        "                    'learning_rate_init': learning_rate_init,\n",
        "                    'max_iter': max_iter,\n",
        "                    'f1_score': score_f1,\n",
        "                    'accuracy': acc,\n",
        "                    'precision_0': precisions[0],\n",
        "                    'precision_1': precisions[1],\n",
        "                    'recall_0': recalls[0],\n",
        "                    'recall_1': recalls[1]\n",
        "                })\n",
        "\n",
        "df_results_mlp = pd.DataFrame(results_mlp)\n",
        "\n",
        "best_mlp_params = df_results_mlp.sort_values(by='f1_score', ascending=False).iloc[0].to_dict()\n",
        "print(\"Best parameters for MLP:\", best_mlp_params)"
      ]
    },
    {
      "cell_type": "markdown",
      "metadata": {
        "id": "S9YJEh-WOP07"
      },
      "source": [
        "**XGB**"
      ]
    },
    {
      "cell_type": "code",
      "execution_count": 7,
      "metadata": {
        "colab": {
          "base_uri": "https://localhost:8080/"
        },
        "id": "zlTfpHrPMA7v",
        "outputId": "bb75da61-beb5-43ef-8da0-656ed21a28b5"
      },
      "outputs": [
        {
          "name": "stdout",
          "output_type": "stream",
          "text": [
            "Best parameters for XGBClassifier: {'n_estimators': 300.0, 'max_depth': 5.0, 'learning_rate': 0.2, 'f1_score': 0.9000225682690137, 'accuracy': 0.9022722258989632, 'precision_0': 0.9221293444786626, 'precision_1': 0.8823008849557522, 'recall_0': 0.8873835732430144, 'recall_1': 0.9184707508060801}\n"
          ]
        }
      ],
      "source": [
        "param_grid_xgb = {\n",
        "    'n_estimators': [100, 200, 300],\n",
        "    'max_depth': [5, 10, 15],\n",
        "    # 'scale_pos_weight': [0.5, 1, 2],  # commented out as provided\n",
        "    'learning_rate': [0.01, 0.1, 0.2]\n",
        "}\n",
        "\n",
        "\n",
        "results_xgb = []\n",
        "for n_estimators in param_grid_xgb['n_estimators']:\n",
        "    for max_depth in param_grid_xgb['max_depth']:\n",
        "        for learning_rate in param_grid_xgb['learning_rate']:\n",
        "            xgb = XGBClassifier(\n",
        "                n_estimators=n_estimators,\n",
        "                max_depth=max_depth,\n",
        "                learning_rate=learning_rate,\n",
        "                random_state=42,\n",
        "            )\n",
        "            xgb.fit(X_train, y_train)\n",
        "            preds = xgb.predict(X_test)\n",
        "\n",
        "            # Calculate metrics\n",
        "            score_f1 = f1_score(y_test, preds)\n",
        "            acc = accuracy_score(y_test, preds)\n",
        "            precisions = precision_score(y_test, preds, average=None, zero_division=0)\n",
        "            recalls = recall_score(y_test, preds, average=None, zero_division=0)\n",
        "\n",
        "            results_xgb.append({\n",
        "                'n_estimators': n_estimators,\n",
        "                'max_depth': max_depth,\n",
        "                'learning_rate': learning_rate,\n",
        "                'f1_score': score_f1,\n",
        "                'accuracy': acc,\n",
        "                'precision_0': precisions[0],\n",
        "                'precision_1': precisions[1],\n",
        "                'recall_0': recalls[0],\n",
        "                'recall_1': recalls[1]\n",
        "            })\n",
        "\n",
        "df_results_xgb = pd.DataFrame(results_xgb)\n",
        "best_xgb_params = df_results_xgb.sort_values(by='f1_score', ascending=False).iloc[0].to_dict()\n",
        "print(\"Best parameters for XGBClassifier:\", best_xgb_params)"
      ]
    },
    {
      "cell_type": "markdown",
      "metadata": {
        "id": "sBawiIGpOUxY"
      },
      "source": [
        "**LGBM**"
      ]
    },
    {
      "cell_type": "code",
      "execution_count": null,
      "metadata": {
        "colab": {
          "base_uri": "https://localhost:8080/"
        },
        "id": "HKdY6e6LMCG8",
        "outputId": "3c9e9434-f236-4229-e399-a97970f98183"
      },
      "outputs": [],
      "source": [
        "param_grid_lgbm = {\n",
        "    'n_estimators': [100, 200, 300],\n",
        "    'max_depth': [5, 10, 15],\n",
        "    'learning_rate': [0.01, 0.1, 0.2],\n",
        "    'is_unbalance': [True, False]\n",
        "}\n",
        "\n",
        "results_lgbm = []\n",
        "for n_estimators in param_grid_lgbm['n_estimators']:\n",
        "    for max_depth in param_grid_lgbm['max_depth']:\n",
        "        for learning_rate in param_grid_lgbm['learning_rate']:\n",
        "            for is_unbalance in param_grid_lgbm['is_unbalance']:\n",
        "                lgbm = LGBMClassifier(\n",
        "                    n_estimators=n_estimators,\n",
        "                    max_depth=max_depth,\n",
        "                    learning_rate=learning_rate,\n",
        "                    is_unbalance=is_unbalance,\n",
        "                    random_state=42\n",
        "                )\n",
        "                lgbm.fit(X_train, y_train)\n",
        "                preds = lgbm.predict(X_test)\n",
        "\n",
        "                # Calculate metrics\n",
        "                score_f1 = f1_score(y_test, preds)\n",
        "                acc = accuracy_score(y_test, preds)\n",
        "                precisions = precision_score(y_test, preds, average=None, zero_division=0)\n",
        "                recalls = recall_score(y_test, preds, average=None, zero_division=0)\n",
        "\n",
        "                results_lgbm.append({\n",
        "                    'n_estimators': n_estimators,\n",
        "                    'max_depth': max_depth,\n",
        "                    'learning_rate': learning_rate,\n",
        "                    'is_unbalance': is_unbalance,\n",
        "                    'f1_score': score_f1,\n",
        "                    'accuracy': acc,\n",
        "                    'precision_0': precisions[0],\n",
        "                    'precision_1': precisions[1],\n",
        "                    'recall_0': recalls[0],\n",
        "                    'recall_1': recalls[1]\n",
        "                })\n",
        "\n",
        "df_results_lgbm = pd.DataFrame(results_lgbm)\n",
        "best_lgbm_params = df_results_lgbm.sort_values(by='f1_score', ascending=False).iloc[0].to_dict()\n",
        "print(\"Best parameters for LGBM:\", best_lgbm_params)"
      ]
    },
    {
      "cell_type": "markdown",
      "metadata": {
        "id": "g3wpa-6XTijx"
      },
      "source": [
        "**Train Ensemble**"
      ]
    },
    {
      "cell_type": "code",
      "execution_count": 9,
      "metadata": {
        "colab": {
          "base_uri": "https://localhost:8080/"
        },
        "id": "hh_nSA9ATkra",
        "outputId": "b5169cd2-4b87-46da-b276-31c8bb075b46"
      },
      "outputs": [
        {
          "name": "stderr",
          "output_type": "stream",
          "text": [
            "/usr/local/lib/python3.11/dist-packages/sklearn/utils/deprecation.py:151: FutureWarning: 'force_all_finite' was renamed to 'ensure_all_finite' in 1.6 and will be removed in 1.8.\n",
            "  warnings.warn(\n"
          ]
        },
        {
          "name": "stdout",
          "output_type": "stream",
          "text": [
            "[LightGBM] [Info] Number of positive: 78151, number of negative: 85031\n",
            "[LightGBM] [Info] Auto-choosing col-wise multi-threading, the overhead of testing was 0.191478 seconds.\n",
            "You can set `force_col_wise=true` to remove the overhead.\n",
            "[LightGBM] [Info] Total Bins 52199\n",
            "[LightGBM] [Info] Number of data points in the train set: 163182, number of used features: 300\n",
            "[LightGBM] [Info] [binary:BoostFromScore]: pavg=0.478919 -> initscore=-0.084373\n",
            "[LightGBM] [Info] Start training from score -0.084373\n"
          ]
        },
        {
          "name": "stderr",
          "output_type": "stream",
          "text": [
            "/usr/local/lib/python3.11/dist-packages/sklearn/utils/deprecation.py:151: FutureWarning: 'force_all_finite' was renamed to 'ensure_all_finite' in 1.6 and will be removed in 1.8.\n",
            "  warnings.warn(\n",
            "/usr/local/lib/python3.11/dist-packages/sklearn/utils/deprecation.py:151: FutureWarning: 'force_all_finite' was renamed to 'ensure_all_finite' in 1.6 and will be removed in 1.8.\n",
            "  warnings.warn(\n"
          ]
        }
      ],
      "source": [
        "# Best MLPClassifier\n",
        "best_mlp = MLPClassifier(\n",
        "    hidden_layer_sizes=best_mlp_params['hidden_layer_sizes'],\n",
        "    alpha=best_mlp_params['alpha'],\n",
        "    learning_rate_init=best_mlp_params['learning_rate_init'],\n",
        "    max_iter=best_mlp_params['max_iter'],\n",
        "    solver='adam',\n",
        "    early_stopping=True,\n",
        "    batch_size=32,\n",
        "    random_state=42\n",
        ")\n",
        "best_mlp.fit(X_train, y_train)\n",
        "preds_mlp = best_mlp.predict(X_test)\n",
        "report_mlp = classification_report(y_test, preds_mlp)\n",
        "\n",
        "# Best XGBClassifier\n",
        "best_xgb = XGBClassifier(\n",
        "    n_estimators=int(best_xgb_params['n_estimators']),\n",
        "    max_depth=int(best_xgb_params['max_depth']),\n",
        "    learning_rate=float(best_xgb_params['learning_rate']),\n",
        "    random_state=42,\n",
        ")\n",
        "best_xgb.fit(X_train, y_train)\n",
        "preds_xgb = best_xgb.predict(X_test)\n",
        "report_xgb = classification_report(y_test, preds_xgb)\n",
        "\n",
        "# Best LGBMClassifier\n",
        "best_lgbm = LGBMClassifier(\n",
        "    n_estimators=best_lgbm_params['n_estimators'],\n",
        "    max_depth=best_lgbm_params['max_depth'],\n",
        "    learning_rate=best_lgbm_params['learning_rate'],\n",
        "    is_unbalance=best_lgbm_params['is_unbalance'],\n",
        "    random_state=42\n",
        ")\n",
        "best_lgbm.fit(X_train, y_train)\n",
        "preds_lgbm = best_lgbm.predict(X_test)\n",
        "report_lgbm = classification_report(y_test, preds_lgbm)\n",
        "\n",
        "######################################\n",
        "# Ensemble the best models using VotingClassifier\n",
        "######################################\n",
        "ensemble_model = VotingClassifier(\n",
        "    estimators=[\n",
        "        ('mlp', best_mlp),\n",
        "        ('xgb', best_xgb),\n",
        "        ('lgbm', best_lgbm)\n",
        "    ],\n",
        "    voting='soft',  # Soft voting uses predicted probabilities\n",
        "    n_jobs=-1\n",
        ")\n",
        "\n",
        "start_time = time.time()\n",
        "ensemble_model.fit(X_train, y_train)\n",
        "end_time = time.time()\n",
        "\n",
        "ensemble_time = end_time - start_time\n",
        "preds_ensemble = ensemble_model.predict(X_test)\n",
        "ensemble_acc = accuracy_score(y_test, preds_ensemble)\n",
        "report_ensemble = classification_report(y_test, preds_ensemble)"
      ]
    },
    {
      "cell_type": "code",
      "execution_count": 10,
      "metadata": {
        "colab": {
          "base_uri": "https://localhost:8080/"
        },
        "id": "01rTvJFUKp-e",
        "outputId": "1eccf1b5-7b3b-477e-a85a-8ffb274d31d6"
      },
      "outputs": [
        {
          "name": "stdout",
          "output_type": "stream",
          "text": [
            "Ensemble Accuracy: 0.9144606221045665\n",
            "Ensemble Classification Report:\n",
            "               precision    recall  f1-score   support\n",
            "\n",
            "           0       0.94      0.90      0.92      9448\n",
            "           1       0.89      0.94      0.91      8684\n",
            "\n",
            "    accuracy                           0.91     18132\n",
            "   macro avg       0.91      0.92      0.91     18132\n",
            "weighted avg       0.92      0.91      0.91     18132\n",
            "\n"
          ]
        },
        {
          "name": "stderr",
          "output_type": "stream",
          "text": [
            "/usr/local/lib/python3.11/dist-packages/sklearn/utils/deprecation.py:151: FutureWarning: 'force_all_finite' was renamed to 'ensure_all_finite' in 1.6 and will be removed in 1.8.\n",
            "  warnings.warn(\n"
          ]
        }
      ],
      "source": [
        "y_pred_ensemble = ensemble_model.predict(X_test)\n",
        "print(\"Ensemble Accuracy:\", accuracy_score(y_test, y_pred_ensemble))\n",
        "print(\"Ensemble Classification Report:\\n\", classification_report(y_test, y_pred_ensemble))"
      ]
    },
    {
      "cell_type": "code",
      "execution_count": null,
      "metadata": {
        "colab": {
          "base_uri": "https://localhost:8080/"
        },
        "id": "8E63rVMOKvRD",
        "outputId": "4933c154-6914-458f-d135-771ea91caf75"
      },
      "outputs": [
        {
          "name": "stdout",
          "output_type": "stream",
          "text": [
            "Results saved to model_results.txt\n"
          ]
        }
      ],
      "source": [
        "with open(\"/content/drive/MyDrive/link_prediction/tuning/wn18rr_transe_tuning.txt\", \"w\") as f:\n",
        "    f.write(\"##############################\\n\")\n",
        "    f.write(\"MLPClassifier Full Results\\n\")\n",
        "    f.write(\"##############################\\n\")\n",
        "    f.write(df_results_mlp.to_string())\n",
        "    f.write(\"\\n\\nBest Parameters for MLPClassifier:\\n\")\n",
        "    f.write(str(best_mlp_params))\n",
        "    f.write(\"\\n\\nClassification Report for Best MLPClassifier:\\n\")\n",
        "    f.write(report_mlp)\n",
        "\n",
        "    f.write(\"\\n\\n\\n##############################\\n\")\n",
        "    f.write(\"XGBClassifier Full Results\\n\")\n",
        "    f.write(\"##############################\\n\")\n",
        "    f.write(df_results_xgb.to_string())\n",
        "    f.write(\"\\n\\nBest Parameters for XGBClassifier:\\n\")\n",
        "    f.write(str(best_xgb_params))\n",
        "    f.write(\"\\n\\nClassification Report for Best XGBClassifier:\\n\")\n",
        "    f.write(report_xgb)\n",
        "\n",
        "    f.write(\"\\n\\n\\n##############################\\n\")\n",
        "    f.write(\"LGBMClassifier Full Results\\n\")\n",
        "    f.write(\"##############################\\n\")\n",
        "    f.write(df_results_lgbm.to_string())\n",
        "    f.write(\"\\n\\nBest Parameters for LGBMClassifier:\\n\")\n",
        "    f.write(str(best_lgbm_params))\n",
        "    f.write(\"\\n\\nClassification Report for Best LGBMClassifier:\\n\")\n",
        "    f.write(report_lgbm)\n",
        "\n",
        "    f.write(\"\\n\\n\\n##############################\\n\")\n",
        "    f.write(\"Ensemble Model Performance\\n\")\n",
        "    f.write(\"##############################\\n\")\n",
        "    f.write(\"Ensemble Accuracy: {:.4f}\\n\".format(ensemble_acc))\n",
        "    f.write(\"Ensemble Classification Report:\\n\")\n",
        "    f.write(report_ensemble)\n",
        "\n",
        "print(\"Results saved to model_results.txt\")"
      ]
    },
    {
      "cell_type": "markdown",
      "metadata": {
        "id": "LaaXmNZEUIB1"
      },
      "source": [
        "**Rerank Hitk**"
      ]
    },
    {
      "cell_type": "code",
      "execution_count": 12,
      "metadata": {
        "id": "NklFNH7RUlTM"
      },
      "outputs": [],
      "source": [
        "import warnings\n",
        "warnings.simplefilter(action='ignore', category=FutureWarning)"
      ]
    },
    {
      "cell_type": "code",
      "execution_count": 13,
      "metadata": {
        "colab": {
          "base_uri": "https://localhost:8080/"
        },
        "id": "8bcKVBNzUjTD",
        "outputId": "d7edf0fb-28ac-4385-d5b1-3d8aa39db0e2"
      },
      "outputs": [
        {
          "name": "stderr",
          "output_type": "stream",
          "text": [
            "Precomputing top-k predictions: 100%|██████████| 3134/3134 [00:41<00:00, 74.68it/s]\n"
          ]
        }
      ],
      "source": [
        "tripleEvaluator=TripleEvaluator(entity_embeddings,predicate_embeddings,train_triples,test_triples, model='TransE', k=50)"
      ]
    },
    {
      "cell_type": "code",
      "execution_count": 14,
      "metadata": {
        "colab": {
          "base_uri": "https://localhost:8080/"
        },
        "id": "D3XXGZChPo76",
        "outputId": "d3624cf9-46f1-4fc8-9b12-fec5067839ca"
      },
      "outputs": [
        {
          "name": "stdout",
          "output_type": "stream",
          "text": [
            "k=1 | th=1 | head: 0.90% | tail: 1.10% | overall: 1.01%\n",
            "k=1 | th=2 | head: 1.57% | tail: 2.31% | overall: 1.96%\n",
            "k=1 | th=3 | head: 1.89% | tail: 2.49% | overall: 2.20%\n",
            "k=1 | th=4 | head: 2.28% | tail: 2.84% | overall: 2.58%\n",
            "k=1 | th=5 | head: 2.20% | tail: 2.70% | overall: 2.46%\n",
            "k=1 | th=6 | head: 2.20% | tail: 2.63% | overall: 2.43%\n",
            "k=1 | th=7 | head: 2.08% | tail: 2.35% | overall: 2.22%\n",
            "k=1 | th=8 | head: 2.08% | tail: 2.35% | overall: 2.22%\n",
            "k=1 | th=9 | head: 1.97% | tail: 2.31% | overall: 2.15%\n",
            "k=1 | th=10 | head: 1.89% | tail: 2.24% | overall: 2.07%\n",
            "k=1 | th=20 | head: 1.30% | tail: 1.67% | overall: 1.49%\n",
            "k=1 | th=30 | head: 1.22% | tail: 1.21% | overall: 1.21%\n",
            "k=1 | th=40 | head: 1.22% | tail: 1.17% | overall: 1.19%\n",
            "k=1 | th=50 | head: 1.10% | tail: 1.17% | overall: 1.14%\n",
            "k=3 | th=3 | head: 38.67% | tail: 36.53% | overall: 37.55%\n",
            "k=3 | th=4 | head: 39.89% | tail: 37.67% | overall: 38.72%\n",
            "k=3 | th=5 | head: 39.61% | tail: 37.81% | overall: 38.67%\n",
            "k=3 | th=6 | head: 38.59% | tail: 36.78% | overall: 37.64%\n",
            "k=3 | th=7 | head: 37.49% | tail: 35.96% | overall: 36.69%\n",
            "k=3 | th=8 | head: 37.06% | tail: 35.36% | overall: 36.17%\n",
            "k=3 | th=9 | head: 36.51% | tail: 35.04% | overall: 35.74%\n",
            "k=3 | th=10 | head: 36.07% | tail: 34.58% | overall: 35.29%\n",
            "k=3 | th=20 | head: 33.36% | tail: 31.91% | overall: 32.60%\n",
            "k=3 | th=30 | head: 31.71% | tail: 30.10% | overall: 30.86%\n",
            "k=3 | th=40 | head: 30.76% | tail: 28.43% | overall: 29.54%\n",
            "k=3 | th=50 | head: 29.74% | tail: 27.83% | overall: 28.73%\n",
            "k=5 | th=5 | head: 44.45% | tail: 42.71% | overall: 43.54%\n",
            "k=5 | th=6 | head: 44.45% | tail: 42.68% | overall: 43.52%\n",
            "k=5 | th=7 | head: 44.30% | tail: 42.36% | overall: 43.28%\n",
            "k=5 | th=8 | head: 43.98% | tail: 41.58% | overall: 42.72%\n",
            "k=5 | th=9 | head: 43.59% | tail: 41.19% | overall: 42.33%\n",
            "k=5 | th=10 | head: 43.08% | tail: 40.37% | overall: 41.65%\n",
            "k=5 | th=20 | head: 40.32% | tail: 38.13% | overall: 39.17%\n",
            "k=5 | th=30 | head: 38.36% | tail: 36.46% | overall: 37.36%\n",
            "k=5 | th=40 | head: 37.10% | tail: 34.90% | overall: 35.94%\n",
            "k=5 | th=50 | head: 36.07% | tail: 33.80% | overall: 34.88%\n",
            "k=10 | th=10 | head: 47.09% | tail: 46.41% | overall: 46.73%\n",
            "k=10 | th=11 | head: 46.93% | tail: 46.09% | overall: 46.49%\n",
            "k=10 | th=12 | head: 46.85% | tail: 45.88% | overall: 46.34%\n",
            "k=10 | th=13 | head: 46.81% | tail: 45.27% | overall: 46.00%\n",
            "k=10 | th=14 | head: 46.85% | tail: 44.56% | overall: 45.65%\n",
            "k=10 | th=15 | head: 46.70% | tail: 44.42% | overall: 45.50%\n",
            "k=10 | th=16 | head: 46.54% | tail: 44.03% | overall: 45.22%\n",
            "k=10 | th=17 | head: 46.30% | tail: 43.85% | overall: 45.01%\n",
            "k=10 | th=18 | head: 46.07% | tail: 43.82% | overall: 44.88%\n",
            "k=10 | th=19 | head: 45.83% | tail: 43.60% | overall: 44.66%\n",
            "k=10 | th=20 | head: 45.71% | tail: 43.64% | overall: 44.62%\n",
            "k=10 | th=30 | head: 44.65% | tail: 42.32% | overall: 43.43%\n",
            "k=10 | th=40 | head: 43.31% | tail: 41.19% | overall: 42.20%\n",
            "k=10 | th=50 | head: 42.41% | tail: 40.26% | overall: 41.28%\n"
          ]
        }
      ],
      "source": [
        "# Define the mapping of k values to their respective threshold lists\n",
        "k_threshold_mapping = {\n",
        "    1: [1,2,3,4,5,6,7,8,9,10, 20, 30, 40, 50],\n",
        "    3: [3,4,5,6,7,8,9,10, 20, 30, 40, 50],\n",
        "    5: [5,6,7,8,9, 10,20, 30, 40, 50],\n",
        "    10: [10,11,12,13,14,15,16,17,18,19,20, 30, 40, 50]\n",
        "}\n",
        "\n",
        "# Iterate through the mapping and print results on the fly\n",
        "for k, threshold_values in k_threshold_mapping.items():\n",
        "    for threshold in threshold_values:\n",
        "        # Evaluate for head\n",
        "        total_count_head, hit_count_head = tripleEvaluator.rerank(k=k, model=best_mlp, threshold=threshold, evaluate_for=\"head\")\n",
        "        head_percentage = hit_count_head / total_count_head * 100\n",
        "\n",
        "        # Evaluate for tail\n",
        "        total_count_tail, hit_count_tail = tripleEvaluator.rerank(k=k, model=best_mlp, threshold=threshold, evaluate_for=\"tail\")\n",
        "        tail_percentage = hit_count_tail / total_count_tail * 100\n",
        "\n",
        "        # Calculate overall metrics\n",
        "        overall_hit_count = hit_count_head + hit_count_tail\n",
        "        overall_total_count = total_count_head + total_count_tail\n",
        "        overall_percentage = (overall_hit_count / overall_total_count) * 100\n",
        "\n",
        "        # Print results immediately\n",
        "        print(\n",
        "            f\"k={k} | th={threshold} | \"\n",
        "            f\"head: {head_percentage:.2f}% | tail: {tail_percentage:.2f}% | overall: {overall_percentage:.2f}%\"\n",
        "        )"
      ]
    },
    {
      "cell_type": "code",
      "execution_count": 15,
      "metadata": {
        "colab": {
          "base_uri": "https://localhost:8080/"
        },
        "id": "hsbcZJ6fPomJ",
        "outputId": "dd03296e-657f-4106-fc38-c1c7ad5ba7c3"
      },
      "outputs": [
        {
          "name": "stdout",
          "output_type": "stream",
          "text": [
            "k=1 | th=1 | head: 0.90% | tail: 1.10% | overall: 1.01%\n",
            "k=1 | th=2 | head: 1.06% | tail: 2.27% | overall: 1.70%\n",
            "k=1 | th=3 | head: 1.18% | tail: 2.59% | overall: 1.92%\n",
            "k=1 | th=4 | head: 1.34% | tail: 2.84% | overall: 2.13%\n",
            "k=1 | th=5 | head: 1.30% | tail: 2.91% | overall: 2.15%\n",
            "k=1 | th=6 | head: 1.30% | tail: 2.81% | overall: 2.09%\n",
            "k=1 | th=7 | head: 1.18% | tail: 2.88% | overall: 2.07%\n",
            "k=1 | th=8 | head: 1.18% | tail: 3.02% | overall: 2.15%\n",
            "k=1 | th=9 | head: 1.10% | tail: 3.20% | overall: 2.20%\n",
            "k=1 | th=10 | head: 1.02% | tail: 3.20% | overall: 2.17%\n",
            "k=1 | th=20 | head: 0.98% | tail: 2.84% | overall: 1.96%\n",
            "k=1 | th=30 | head: 0.83% | tail: 2.24% | overall: 1.57%\n",
            "k=1 | th=40 | head: 0.79% | tail: 2.03% | overall: 1.44%\n",
            "k=1 | th=50 | head: 0.75% | tail: 1.92% | overall: 1.36%\n",
            "k=3 | th=3 | head: 38.67% | tail: 36.53% | overall: 37.55%\n",
            "k=3 | th=4 | head: 40.83% | tail: 38.49% | overall: 39.60%\n",
            "k=3 | th=5 | head: 41.42% | tail: 38.98% | overall: 40.14%\n",
            "k=3 | th=6 | head: 41.15% | tail: 38.84% | overall: 39.94%\n",
            "k=3 | th=7 | head: 41.15% | tail: 38.24% | overall: 39.62%\n",
            "k=3 | th=8 | head: 40.83% | tail: 38.34% | overall: 39.53%\n",
            "k=3 | th=9 | head: 40.76% | tail: 38.42% | overall: 39.53%\n",
            "k=3 | th=10 | head: 40.44% | tail: 38.10% | overall: 39.21%\n",
            "k=3 | th=20 | head: 39.18% | tail: 37.53% | overall: 38.31%\n",
            "k=3 | th=30 | head: 38.83% | tail: 36.92% | overall: 37.83%\n",
            "k=3 | th=40 | head: 38.36% | tail: 36.35% | overall: 37.30%\n",
            "k=3 | th=50 | head: 38.12% | tail: 36.00% | overall: 37.01%\n",
            "k=5 | th=5 | head: 44.45% | tail: 42.71% | overall: 43.54%\n",
            "k=5 | th=6 | head: 44.69% | tail: 43.11% | overall: 43.86%\n",
            "k=5 | th=7 | head: 44.85% | tail: 43.00% | overall: 43.88%\n",
            "k=5 | th=8 | head: 44.93% | tail: 42.96% | overall: 43.89%\n",
            "k=5 | th=9 | head: 44.77% | tail: 42.64% | overall: 43.65%\n",
            "k=5 | th=10 | head: 44.45% | tail: 42.32% | overall: 43.33%\n",
            "k=5 | th=20 | head: 43.75% | tail: 42.00% | overall: 42.83%\n",
            "k=5 | th=30 | head: 42.96% | tail: 41.26% | overall: 42.06%\n",
            "k=5 | th=40 | head: 42.76% | tail: 40.87% | overall: 41.77%\n",
            "k=5 | th=50 | head: 42.49% | tail: 40.55% | overall: 41.47%\n",
            "k=10 | th=10 | head: 47.09% | tail: 46.41% | overall: 46.73%\n",
            "k=10 | th=11 | head: 47.13% | tail: 46.34% | overall: 46.71%\n",
            "k=10 | th=12 | head: 47.21% | tail: 45.95% | overall: 46.55%\n",
            "k=10 | th=13 | head: 47.25% | tail: 45.74% | overall: 46.45%\n",
            "k=10 | th=14 | head: 47.13% | tail: 45.38% | overall: 46.21%\n",
            "k=10 | th=15 | head: 47.09% | tail: 45.17% | overall: 46.08%\n",
            "k=10 | th=16 | head: 47.01% | tail: 45.02% | overall: 45.97%\n",
            "k=10 | th=17 | head: 46.81% | tail: 44.99% | overall: 45.86%\n",
            "k=10 | th=18 | head: 46.77% | tail: 44.99% | overall: 45.84%\n",
            "k=10 | th=19 | head: 46.73% | tail: 45.10% | overall: 45.87%\n",
            "k=10 | th=20 | head: 46.62% | tail: 45.13% | overall: 45.84%\n",
            "k=10 | th=30 | head: 46.58% | tail: 44.95% | overall: 45.72%\n",
            "k=10 | th=40 | head: 46.11% | tail: 44.46% | overall: 45.24%\n",
            "k=10 | th=50 | head: 45.87% | tail: 44.24% | overall: 45.01%\n"
          ]
        }
      ],
      "source": [
        "# Define the mapping of k values to their respective threshold lists\n",
        "k_threshold_mapping = {\n",
        "    1: [1,2, 3,4, 5,6,7,8,9,10, 20, 30, 40, 50],\n",
        "    3: [3,4,5,6,7,8,9, 10, 20, 30, 40, 50],\n",
        "    5: [5,6,7,8,9, 10, 20, 30, 40, 50],\n",
        "    10: [10,11,12,13,14,15,16,17,18,19, 20, 30, 40, 50]\n",
        "}\n",
        "\n",
        "# Iterate through the mapping and print results on the fly\n",
        "for k, threshold_values in k_threshold_mapping.items():\n",
        "    for threshold in threshold_values:\n",
        "        # Evaluate for head\n",
        "        total_count_head, hit_count_head = tripleEvaluator.rerank(k=k, model=best_xgb, threshold=threshold, evaluate_for=\"head\")\n",
        "        head_percentage = hit_count_head / total_count_head * 100\n",
        "\n",
        "        # Evaluate for tail\n",
        "        total_count_tail, hit_count_tail = tripleEvaluator.rerank(k=k, model=best_xgb, threshold=threshold, evaluate_for=\"tail\")\n",
        "        tail_percentage = hit_count_tail / total_count_tail * 100\n",
        "\n",
        "        # Calculate overall metrics\n",
        "        overall_hit_count = hit_count_head + hit_count_tail\n",
        "        overall_total_count = total_count_head + total_count_tail\n",
        "        overall_percentage = (overall_hit_count / overall_total_count) * 100\n",
        "\n",
        "        # Print results immediately\n",
        "        print(\n",
        "            f\"k={k} | th={threshold} | \"\n",
        "            f\"head: {head_percentage:.2f}% | tail: {tail_percentage:.2f}% | overall: {overall_percentage:.2f}%\"\n",
        "        )"
      ]
    },
    {
      "cell_type": "code",
      "execution_count": 16,
      "metadata": {
        "colab": {
          "base_uri": "https://localhost:8080/"
        },
        "id": "nI-JrkLNPn4D",
        "outputId": "d31ac089-2e11-4e7d-f3e6-562464f9f10b"
      },
      "outputs": [
        {
          "name": "stdout",
          "output_type": "stream",
          "text": [
            "k=1 | th=1 | head: 0.90% | tail: 1.10% | overall: 1.01%\n",
            "k=1 | th=2 | head: 1.18% | tail: 2.38% | overall: 1.81%\n",
            "k=1 | th=3 | head: 1.42% | tail: 2.81% | overall: 2.15%\n",
            "k=1 | th=4 | head: 1.57% | tail: 3.09% | overall: 2.37%\n",
            "k=1 | th=5 | head: 1.49% | tail: 3.23% | overall: 2.41%\n",
            "k=1 | th=6 | head: 1.53% | tail: 3.13% | overall: 2.37%\n",
            "k=1 | th=7 | head: 1.49% | tail: 3.09% | overall: 2.33%\n",
            "k=1 | th=8 | head: 1.42% | tail: 3.23% | overall: 2.37%\n",
            "k=1 | th=9 | head: 1.34% | tail: 3.41% | overall: 2.43%\n",
            "k=1 | th=10 | head: 1.30% | tail: 3.38% | overall: 2.39%\n",
            "k=1 | th=20 | head: 1.18% | tail: 2.95% | overall: 2.11%\n",
            "k=1 | th=30 | head: 1.10% | tail: 2.59% | overall: 1.89%\n",
            "k=1 | th=40 | head: 1.10% | tail: 2.35% | overall: 1.76%\n",
            "k=1 | th=50 | head: 1.18% | tail: 2.06% | overall: 1.64%\n",
            "k=3 | th=3 | head: 38.67% | tail: 36.53% | overall: 37.55%\n",
            "k=3 | th=4 | head: 41.11% | tail: 38.56% | overall: 39.77%\n",
            "k=3 | th=5 | head: 41.62% | tail: 39.37% | overall: 40.44%\n",
            "k=3 | th=6 | head: 41.58% | tail: 39.45% | overall: 40.46%\n",
            "k=3 | th=7 | head: 41.58% | tail: 39.02% | overall: 40.24%\n",
            "k=3 | th=8 | head: 41.42% | tail: 38.66% | overall: 39.97%\n",
            "k=3 | th=9 | head: 41.07% | tail: 38.88% | overall: 39.92%\n",
            "k=3 | th=10 | head: 40.76% | tail: 38.77% | overall: 39.71%\n",
            "k=3 | th=20 | head: 39.65% | tail: 38.20% | overall: 38.89%\n",
            "k=3 | th=30 | head: 39.18% | tail: 37.14% | overall: 38.11%\n",
            "k=3 | th=40 | head: 38.63% | tail: 36.50% | overall: 37.51%\n",
            "k=3 | th=50 | head: 38.32% | tail: 36.25% | overall: 37.23%\n",
            "k=5 | th=5 | head: 44.45% | tail: 42.71% | overall: 43.54%\n",
            "k=5 | th=6 | head: 44.65% | tail: 42.96% | overall: 43.76%\n",
            "k=5 | th=7 | head: 44.85% | tail: 42.93% | overall: 43.84%\n",
            "k=5 | th=8 | head: 45.00% | tail: 42.93% | overall: 43.91%\n",
            "k=5 | th=9 | head: 44.89% | tail: 42.75% | overall: 43.76%\n",
            "k=5 | th=10 | head: 44.57% | tail: 42.18% | overall: 43.32%\n",
            "k=5 | th=20 | head: 43.94% | tail: 41.97% | overall: 42.91%\n",
            "k=5 | th=30 | head: 43.31% | tail: 41.93% | overall: 42.59%\n",
            "k=5 | th=40 | head: 42.96% | tail: 41.22% | overall: 42.05%\n",
            "k=5 | th=50 | head: 42.92% | tail: 40.41% | overall: 41.60%\n",
            "k=10 | th=10 | head: 47.09% | tail: 46.41% | overall: 46.73%\n",
            "k=10 | th=11 | head: 47.09% | tail: 46.30% | overall: 46.68%\n",
            "k=10 | th=12 | head: 47.13% | tail: 45.95% | overall: 46.51%\n",
            "k=10 | th=13 | head: 47.25% | tail: 45.81% | overall: 46.49%\n",
            "k=10 | th=14 | head: 47.25% | tail: 45.27% | overall: 46.21%\n",
            "k=10 | th=15 | head: 47.17% | tail: 45.17% | overall: 46.12%\n",
            "k=10 | th=16 | head: 47.17% | tail: 45.34% | overall: 46.21%\n",
            "k=10 | th=17 | head: 47.09% | tail: 45.45% | overall: 46.23%\n",
            "k=10 | th=18 | head: 47.21% | tail: 45.31% | overall: 46.21%\n",
            "k=10 | th=19 | head: 47.09% | tail: 45.17% | overall: 46.08%\n",
            "k=10 | th=20 | head: 46.93% | tail: 45.27% | overall: 46.06%\n",
            "k=10 | th=30 | head: 46.58% | tail: 45.10% | overall: 45.80%\n",
            "k=10 | th=40 | head: 45.95% | tail: 44.88% | overall: 45.39%\n",
            "k=10 | th=50 | head: 45.79% | tail: 44.42% | overall: 45.07%\n"
          ]
        }
      ],
      "source": [
        "# Define the mapping of k values to their respective threshold lists\n",
        "k_threshold_mapping = {\n",
        "    1: [1,2, 3,4, 5,6,7,8,9,10, 20, 30, 40, 50],\n",
        "    3: [3,4,5,6,7,8,9, 10, 20, 30, 40, 50],\n",
        "    5: [5,6,7,8,9, 10, 20, 30, 40, 50],\n",
        "    10: [10,11,12,13,14,15,16,17,18,19, 20, 30, 40, 50]\n",
        "}\n",
        "\n",
        "# Iterate through the mapping and print results on the fly\n",
        "for k, threshold_values in k_threshold_mapping.items():\n",
        "    for threshold in threshold_values:\n",
        "        # Evaluate for head\n",
        "        total_count_head, hit_count_head = tripleEvaluator.rerank(k=k, model=best_lgbm, threshold=threshold, evaluate_for=\"head\")\n",
        "        head_percentage = hit_count_head / total_count_head * 100\n",
        "\n",
        "        # Evaluate for tail\n",
        "        total_count_tail, hit_count_tail = tripleEvaluator.rerank(k=k, model=best_lgbm, threshold=threshold, evaluate_for=\"tail\")\n",
        "        tail_percentage = hit_count_tail / total_count_tail * 100\n",
        "\n",
        "        # Calculate overall metrics\n",
        "        overall_hit_count = hit_count_head + hit_count_tail\n",
        "        overall_total_count = total_count_head + total_count_tail\n",
        "        overall_percentage = (overall_hit_count / overall_total_count) * 100\n",
        "\n",
        "        # Print results immediately\n",
        "        print(\n",
        "            f\"k={k} | th={threshold} | \"\n",
        "            f\"head: {head_percentage:.2f}% | tail: {tail_percentage:.2f}% | overall: {overall_percentage:.2f}%\"\n",
        "        )"
      ]
    },
    {
      "cell_type": "code",
      "execution_count": 17,
      "metadata": {
        "colab": {
          "base_uri": "https://localhost:8080/"
        },
        "id": "SfckpZ0vgt-J",
        "outputId": "0a0982a0-971f-4180-889d-f34fad823a1b"
      },
      "outputs": [
        {
          "name": "stdout",
          "output_type": "stream",
          "text": [
            "k=1 | th=1 | head: 0.90% | tail: 1.10% | overall: 1.01%\n",
            "k=1 | th=2 | head: 1.22% | tail: 2.31% | overall: 1.79%\n",
            "k=1 | th=3 | head: 1.34% | tail: 2.59% | overall: 2.00%\n",
            "k=1 | th=4 | head: 1.42% | tail: 2.91% | overall: 2.20%\n",
            "k=1 | th=5 | head: 1.53% | tail: 2.99% | overall: 2.30%\n",
            "k=1 | th=6 | head: 1.49% | tail: 2.77% | overall: 2.17%\n",
            "k=1 | th=7 | head: 1.46% | tail: 2.70% | overall: 2.11%\n",
            "k=1 | th=8 | head: 1.42% | tail: 2.88% | overall: 2.18%\n",
            "k=1 | th=9 | head: 1.34% | tail: 3.13% | overall: 2.28%\n",
            "k=1 | th=10 | head: 1.26% | tail: 3.02% | overall: 2.18%\n",
            "k=1 | th=20 | head: 1.02% | tail: 2.74% | overall: 1.92%\n",
            "k=1 | th=30 | head: 0.79% | tail: 2.35% | overall: 1.61%\n",
            "k=1 | th=40 | head: 0.75% | tail: 1.95% | overall: 1.38%\n",
            "k=1 | th=50 | head: 0.71% | tail: 1.81% | overall: 1.29%\n",
            "k=3 | th=3 | head: 38.67% | tail: 36.53% | overall: 37.55%\n",
            "k=3 | th=4 | head: 41.11% | tail: 38.63% | overall: 39.81%\n",
            "k=3 | th=5 | head: 42.13% | tail: 39.34% | overall: 40.66%\n",
            "k=3 | th=6 | head: 42.29% | tail: 39.45% | overall: 40.80%\n",
            "k=3 | th=7 | head: 42.33% | tail: 39.27% | overall: 40.72%\n",
            "k=3 | th=8 | head: 42.09% | tail: 39.34% | overall: 40.65%\n",
            "k=3 | th=9 | head: 42.09% | tail: 39.55% | overall: 40.76%\n",
            "k=3 | th=10 | head: 41.90% | tail: 39.30% | overall: 40.53%\n",
            "k=3 | th=20 | head: 41.31% | tail: 39.09% | overall: 40.14%\n",
            "k=3 | th=30 | head: 41.11% | tail: 38.31% | overall: 39.64%\n",
            "k=3 | th=40 | head: 40.72% | tail: 37.78% | overall: 39.17%\n",
            "k=3 | th=50 | head: 40.64% | tail: 37.56% | overall: 39.02%\n",
            "k=5 | th=5 | head: 44.45% | tail: 42.71% | overall: 43.54%\n",
            "k=5 | th=6 | head: 44.81% | tail: 43.14% | overall: 43.93%\n",
            "k=5 | th=7 | head: 45.04% | tail: 43.07% | overall: 44.01%\n",
            "k=5 | th=8 | head: 45.28% | tail: 43.00% | overall: 44.08%\n",
            "k=5 | th=9 | head: 45.16% | tail: 42.96% | overall: 44.01%\n",
            "k=5 | th=10 | head: 44.81% | tail: 42.47% | overall: 43.58%\n",
            "k=5 | th=20 | head: 44.37% | tail: 43.00% | overall: 43.65%\n",
            "k=5 | th=30 | head: 44.14% | tail: 42.47% | overall: 43.26%\n",
            "k=5 | th=40 | head: 43.94% | tail: 41.83% | overall: 42.83%\n",
            "k=5 | th=50 | head: 43.94% | tail: 41.47% | overall: 42.64%\n",
            "k=10 | th=10 | head: 47.09% | tail: 46.41% | overall: 46.73%\n",
            "k=10 | th=11 | head: 47.09% | tail: 46.30% | overall: 46.68%\n",
            "k=10 | th=12 | head: 47.13% | tail: 45.98% | overall: 46.53%\n",
            "k=10 | th=13 | head: 47.25% | tail: 45.77% | overall: 46.47%\n",
            "k=10 | th=14 | head: 47.32% | tail: 45.31% | overall: 46.27%\n",
            "k=10 | th=15 | head: 47.29% | tail: 45.13% | overall: 46.15%\n",
            "k=10 | th=16 | head: 47.21% | tail: 45.13% | overall: 46.12%\n",
            "k=10 | th=17 | head: 47.01% | tail: 45.13% | overall: 46.02%\n",
            "k=10 | th=18 | head: 47.13% | tail: 45.17% | overall: 46.10%\n",
            "k=10 | th=19 | head: 46.97% | tail: 45.17% | overall: 46.02%\n",
            "k=10 | th=20 | head: 46.93% | tail: 45.13% | overall: 45.99%\n",
            "k=10 | th=30 | head: 46.54% | tail: 45.52% | overall: 46.00%\n",
            "k=10 | th=40 | head: 46.34% | tail: 45.17% | overall: 45.72%\n",
            "k=10 | th=50 | head: 46.34% | tail: 44.53% | overall: 45.39%\n"
          ]
        }
      ],
      "source": [
        "# Define the mapping of k values to their respective threshold lists\n",
        "k_threshold_mapping = {\n",
        "    1: [1,2, 3,4, 5,6,7,8,9,10, 20, 30, 40, 50],\n",
        "    3: [3,4,5,6,7,8,9, 10, 20, 30, 40, 50],\n",
        "    5: [5,6,7,8,9, 10, 20, 30, 40, 50],\n",
        "    10: [10,11,12,13,14,15,16,17,18,19, 20, 30, 40, 50]\n",
        "}\n",
        "\n",
        "# Iterate through the mapping and print results on the fly\n",
        "for k, threshold_values in k_threshold_mapping.items():\n",
        "    for threshold in threshold_values:\n",
        "        # Evaluate for head\n",
        "        total_count_head, hit_count_head = tripleEvaluator.rerank(k=k, model=ensemble_model, threshold=threshold, evaluate_for=\"head\")\n",
        "        head_percentage = hit_count_head / total_count_head * 100\n",
        "\n",
        "        # Evaluate for tail\n",
        "        total_count_tail, hit_count_tail = tripleEvaluator.rerank(k=k, model=ensemble_model, threshold=threshold, evaluate_for=\"tail\")\n",
        "        tail_percentage = hit_count_tail / total_count_tail * 100\n",
        "\n",
        "        # Calculate overall metrics\n",
        "        overall_hit_count = hit_count_head + hit_count_tail\n",
        "        overall_total_count = total_count_head + total_count_tail\n",
        "        overall_percentage = (overall_hit_count / overall_total_count) * 100\n",
        "\n",
        "        # Print results immediately\n",
        "        print(\n",
        "            f\"k={k} | th={threshold} | \"\n",
        "            f\"head: {head_percentage:.2f}% | tail: {tail_percentage:.2f}% | overall: {overall_percentage:.2f}%\"\n",
        "        )"
      ]
    }
  ],
  "metadata": {
    "colab": {
      "machine_shape": "hm",
      "provenance": []
    },
    "kernelspec": {
      "display_name": "Python 3",
      "name": "python3"
    },
    "language_info": {
      "name": "python"
    }
  },
  "nbformat": 4,
  "nbformat_minor": 0
}
