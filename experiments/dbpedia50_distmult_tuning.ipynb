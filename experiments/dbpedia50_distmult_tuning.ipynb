{
  "cells": [
    {
      "cell_type": "code",
      "execution_count": null,
      "metadata": {
        "id": "X5k8WFGpevba"
      },
      "outputs": [],
      "source": [
        "#!pip uninstall scikit-learn\n",
        "#!pip install scikit-learn==1.5.2"
      ]
    },
    {
      "cell_type": "code",
      "execution_count": null,
      "metadata": {
        "id": "W7uPMNxqSZXX"
      },
      "outputs": [],
      "source": [
        "import pandas as pd\n",
        "import numpy as np\n",
        "from tqdm import tqdm\n",
        "import pickle\n",
        "import time\n",
        "from sklearn.metrics import accuracy_score, precision_score, recall_score, f1_score,roc_curve,auc,classification_report,make_scorer\n",
        "from sklearn.model_selection import train_test_split,GridSearchCV\n",
        "from sklearn.neural_network import MLPClassifier\n",
        "from sklearn.ensemble import VotingClassifier\n",
        "from lightgbm import LGBMClassifier\n",
        "from xgboost import XGBClassifier\n",
        "\n",
        "from link_prediction import *"
      ]
    },
    {
      "cell_type": "code",
      "execution_count": 2,
      "metadata": {
        "id": "v4rpvOhwSxVE"
      },
      "outputs": [],
      "source": [
        "#Load the entity embeddings dict\n",
        "with open(\"dbpedia50_distmult_entity_embeddings.pkl\", \"rb\") as f:\n",
        "    entity_embeddings = pickle.load(f)\n",
        "#Load the predicate embeddings dict\n",
        "with open(\"dbpedia50_distmult_predicate_embeddings.pkl\", \"rb\") as f:\n",
        "    predicate_embeddings = pickle.load(f)\n",
        "\n",
        "train_triples = pd.read_csv('dbpedia50_train.csv', dtype=str)\n",
        "test_triples = pd.read_csv('dbpedia50_test_filtered.csv', dtype=str)"
      ]
    },
    {
      "cell_type": "markdown",
      "metadata": {
        "id": "vUmY423XWjUn"
      },
      "source": [
        "**Create Negative Samples**"
      ]
    },
    {
      "cell_type": "code",
      "execution_count": 3,
      "metadata": {
        "colab": {
          "base_uri": "https://localhost:8080/"
        },
        "id": "0VYaBwd_S6Ni",
        "outputId": "6c81dfb6-0acc-40c9-f036-952d8e313add"
      },
      "outputs": [
        {
          "name": "stderr",
          "output_type": "stream",
          "text": [
            "Processing triples: 100%|██████████| 32388/32388 [00:21<00:00, 1522.53triple/s]\n",
            "Processing triples: 100%|██████████| 32388/32388 [00:24<00:00, 1331.13triple/s]"
          ]
        },
        {
          "name": "stdout",
          "output_type": "stream",
          "text": [
            "29346\n",
            "11846\n"
          ]
        },
        {
          "name": "stderr",
          "output_type": "stream",
          "text": [
            "\n"
          ]
        }
      ],
      "source": [
        "training_object=Training(entity_embeddings,predicate_embeddings,train_triples,test_triples, model='DistMult')\n",
        "tail_df = training_object.create_training_data_filtered(n=1, creating_for=\"tail\")\n",
        "head_df = training_object.create_training_data_filtered(n=1, creating_for=\"head\")\n",
        "print(len(tail_df))\n",
        "print(len(head_df))"
      ]
    },
    {
      "cell_type": "markdown",
      "metadata": {
        "id": "8js9F5XPTLq3"
      },
      "source": [
        "**Prepare Training Data**"
      ]
    },
    {
      "cell_type": "code",
      "execution_count": 4,
      "metadata": {
        "colab": {
          "base_uri": "https://localhost:8080/",
          "height": 178
        },
        "id": "qOXSQ_U0TEOd",
        "outputId": "df620799-4b6f-4b31-9cca-72b703a99c01"
      },
      "outputs": [
        {
          "data": {
            "text/html": [
              "<div>\n",
              "<style scoped>\n",
              "    .dataframe tbody tr th:only-of-type {\n",
              "        vertical-align: middle;\n",
              "    }\n",
              "\n",
              "    .dataframe tbody tr th {\n",
              "        vertical-align: top;\n",
              "    }\n",
              "\n",
              "    .dataframe thead th {\n",
              "        text-align: right;\n",
              "    }\n",
              "</style>\n",
              "<table border=\"1\" class=\"dataframe\">\n",
              "  <thead>\n",
              "    <tr style=\"text-align: right;\">\n",
              "      <th></th>\n",
              "      <th>count</th>\n",
              "    </tr>\n",
              "    <tr>\n",
              "      <th>label</th>\n",
              "      <th></th>\n",
              "    </tr>\n",
              "  </thead>\n",
              "  <tbody>\n",
              "    <tr>\n",
              "      <th>0</th>\n",
              "      <td>40004</td>\n",
              "    </tr>\n",
              "    <tr>\n",
              "      <th>1</th>\n",
              "      <td>32203</td>\n",
              "    </tr>\n",
              "  </tbody>\n",
              "</table>\n",
              "</div><br><label><b>dtype:</b> int64</label>"
            ],
            "text/plain": [
              "label\n",
              "0    40004\n",
              "1    32203\n",
              "Name: count, dtype: int64"
            ]
          },
          "execution_count": 4,
          "metadata": {},
          "output_type": "execute_result"
        }
      ],
      "source": [
        "train_triples['label']=1\n",
        "train_df = pd.concat([head_df,tail_df,train_triples], axis=0)\n",
        "# Reset the index\n",
        "train_df.reset_index(drop=True, inplace=True)\n",
        "# Drop duplicate rows\n",
        "train_df.drop_duplicates(inplace=True)\n",
        "# Step 1: Prepare the training data\n",
        "train_df['embedding'] = train_df.apply(lambda row: training_object.get_embedding(row).cpu().numpy(), axis=1)\n",
        "X_train = np.vstack(train_df['embedding'].values)  # Stack embeddings into a matrix\n",
        "y_train = train_df['label'].values  # Labels\n",
        "# Step 1: Split the data into training and test sets with stratification\n",
        "X_train, X_test, y_train, y_test = train_test_split(\n",
        "    np.vstack(train_df['embedding'].values),  # Embeddings matrix\n",
        "    train_df['label'].values,                # Labels\n",
        "    test_size=0.1,                           # 10% of the data for testing\n",
        "    random_state=42,                         # For reproducibility\n",
        "    stratify=train_df['label'].values        # Maintain label distribution\n",
        ")\n",
        "train_df['label'].value_counts()"
      ]
    },
    {
      "cell_type": "markdown",
      "metadata": {
        "id": "BewwL105Telw"
      },
      "source": [
        "**Set Models**"
      ]
    },
    {
      "cell_type": "markdown",
      "metadata": {
        "id": "FGzknXtLORux"
      },
      "source": [
        "**MLP**"
      ]
    },
    {
      "cell_type": "code",
      "execution_count": 5,
      "metadata": {
        "id": "H5xDOwytHTUk"
      },
      "outputs": [],
      "source": [
        "import warnings\n",
        "from sklearn.exceptions import ConvergenceWarning\n",
        "warnings.simplefilter(\"ignore\", ConvergenceWarning)"
      ]
    },
    {
      "cell_type": "code",
      "execution_count": 6,
      "metadata": {
        "colab": {
          "base_uri": "https://localhost:8080/"
        },
        "id": "4Ep1UaH6TPR_",
        "outputId": "e5c33e92-ac7a-4183-f9f0-48af6078bc55"
      },
      "outputs": [
        {
          "name": "stdout",
          "output_type": "stream",
          "text": [
            "Best parameters for MLP: {'hidden_layer_sizes': (256, 256), 'alpha': 0.001, 'learning_rate_init': 0.001, 'max_iter': 100, 'f1_score': 0.6327856324035155, 'accuracy': 0.7338318792411024, 'precision_0': 0.6996351065872863, 'precision_1': 0.8222442899702085, 'recall_0': 0.9105223694076481, 'recall_1': 0.5142857142857142}\n"
          ]
        }
      ],
      "source": [
        "param_grid_mlp = {\n",
        "    'hidden_layer_sizes': [ (64, 64), (128, 128), (256, 256)],\n",
        "    'alpha': [0.0001, 0.001, 0.01],\n",
        "    'learning_rate_init': [0.001, 0.01, 0.1],\n",
        "    'max_iter': [25, 50, 100]\n",
        "}\n",
        "\n",
        "\n",
        "results_mlp = []\n",
        "for hidden_layer_sizes in param_grid_mlp['hidden_layer_sizes']:\n",
        "    for alpha in param_grid_mlp['alpha']:\n",
        "        for learning_rate_init in param_grid_mlp['learning_rate_init']:\n",
        "            for max_iter in param_grid_mlp['max_iter']:\n",
        "                mlp = MLPClassifier(\n",
        "                    hidden_layer_sizes=hidden_layer_sizes,\n",
        "                    alpha=alpha,\n",
        "                    learning_rate_init=learning_rate_init,\n",
        "                    max_iter=max_iter,\n",
        "                    solver='adam',\n",
        "                    early_stopping=True,\n",
        "                    batch_size=32,\n",
        "                    random_state=42\n",
        "                )\n",
        "                mlp.fit(X_train, y_train)\n",
        "                preds = mlp.predict(X_test)\n",
        "\n",
        "                # Calculate metrics\n",
        "                score_f1 = f1_score(y_test, preds)\n",
        "                acc = accuracy_score(y_test, preds)\n",
        "                precisions = precision_score(y_test, preds, average=None, zero_division=0)\n",
        "                recalls = recall_score(y_test, preds, average=None, zero_division=0)\n",
        "\n",
        "                results_mlp.append({\n",
        "                    'hidden_layer_sizes': hidden_layer_sizes,\n",
        "                    'alpha': alpha,\n",
        "                    'learning_rate_init': learning_rate_init,\n",
        "                    'max_iter': max_iter,\n",
        "                    'f1_score': score_f1,\n",
        "                    'accuracy': acc,\n",
        "                    'precision_0': precisions[0],\n",
        "                    'precision_1': precisions[1],\n",
        "                    'recall_0': recalls[0],\n",
        "                    'recall_1': recalls[1]\n",
        "                })\n",
        "\n",
        "df_results_mlp = pd.DataFrame(results_mlp)\n",
        "\n",
        "best_mlp_params = df_results_mlp.sort_values(by='f1_score', ascending=False).iloc[0].to_dict()\n",
        "print(\"Best parameters for MLP:\", best_mlp_params)"
      ]
    },
    {
      "cell_type": "markdown",
      "metadata": {
        "id": "S9YJEh-WOP07"
      },
      "source": [
        "**XGB**"
      ]
    },
    {
      "cell_type": "code",
      "execution_count": 7,
      "metadata": {
        "colab": {
          "base_uri": "https://localhost:8080/"
        },
        "id": "zlTfpHrPMA7v",
        "outputId": "aa80afb8-afea-4436-c2d2-5bbb07f5c439"
      },
      "outputs": [
        {
          "name": "stdout",
          "output_type": "stream",
          "text": [
            "Best parameters for XGBClassifier: {'n_estimators': 300.0, 'max_depth': 5.0, 'learning_rate': 0.2, 'f1_score': 0.8886138613861386, 'accuracy': 0.9002908184461986, 'precision_0': 0.9124968569273322, 'precision_1': 0.8853267570900123, 'recall_0': 0.9070232441889527, 'recall_1': 0.8919254658385093}\n"
          ]
        }
      ],
      "source": [
        "param_grid_xgb = {\n",
        "    'n_estimators': [100, 200, 300],\n",
        "    'max_depth': [5, 10, 15],\n",
        "    # 'scale_pos_weight': [0.5, 1, 2],  # commented out as provided\n",
        "    'learning_rate': [0.01, 0.1, 0.2]\n",
        "}\n",
        "\n",
        "\n",
        "results_xgb = []\n",
        "for n_estimators in param_grid_xgb['n_estimators']:\n",
        "    for max_depth in param_grid_xgb['max_depth']:\n",
        "        for learning_rate in param_grid_xgb['learning_rate']:\n",
        "            xgb = XGBClassifier(\n",
        "                n_estimators=n_estimators,\n",
        "                max_depth=max_depth,\n",
        "                learning_rate=learning_rate,\n",
        "                random_state=42,\n",
        "            )\n",
        "            xgb.fit(X_train, y_train)\n",
        "            preds = xgb.predict(X_test)\n",
        "\n",
        "            # Calculate metrics\n",
        "            score_f1 = f1_score(y_test, preds)\n",
        "            acc = accuracy_score(y_test, preds)\n",
        "            precisions = precision_score(y_test, preds, average=None, zero_division=0)\n",
        "            recalls = recall_score(y_test, preds, average=None, zero_division=0)\n",
        "\n",
        "            results_xgb.append({\n",
        "                'n_estimators': n_estimators,\n",
        "                'max_depth': max_depth,\n",
        "                'learning_rate': learning_rate,\n",
        "                'f1_score': score_f1,\n",
        "                'accuracy': acc,\n",
        "                'precision_0': precisions[0],\n",
        "                'precision_1': precisions[1],\n",
        "                'recall_0': recalls[0],\n",
        "                'recall_1': recalls[1]\n",
        "            })\n",
        "\n",
        "df_results_xgb = pd.DataFrame(results_xgb)\n",
        "best_xgb_params = df_results_xgb.sort_values(by='f1_score', ascending=False).iloc[0].to_dict()\n",
        "print(\"Best parameters for XGBClassifier:\", best_xgb_params)"
      ]
    },
    {
      "cell_type": "markdown",
      "metadata": {
        "id": "sBawiIGpOUxY"
      },
      "source": [
        "**LGBM**"
      ]
    },
    {
      "cell_type": "code",
      "execution_count": null,
      "metadata": {
        "colab": {
          "base_uri": "https://localhost:8080/"
        },
        "id": "HKdY6e6LMCG8",
        "outputId": "ef108249-6cf9-4f1d-bd6b-9f12361e1125"
      },
      "outputs": [],
      "source": [
        "param_grid_lgbm = {\n",
        "    'n_estimators': [100, 200, 300],\n",
        "    'max_depth': [5, 10, 15],\n",
        "    'learning_rate': [0.01, 0.1, 0.2],\n",
        "    'is_unbalance': [True, False]\n",
        "}\n",
        "\n",
        "results_lgbm = []\n",
        "for n_estimators in param_grid_lgbm['n_estimators']:\n",
        "    for max_depth in param_grid_lgbm['max_depth']:\n",
        "        for learning_rate in param_grid_lgbm['learning_rate']:\n",
        "            for is_unbalance in param_grid_lgbm['is_unbalance']:\n",
        "                lgbm = LGBMClassifier(\n",
        "                    n_estimators=n_estimators,\n",
        "                    max_depth=max_depth,\n",
        "                    learning_rate=learning_rate,\n",
        "                    is_unbalance=is_unbalance,\n",
        "                    random_state=42\n",
        "                )\n",
        "                lgbm.fit(X_train, y_train)\n",
        "                preds = lgbm.predict(X_test)\n",
        "\n",
        "                # Calculate metrics\n",
        "                score_f1 = f1_score(y_test, preds)\n",
        "                acc = accuracy_score(y_test, preds)\n",
        "                precisions = precision_score(y_test, preds, average=None, zero_division=0)\n",
        "                recalls = recall_score(y_test, preds, average=None, zero_division=0)\n",
        "\n",
        "                results_lgbm.append({\n",
        "                    'n_estimators': n_estimators,\n",
        "                    'max_depth': max_depth,\n",
        "                    'learning_rate': learning_rate,\n",
        "                    'is_unbalance': is_unbalance,\n",
        "                    'f1_score': score_f1,\n",
        "                    'accuracy': acc,\n",
        "                    'precision_0': precisions[0],\n",
        "                    'precision_1': precisions[1],\n",
        "                    'recall_0': recalls[0],\n",
        "                    'recall_1': recalls[1]\n",
        "                })\n",
        "\n",
        "df_results_lgbm = pd.DataFrame(results_lgbm)\n",
        "best_lgbm_params = df_results_lgbm.sort_values(by='f1_score', ascending=False).iloc[0].to_dict()\n",
        "print(\"Best parameters for LGBM:\", best_lgbm_params)"
      ]
    },
    {
      "cell_type": "markdown",
      "metadata": {
        "id": "g3wpa-6XTijx"
      },
      "source": [
        "**Train Ensemble**"
      ]
    },
    {
      "cell_type": "code",
      "execution_count": null,
      "metadata": {
        "colab": {
          "base_uri": "https://localhost:8080/"
        },
        "id": "hh_nSA9ATkra",
        "outputId": "a1b94187-da7e-4344-e14a-baf52bfa1b52"
      },
      "outputs": [],
      "source": [
        "# Best MLPClassifier\n",
        "best_mlp = MLPClassifier(\n",
        "    hidden_layer_sizes=best_mlp_params['hidden_layer_sizes'],\n",
        "    alpha=best_mlp_params['alpha'],\n",
        "    learning_rate_init=best_mlp_params['learning_rate_init'],\n",
        "    max_iter=best_mlp_params['max_iter'],\n",
        "    solver='adam',\n",
        "    early_stopping=True,\n",
        "    batch_size=32,\n",
        "    random_state=42\n",
        ")\n",
        "best_mlp.fit(X_train, y_train)\n",
        "preds_mlp = best_mlp.predict(X_test)\n",
        "report_mlp = classification_report(y_test, preds_mlp)\n",
        "\n",
        "# Best XGBClassifier\n",
        "best_xgb = XGBClassifier(\n",
        "    n_estimators=int(best_xgb_params['n_estimators']),\n",
        "    max_depth=int(best_xgb_params['max_depth']),\n",
        "    learning_rate=float(best_xgb_params['learning_rate']),\n",
        "    random_state=42,\n",
        ")\n",
        "best_xgb.fit(X_train, y_train)\n",
        "preds_xgb = best_xgb.predict(X_test)\n",
        "report_xgb = classification_report(y_test, preds_xgb)\n",
        "\n",
        "# Best LGBMClassifier\n",
        "best_lgbm = LGBMClassifier(\n",
        "    n_estimators=best_lgbm_params['n_estimators'],\n",
        "    max_depth=best_lgbm_params['max_depth'],\n",
        "    learning_rate=best_lgbm_params['learning_rate'],\n",
        "    is_unbalance=best_lgbm_params['is_unbalance'],\n",
        "    random_state=42\n",
        ")\n",
        "best_lgbm.fit(X_train, y_train)\n",
        "preds_lgbm = best_lgbm.predict(X_test)\n",
        "report_lgbm = classification_report(y_test, preds_lgbm)\n",
        "\n",
        "######################################\n",
        "# Ensemble the best models using VotingClassifier\n",
        "######################################\n",
        "ensemble_model = VotingClassifier(\n",
        "    estimators=[\n",
        "        ('mlp', best_mlp),\n",
        "        ('xgb', best_xgb),\n",
        "        ('lgbm', best_lgbm)\n",
        "    ],\n",
        "    voting='soft',  # Soft voting uses predicted probabilities\n",
        "    n_jobs=-1\n",
        ")\n",
        "\n",
        "start_time = time.time()\n",
        "ensemble_model.fit(X_train, y_train)\n",
        "end_time = time.time()\n",
        "\n",
        "ensemble_time = end_time - start_time\n",
        "preds_ensemble = ensemble_model.predict(X_test)\n",
        "ensemble_acc = accuracy_score(y_test, preds_ensemble)\n",
        "report_ensemble = classification_report(y_test, preds_ensemble)"
      ]
    },
    {
      "cell_type": "code",
      "execution_count": 10,
      "metadata": {
        "colab": {
          "base_uri": "https://localhost:8080/"
        },
        "id": "k5DyVfR1gsKV",
        "outputId": "c4c9b415-4859-49ed-e402-587da3efff86"
      },
      "outputs": [
        {
          "name": "stdout",
          "output_type": "stream",
          "text": [
            "Ensemble Accuracy: 0.8976596039329733\n",
            "Ensemble Classification Report:\n",
            "               precision    recall  f1-score   support\n",
            "\n",
            "           0       0.91      0.90      0.91      4001\n",
            "           1       0.88      0.89      0.89      3220\n",
            "\n",
            "    accuracy                           0.90      7221\n",
            "   macro avg       0.90      0.90      0.90      7221\n",
            "weighted avg       0.90      0.90      0.90      7221\n",
            "\n"
          ]
        },
        {
          "name": "stderr",
          "output_type": "stream",
          "text": [
            "/usr/local/lib/python3.11/dist-packages/sklearn/utils/deprecation.py:151: FutureWarning: 'force_all_finite' was renamed to 'ensure_all_finite' in 1.6 and will be removed in 1.8.\n",
            "  warnings.warn(\n"
          ]
        }
      ],
      "source": [
        "y_pred_ensemble = ensemble_model.predict(X_test)\n",
        "print(\"Ensemble Accuracy:\", accuracy_score(y_test, y_pred_ensemble))\n",
        "print(\"Ensemble Classification Report:\\n\", classification_report(y_test, y_pred_ensemble))"
      ]
    },
    {
      "cell_type": "code",
      "execution_count": null,
      "metadata": {
        "colab": {
          "base_uri": "https://localhost:8080/"
        },
        "id": "4T9ZI5stKmN1",
        "outputId": "a50c91bc-4ea3-4bb2-a736-17990e34bd8f"
      },
      "outputs": [
        {
          "name": "stdout",
          "output_type": "stream",
          "text": [
            "Results saved to model_results.txt\n"
          ]
        }
      ],
      "source": [
        "with open(\"/content/drive/MyDrive/link_prediction/tuning/dbpedia50_distmult_tuning.txt\", \"w\") as f:\n",
        "    f.write(\"##############################\\n\")\n",
        "    f.write(\"MLPClassifier Full Results\\n\")\n",
        "    f.write(\"##############################\\n\")\n",
        "    f.write(df_results_mlp.to_string())\n",
        "    f.write(\"\\n\\nBest Parameters for MLPClassifier:\\n\")\n",
        "    f.write(str(best_mlp_params))\n",
        "    f.write(\"\\n\\nClassification Report for Best MLPClassifier:\\n\")\n",
        "    f.write(report_mlp)\n",
        "\n",
        "    f.write(\"\\n\\n\\n##############################\\n\")\n",
        "    f.write(\"XGBClassifier Full Results\\n\")\n",
        "    f.write(\"##############################\\n\")\n",
        "    f.write(df_results_xgb.to_string())\n",
        "    f.write(\"\\n\\nBest Parameters for XGBClassifier:\\n\")\n",
        "    f.write(str(best_xgb_params))\n",
        "    f.write(\"\\n\\nClassification Report for Best XGBClassifier:\\n\")\n",
        "    f.write(report_xgb)\n",
        "\n",
        "    f.write(\"\\n\\n\\n##############################\\n\")\n",
        "    f.write(\"LGBMClassifier Full Results\\n\")\n",
        "    f.write(\"##############################\\n\")\n",
        "    f.write(df_results_lgbm.to_string())\n",
        "    f.write(\"\\n\\nBest Parameters for LGBMClassifier:\\n\")\n",
        "    f.write(str(best_lgbm_params))\n",
        "    f.write(\"\\n\\nClassification Report for Best LGBMClassifier:\\n\")\n",
        "    f.write(report_lgbm)\n",
        "\n",
        "    f.write(\"\\n\\n\\n##############################\\n\")\n",
        "    f.write(\"Ensemble Model Performance\\n\")\n",
        "    f.write(\"##############################\\n\")\n",
        "    f.write(\"Ensemble Accuracy: {:.4f}\\n\".format(ensemble_acc))\n",
        "    f.write(\"Ensemble Classification Report:\\n\")\n",
        "    f.write(report_ensemble)\n",
        "\n",
        "print(\"Results saved to model_results.txt\")"
      ]
    },
    {
      "cell_type": "markdown",
      "metadata": {
        "id": "LaaXmNZEUIB1"
      },
      "source": [
        "**Rerank Hitk**"
      ]
    },
    {
      "cell_type": "code",
      "execution_count": 12,
      "metadata": {
        "id": "NklFNH7RUlTM"
      },
      "outputs": [],
      "source": [
        "import warnings\n",
        "warnings.simplefilter(action='ignore', category=FutureWarning)"
      ]
    },
    {
      "cell_type": "code",
      "execution_count": 13,
      "metadata": {
        "colab": {
          "base_uri": "https://localhost:8080/"
        },
        "id": "8bcKVBNzUjTD",
        "outputId": "8a417324-b681-49ac-8795-e356d258f3c5"
      },
      "outputs": [
        {
          "name": "stderr",
          "output_type": "stream",
          "text": [
            "Precomputing top-k predictions: 100%|██████████| 2098/2098 [00:12<00:00, 170.39it/s]\n"
          ]
        }
      ],
      "source": [
        "tripleEvaluator=TripleEvaluator(entity_embeddings,predicate_embeddings,train_triples,test_triples, model='DistMult', k=50)"
      ]
    },
    {
      "cell_type": "code",
      "execution_count": 14,
      "metadata": {
        "colab": {
          "base_uri": "https://localhost:8080/"
        },
        "id": "D3XXGZChPo76",
        "outputId": "b7ac2a09-66af-4108-8c29-884a7ff479e5"
      },
      "outputs": [
        {
          "name": "stdout",
          "output_type": "stream",
          "text": [
            "k=1 | th=1 | head: 32.19% | tail: 41.08% | overall: 37.58%\n",
            "k=1 | th=2 | head: 22.95% | tail: 35.23% | overall: 30.40%\n",
            "k=1 | th=3 | head: 17.73% | tail: 31.27% | overall: 25.95%\n",
            "k=1 | th=4 | head: 14.31% | tail: 28.61% | overall: 22.98%\n",
            "k=1 | th=5 | head: 12.44% | tail: 26.68% | overall: 21.08%\n",
            "k=1 | th=6 | head: 10.36% | tail: 24.99% | overall: 19.23%\n",
            "k=1 | th=7 | head: 9.02% | tail: 23.97% | overall: 18.09%\n",
            "k=1 | th=8 | head: 7.60% | tail: 23.15% | overall: 17.03%\n",
            "k=1 | th=9 | head: 6.78% | tail: 22.38% | overall: 16.24%\n",
            "k=1 | th=10 | head: 6.26% | tail: 22.18% | overall: 15.92%\n",
            "k=1 | th=20 | head: 3.73% | tail: 19.72% | overall: 13.43%\n",
            "k=1 | th=30 | head: 3.20% | tail: 18.51% | overall: 12.49%\n",
            "k=1 | th=40 | head: 2.53% | tail: 17.88% | overall: 11.84%\n",
            "k=1 | th=50 | head: 2.31% | tail: 17.45% | overall: 11.49%\n",
            "k=3 | th=3 | head: 42.62% | tail: 51.28% | overall: 47.87%\n",
            "k=3 | th=4 | head: 36.36% | tail: 47.46% | overall: 43.10%\n",
            "k=3 | th=5 | head: 31.89% | tail: 43.35% | overall: 38.84%\n",
            "k=3 | th=6 | head: 28.61% | tail: 41.23% | overall: 36.27%\n",
            "k=3 | th=7 | head: 25.11% | tail: 39.29% | overall: 33.71%\n",
            "k=3 | th=8 | head: 22.65% | tail: 37.60% | overall: 31.72%\n",
            "k=3 | th=9 | head: 20.27% | tail: 36.06% | overall: 29.84%\n",
            "k=3 | th=10 | head: 19.08% | tail: 34.27% | overall: 28.29%\n",
            "k=3 | th=20 | head: 11.25% | tail: 28.32% | overall: 21.61%\n",
            "k=3 | th=30 | head: 8.57% | tail: 25.71% | overall: 18.97%\n",
            "k=3 | th=40 | head: 6.63% | tail: 24.50% | overall: 17.47%\n",
            "k=3 | th=50 | head: 5.22% | tail: 23.88% | overall: 16.53%\n",
            "k=5 | th=5 | head: 44.93% | tail: 52.97% | overall: 49.81%\n",
            "k=5 | th=6 | head: 41.51% | tail: 50.56% | overall: 47.00%\n",
            "k=5 | th=7 | head: 37.18% | tail: 48.82% | overall: 44.24%\n",
            "k=5 | th=8 | head: 35.02% | tail: 46.40% | overall: 41.92%\n",
            "k=5 | th=9 | head: 31.89% | tail: 44.61% | overall: 39.61%\n",
            "k=5 | th=10 | head: 29.66% | tail: 43.02% | overall: 37.76%\n",
            "k=5 | th=20 | head: 18.63% | tail: 34.17% | overall: 28.06%\n",
            "k=5 | th=30 | head: 13.34% | tail: 30.16% | overall: 23.54%\n",
            "k=5 | th=40 | head: 10.95% | tail: 28.32% | overall: 21.49%\n",
            "k=5 | th=50 | head: 9.39% | tail: 27.02% | overall: 20.08%\n",
            "k=10 | th=10 | head: 48.14% | tail: 55.05% | overall: 52.33%\n",
            "k=10 | th=11 | head: 45.98% | tail: 53.99% | overall: 50.84%\n",
            "k=10 | th=12 | head: 44.19% | tail: 53.31% | overall: 49.72%\n",
            "k=10 | th=13 | head: 41.73% | tail: 52.10% | overall: 48.02%\n",
            "k=10 | th=14 | head: 40.16% | tail: 51.23% | overall: 46.88%\n",
            "k=10 | th=15 | head: 38.90% | tail: 50.17% | overall: 45.73%\n",
            "k=10 | th=16 | head: 37.11% | tail: 48.43% | overall: 43.98%\n",
            "k=10 | th=17 | head: 35.10% | tail: 47.75% | overall: 42.77%\n",
            "k=10 | th=18 | head: 33.16% | tail: 47.22% | overall: 41.69%\n",
            "k=10 | th=19 | head: 31.45% | tail: 45.92% | overall: 40.22%\n",
            "k=10 | th=20 | head: 30.70% | tail: 45.05% | overall: 39.40%\n",
            "k=10 | th=30 | head: 23.10% | tail: 39.73% | overall: 33.19%\n",
            "k=10 | th=40 | head: 18.85% | tail: 36.39% | overall: 29.49%\n",
            "k=10 | th=50 | head: 15.80% | tail: 33.54% | overall: 26.56%\n"
          ]
        }
      ],
      "source": [
        "# Define the mapping of k values to their respective threshold lists\n",
        "k_threshold_mapping = {\n",
        "    1: [1,2,3,4,5,6,7,8,9,10, 20, 30, 40, 50],\n",
        "    3: [3,4,5,6,7,8,9,10, 20, 30, 40, 50],\n",
        "    5: [5,6,7,8,9, 10,20, 30, 40, 50],\n",
        "    10: [10,11,12,13,14,15,16,17,18,19,20, 30, 40, 50]\n",
        "}\n",
        "\n",
        "# Iterate through the mapping and print results on the fly\n",
        "for k, threshold_values in k_threshold_mapping.items():\n",
        "    for threshold in threshold_values:\n",
        "        # Evaluate for head\n",
        "        total_count_head, hit_count_head = tripleEvaluator.rerank(k=k, model=best_mlp, threshold=threshold, evaluate_for=\"head\")\n",
        "        head_percentage = hit_count_head / total_count_head * 100\n",
        "\n",
        "        # Evaluate for tail\n",
        "        total_count_tail, hit_count_tail = tripleEvaluator.rerank(k=k, model=best_mlp, threshold=threshold, evaluate_for=\"tail\")\n",
        "        tail_percentage = hit_count_tail / total_count_tail * 100\n",
        "\n",
        "        # Calculate overall metrics\n",
        "        overall_hit_count = hit_count_head + hit_count_tail\n",
        "        overall_total_count = total_count_head + total_count_tail\n",
        "        overall_percentage = (overall_hit_count / overall_total_count) * 100\n",
        "\n",
        "        # Print results immediately\n",
        "        print(\n",
        "            f\"k={k} | th={threshold} | \"\n",
        "            f\"head: {head_percentage:.2f}% | tail: {tail_percentage:.2f}% | overall: {overall_percentage:.2f}%\"\n",
        "        )"
      ]
    },
    {
      "cell_type": "code",
      "execution_count": 15,
      "metadata": {
        "colab": {
          "base_uri": "https://localhost:8080/"
        },
        "id": "hsbcZJ6fPomJ",
        "outputId": "eab39969-7f08-4954-ced5-bb71a036c670"
      },
      "outputs": [
        {
          "name": "stdout",
          "output_type": "stream",
          "text": [
            "k=1 | th=1 | head: 32.19% | tail: 41.08% | overall: 37.58%\n",
            "k=1 | th=2 | head: 30.25% | tail: 42.34% | overall: 37.58%\n",
            "k=1 | th=3 | head: 29.96% | tail: 42.68% | overall: 37.67%\n",
            "k=1 | th=4 | head: 30.10% | tail: 42.53% | overall: 37.64%\n",
            "k=1 | th=5 | head: 30.25% | tail: 42.29% | overall: 37.55%\n",
            "k=1 | th=6 | head: 29.96% | tail: 42.24% | overall: 37.41%\n",
            "k=1 | th=7 | head: 29.88% | tail: 41.95% | overall: 37.20%\n",
            "k=1 | th=8 | head: 29.88% | tail: 42.00% | overall: 37.23%\n",
            "k=1 | th=9 | head: 29.88% | tail: 42.05% | overall: 37.26%\n",
            "k=1 | th=10 | head: 29.96% | tail: 42.10% | overall: 37.32%\n",
            "k=1 | th=20 | head: 29.88% | tail: 41.71% | overall: 37.06%\n",
            "k=1 | th=30 | head: 29.81% | tail: 41.66% | overall: 37.00%\n",
            "k=1 | th=40 | head: 29.73% | tail: 41.66% | overall: 36.97%\n",
            "k=1 | th=50 | head: 29.51% | tail: 41.71% | overall: 36.91%\n",
            "k=3 | th=3 | head: 42.62% | tail: 51.28% | overall: 47.87%\n",
            "k=3 | th=4 | head: 42.85% | tail: 51.09% | overall: 47.85%\n",
            "k=3 | th=5 | head: 42.92% | tail: 51.09% | overall: 47.87%\n",
            "k=3 | th=6 | head: 42.55% | tail: 51.43% | overall: 47.93%\n",
            "k=3 | th=7 | head: 41.95% | tail: 51.38% | overall: 47.67%\n",
            "k=3 | th=8 | head: 41.95% | tail: 51.47% | overall: 47.73%\n",
            "k=3 | th=9 | head: 42.03% | tail: 51.47% | overall: 47.76%\n",
            "k=3 | th=10 | head: 42.32% | tail: 51.67% | overall: 47.99%\n",
            "k=3 | th=20 | head: 41.51% | tail: 51.38% | overall: 47.49%\n",
            "k=3 | th=30 | head: 41.28% | tail: 51.18% | overall: 47.29%\n",
            "k=3 | th=40 | head: 41.13% | tail: 51.09% | overall: 47.17%\n",
            "k=3 | th=50 | head: 41.06% | tail: 50.89% | overall: 47.02%\n",
            "k=5 | th=5 | head: 44.93% | tail: 52.97% | overall: 49.81%\n",
            "k=5 | th=6 | head: 45.23% | tail: 53.07% | overall: 49.99%\n",
            "k=5 | th=7 | head: 45.23% | tail: 53.36% | overall: 50.16%\n",
            "k=5 | th=8 | head: 44.78% | tail: 53.26% | overall: 49.93%\n",
            "k=5 | th=9 | head: 45.08% | tail: 53.21% | overall: 50.01%\n",
            "k=5 | th=10 | head: 45.23% | tail: 53.36% | overall: 50.16%\n",
            "k=5 | th=20 | head: 44.93% | tail: 53.75% | overall: 50.28%\n",
            "k=5 | th=30 | head: 44.56% | tail: 53.36% | overall: 49.90%\n",
            "k=5 | th=40 | head: 44.26% | tail: 53.60% | overall: 49.93%\n",
            "k=5 | th=50 | head: 44.04% | tail: 53.50% | overall: 49.78%\n",
            "k=10 | th=10 | head: 48.14% | tail: 55.05% | overall: 52.33%\n",
            "k=10 | th=11 | head: 48.44% | tail: 55.10% | overall: 52.48%\n",
            "k=10 | th=12 | head: 48.29% | tail: 55.29% | overall: 52.54%\n",
            "k=10 | th=13 | head: 48.29% | tail: 55.29% | overall: 52.54%\n",
            "k=10 | th=14 | head: 48.29% | tail: 55.20% | overall: 52.48%\n",
            "k=10 | th=15 | head: 48.51% | tail: 55.20% | overall: 52.57%\n",
            "k=10 | th=16 | head: 48.51% | tail: 55.24% | overall: 52.59%\n",
            "k=10 | th=17 | head: 48.66% | tail: 55.39% | overall: 52.74%\n",
            "k=10 | th=18 | head: 48.73% | tail: 55.49% | overall: 52.83%\n",
            "k=10 | th=19 | head: 48.73% | tail: 55.44% | overall: 52.80%\n",
            "k=10 | th=20 | head: 48.81% | tail: 55.53% | overall: 52.89%\n",
            "k=10 | th=30 | head: 48.21% | tail: 55.68% | overall: 52.74%\n",
            "k=10 | th=40 | head: 47.54% | tail: 55.39% | overall: 52.30%\n",
            "k=10 | th=50 | head: 47.47% | tail: 55.49% | overall: 52.33%\n"
          ]
        }
      ],
      "source": [
        "# Define the mapping of k values to their respective threshold lists\n",
        "k_threshold_mapping = {\n",
        "    1: [1,2, 3,4, 5,6,7,8,9,10, 20, 30, 40, 50],\n",
        "    3: [3,4,5,6,7,8,9, 10, 20, 30, 40, 50],\n",
        "    5: [5,6,7,8,9, 10, 20, 30, 40, 50],\n",
        "    10: [10,11,12,13,14,15,16,17,18,19, 20, 30, 40, 50]\n",
        "}\n",
        "\n",
        "# Iterate through the mapping and print results on the fly\n",
        "for k, threshold_values in k_threshold_mapping.items():\n",
        "    for threshold in threshold_values:\n",
        "        # Evaluate for head\n",
        "        total_count_head, hit_count_head = tripleEvaluator.rerank(k=k, model=best_xgb, threshold=threshold, evaluate_for=\"head\")\n",
        "        head_percentage = hit_count_head / total_count_head * 100\n",
        "\n",
        "        # Evaluate for tail\n",
        "        total_count_tail, hit_count_tail = tripleEvaluator.rerank(k=k, model=best_xgb, threshold=threshold, evaluate_for=\"tail\")\n",
        "        tail_percentage = hit_count_tail / total_count_tail * 100\n",
        "\n",
        "        # Calculate overall metrics\n",
        "        overall_hit_count = hit_count_head + hit_count_tail\n",
        "        overall_total_count = total_count_head + total_count_tail\n",
        "        overall_percentage = (overall_hit_count / overall_total_count) * 100\n",
        "\n",
        "        # Print results immediately\n",
        "        print(\n",
        "            f\"k={k} | th={threshold} | \"\n",
        "            f\"head: {head_percentage:.2f}% | tail: {tail_percentage:.2f}% | overall: {overall_percentage:.2f}%\"\n",
        "        )"
      ]
    },
    {
      "cell_type": "code",
      "execution_count": 16,
      "metadata": {
        "colab": {
          "base_uri": "https://localhost:8080/"
        },
        "id": "nI-JrkLNPn4D",
        "outputId": "c6ee648b-ceae-40c6-b799-8c158d2b040a"
      },
      "outputs": [
        {
          "name": "stdout",
          "output_type": "stream",
          "text": [
            "k=1 | th=1 | head: 32.19% | tail: 41.08% | overall: 37.58%\n",
            "k=1 | th=2 | head: 31.52% | tail: 42.10% | overall: 37.94%\n",
            "k=1 | th=3 | head: 31.15% | tail: 42.05% | overall: 37.76%\n",
            "k=1 | th=4 | head: 31.07% | tail: 41.76% | overall: 37.55%\n",
            "k=1 | th=5 | head: 31.22% | tail: 41.57% | overall: 37.50%\n",
            "k=1 | th=6 | head: 30.92% | tail: 41.42% | overall: 37.29%\n",
            "k=1 | th=7 | head: 30.55% | tail: 41.47% | overall: 37.17%\n",
            "k=1 | th=8 | head: 30.25% | tail: 41.47% | overall: 37.06%\n",
            "k=1 | th=9 | head: 30.33% | tail: 41.37% | overall: 37.03%\n",
            "k=1 | th=10 | head: 29.96% | tail: 41.47% | overall: 36.94%\n",
            "k=1 | th=20 | head: 29.81% | tail: 41.76% | overall: 37.06%\n",
            "k=1 | th=30 | head: 29.73% | tail: 41.61% | overall: 36.94%\n",
            "k=1 | th=40 | head: 29.66% | tail: 41.66% | overall: 36.94%\n",
            "k=1 | th=50 | head: 29.36% | tail: 41.47% | overall: 36.70%\n",
            "k=3 | th=3 | head: 42.62% | tail: 51.28% | overall: 47.87%\n",
            "k=3 | th=4 | head: 42.85% | tail: 50.85% | overall: 47.70%\n",
            "k=3 | th=5 | head: 43.22% | tail: 50.65% | overall: 47.73%\n",
            "k=3 | th=6 | head: 42.62% | tail: 50.70% | overall: 47.52%\n",
            "k=3 | th=7 | head: 42.55% | tail: 50.60% | overall: 47.43%\n",
            "k=3 | th=8 | head: 42.47% | tail: 50.36% | overall: 47.26%\n",
            "k=3 | th=9 | head: 42.32% | tail: 50.31% | overall: 47.17%\n",
            "k=3 | th=10 | head: 42.55% | tail: 50.36% | overall: 47.29%\n",
            "k=3 | th=20 | head: 41.65% | tail: 50.12% | overall: 46.79%\n",
            "k=3 | th=30 | head: 41.58% | tail: 49.93% | overall: 46.64%\n",
            "k=3 | th=40 | head: 41.51% | tail: 49.78% | overall: 46.53%\n",
            "k=3 | th=50 | head: 41.51% | tail: 49.64% | overall: 46.44%\n",
            "k=5 | th=5 | head: 44.93% | tail: 52.97% | overall: 49.81%\n",
            "k=5 | th=6 | head: 44.86% | tail: 53.02% | overall: 49.81%\n",
            "k=5 | th=7 | head: 44.93% | tail: 53.17% | overall: 49.93%\n",
            "k=5 | th=8 | head: 45.01% | tail: 53.46% | overall: 50.13%\n",
            "k=5 | th=9 | head: 45.01% | tail: 53.46% | overall: 50.13%\n",
            "k=5 | th=10 | head: 45.16% | tail: 53.41% | overall: 50.16%\n",
            "k=5 | th=20 | head: 44.26% | tail: 52.78% | overall: 49.43%\n",
            "k=5 | th=30 | head: 43.74% | tail: 52.20% | overall: 48.87%\n",
            "k=5 | th=40 | head: 43.44% | tail: 52.05% | overall: 48.67%\n",
            "k=5 | th=50 | head: 43.22% | tail: 51.91% | overall: 48.49%\n",
            "k=10 | th=10 | head: 48.14% | tail: 55.05% | overall: 52.33%\n",
            "k=10 | th=11 | head: 47.91% | tail: 55.05% | overall: 52.24%\n",
            "k=10 | th=12 | head: 47.84% | tail: 55.29% | overall: 52.36%\n",
            "k=10 | th=13 | head: 47.84% | tail: 55.15% | overall: 52.27%\n",
            "k=10 | th=14 | head: 47.91% | tail: 55.24% | overall: 52.36%\n",
            "k=10 | th=15 | head: 48.36% | tail: 55.34% | overall: 52.59%\n",
            "k=10 | th=16 | head: 48.36% | tail: 55.24% | overall: 52.54%\n",
            "k=10 | th=17 | head: 48.58% | tail: 55.34% | overall: 52.68%\n",
            "k=10 | th=18 | head: 48.58% | tail: 55.53% | overall: 52.80%\n",
            "k=10 | th=19 | head: 48.36% | tail: 55.58% | overall: 52.74%\n",
            "k=10 | th=20 | head: 48.36% | tail: 55.63% | overall: 52.77%\n",
            "k=10 | th=30 | head: 47.47% | tail: 55.15% | overall: 52.13%\n",
            "k=10 | th=40 | head: 46.87% | tail: 54.66% | overall: 51.60%\n",
            "k=10 | th=50 | head: 46.94% | tail: 54.37% | overall: 51.45%\n"
          ]
        }
      ],
      "source": [
        "# Define the mapping of k values to their respective threshold lists\n",
        "k_threshold_mapping = {\n",
        "    1: [1,2, 3,4, 5,6,7,8,9,10, 20, 30, 40, 50],\n",
        "    3: [3,4,5,6,7,8,9, 10, 20, 30, 40, 50],\n",
        "    5: [5,6,7,8,9, 10, 20, 30, 40, 50],\n",
        "    10: [10,11,12,13,14,15,16,17,18,19, 20, 30, 40, 50]\n",
        "}\n",
        "\n",
        "# Iterate through the mapping and print results on the fly\n",
        "for k, threshold_values in k_threshold_mapping.items():\n",
        "    for threshold in threshold_values:\n",
        "        # Evaluate for head\n",
        "        total_count_head, hit_count_head = tripleEvaluator.rerank(k=k, model=best_lgbm, threshold=threshold, evaluate_for=\"head\")\n",
        "        head_percentage = hit_count_head / total_count_head * 100\n",
        "\n",
        "        # Evaluate for tail\n",
        "        total_count_tail, hit_count_tail = tripleEvaluator.rerank(k=k, model=best_lgbm, threshold=threshold, evaluate_for=\"tail\")\n",
        "        tail_percentage = hit_count_tail / total_count_tail * 100\n",
        "\n",
        "        # Calculate overall metrics\n",
        "        overall_hit_count = hit_count_head + hit_count_tail\n",
        "        overall_total_count = total_count_head + total_count_tail\n",
        "        overall_percentage = (overall_hit_count / overall_total_count) * 100\n",
        "\n",
        "        # Print results immediately\n",
        "        print(\n",
        "            f\"k={k} | th={threshold} | \"\n",
        "            f\"head: {head_percentage:.2f}% | tail: {tail_percentage:.2f}% | overall: {overall_percentage:.2f}%\"\n",
        "        )"
      ]
    },
    {
      "cell_type": "code",
      "execution_count": 17,
      "metadata": {
        "colab": {
          "base_uri": "https://localhost:8080/"
        },
        "id": "SfckpZ0vgt-J",
        "outputId": "efed4bc1-81df-4b1f-88c8-b835b482b9ba"
      },
      "outputs": [
        {
          "name": "stdout",
          "output_type": "stream",
          "text": [
            "k=1 | th=1 | head: 32.19% | tail: 41.08% | overall: 37.58%\n",
            "k=1 | th=2 | head: 31.37% | tail: 42.73% | overall: 38.26%\n",
            "k=1 | th=3 | head: 31.07% | tail: 43.02% | overall: 38.32%\n",
            "k=1 | th=4 | head: 31.45% | tail: 42.92% | overall: 38.41%\n",
            "k=1 | th=5 | head: 31.45% | tail: 42.73% | overall: 38.29%\n",
            "k=1 | th=6 | head: 31.22% | tail: 42.53% | overall: 38.08%\n",
            "k=1 | th=7 | head: 31.15% | tail: 42.29% | overall: 37.91%\n",
            "k=1 | th=8 | head: 31.00% | tail: 42.39% | overall: 37.91%\n",
            "k=1 | th=9 | head: 31.22% | tail: 42.34% | overall: 37.97%\n",
            "k=1 | th=10 | head: 31.07% | tail: 42.44% | overall: 37.97%\n",
            "k=1 | th=20 | head: 30.85% | tail: 42.44% | overall: 37.88%\n",
            "k=1 | th=30 | head: 30.77% | tail: 42.44% | overall: 37.85%\n",
            "k=1 | th=40 | head: 30.85% | tail: 42.63% | overall: 37.99%\n",
            "k=1 | th=50 | head: 30.85% | tail: 42.53% | overall: 37.94%\n",
            "k=3 | th=3 | head: 42.62% | tail: 51.28% | overall: 47.87%\n",
            "k=3 | th=4 | head: 43.00% | tail: 50.89% | overall: 47.79%\n",
            "k=3 | th=5 | head: 43.22% | tail: 50.85% | overall: 47.85%\n",
            "k=3 | th=6 | head: 43.22% | tail: 50.70% | overall: 47.76%\n",
            "k=3 | th=7 | head: 42.77% | tail: 50.75% | overall: 47.61%\n",
            "k=3 | th=8 | head: 42.55% | tail: 50.94% | overall: 47.64%\n",
            "k=3 | th=9 | head: 42.70% | tail: 50.85% | overall: 47.64%\n",
            "k=3 | th=10 | head: 43.14% | tail: 50.80% | overall: 47.79%\n",
            "k=3 | th=20 | head: 42.47% | tail: 50.60% | overall: 47.41%\n",
            "k=3 | th=30 | head: 42.40% | tail: 50.46% | overall: 47.29%\n",
            "k=3 | th=40 | head: 42.40% | tail: 50.75% | overall: 47.46%\n",
            "k=3 | th=50 | head: 42.25% | tail: 50.89% | overall: 47.49%\n",
            "k=5 | th=5 | head: 44.93% | tail: 52.97% | overall: 49.81%\n",
            "k=5 | th=6 | head: 45.31% | tail: 52.88% | overall: 49.90%\n",
            "k=5 | th=7 | head: 45.23% | tail: 52.73% | overall: 49.78%\n",
            "k=5 | th=8 | head: 45.08% | tail: 52.83% | overall: 49.78%\n",
            "k=5 | th=9 | head: 45.01% | tail: 52.63% | overall: 49.63%\n",
            "k=5 | th=10 | head: 45.31% | tail: 52.78% | overall: 49.84%\n",
            "k=5 | th=20 | head: 45.08% | tail: 52.92% | overall: 49.84%\n",
            "k=5 | th=30 | head: 44.49% | tail: 52.44% | overall: 49.31%\n",
            "k=5 | th=40 | head: 44.56% | tail: 52.49% | overall: 49.37%\n",
            "k=5 | th=50 | head: 44.34% | tail: 52.78% | overall: 49.46%\n",
            "k=10 | th=10 | head: 48.14% | tail: 55.05% | overall: 52.33%\n",
            "k=10 | th=11 | head: 48.51% | tail: 54.95% | overall: 52.42%\n",
            "k=10 | th=12 | head: 48.58% | tail: 55.05% | overall: 52.51%\n",
            "k=10 | th=13 | head: 48.36% | tail: 54.95% | overall: 52.36%\n",
            "k=10 | th=14 | head: 48.21% | tail: 54.66% | overall: 52.13%\n",
            "k=10 | th=15 | head: 48.44% | tail: 54.62% | overall: 52.18%\n",
            "k=10 | th=16 | head: 48.44% | tail: 54.66% | overall: 52.21%\n",
            "k=10 | th=17 | head: 48.66% | tail: 54.76% | overall: 52.36%\n",
            "k=10 | th=18 | head: 48.66% | tail: 55.00% | overall: 52.51%\n",
            "k=10 | th=19 | head: 48.51% | tail: 54.91% | overall: 52.39%\n",
            "k=10 | th=20 | head: 48.51% | tail: 55.00% | overall: 52.45%\n",
            "k=10 | th=30 | head: 47.69% | tail: 55.10% | overall: 52.18%\n",
            "k=10 | th=40 | head: 47.54% | tail: 54.91% | overall: 52.01%\n",
            "k=10 | th=50 | head: 47.62% | tail: 54.95% | overall: 52.07%\n"
          ]
        }
      ],
      "source": [
        "# Define the mapping of k values to their respective threshold lists\n",
        "k_threshold_mapping = {\n",
        "    1: [1,2, 3,4, 5,6,7,8,9,10, 20, 30, 40, 50],\n",
        "    3: [3,4,5,6,7,8,9, 10, 20, 30, 40, 50],\n",
        "    5: [5,6,7,8,9, 10, 20, 30, 40, 50],\n",
        "    10: [10,11,12,13,14,15,16,17,18,19, 20, 30, 40, 50]\n",
        "}\n",
        "\n",
        "# Iterate through the mapping and print results on the fly\n",
        "for k, threshold_values in k_threshold_mapping.items():\n",
        "    for threshold in threshold_values:\n",
        "        # Evaluate for head\n",
        "        total_count_head, hit_count_head = tripleEvaluator.rerank(k=k, model=ensemble_model, threshold=threshold, evaluate_for=\"head\")\n",
        "        head_percentage = hit_count_head / total_count_head * 100\n",
        "\n",
        "        # Evaluate for tail\n",
        "        total_count_tail, hit_count_tail = tripleEvaluator.rerank(k=k, model=ensemble_model, threshold=threshold, evaluate_for=\"tail\")\n",
        "        tail_percentage = hit_count_tail / total_count_tail * 100\n",
        "\n",
        "        # Calculate overall metrics\n",
        "        overall_hit_count = hit_count_head + hit_count_tail\n",
        "        overall_total_count = total_count_head + total_count_tail\n",
        "        overall_percentage = (overall_hit_count / overall_total_count) * 100\n",
        "\n",
        "        # Print results immediately\n",
        "        print(\n",
        "            f\"k={k} | th={threshold} | \"\n",
        "            f\"head: {head_percentage:.2f}% | tail: {tail_percentage:.2f}% | overall: {overall_percentage:.2f}%\"\n",
        "        )"
      ]
    }
  ],
  "metadata": {
    "colab": {
      "machine_shape": "hm",
      "provenance": []
    },
    "kernelspec": {
      "display_name": "Python 3",
      "name": "python3"
    },
    "language_info": {
      "name": "python"
    }
  },
  "nbformat": 4,
  "nbformat_minor": 0
}
