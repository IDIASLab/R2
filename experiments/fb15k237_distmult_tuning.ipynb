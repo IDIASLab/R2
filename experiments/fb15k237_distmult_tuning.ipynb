{
  "cells": [
    {
      "cell_type": "code",
      "execution_count": null,
      "metadata": {
        "id": "X5k8WFGpevba"
      },
      "outputs": [],
      "source": [
        "#!pip uninstall scikit-learn\n",
        "#!pip install scikit-learn==1.5.2"
      ]
    },
    {
      "cell_type": "code",
      "execution_count": null,
      "metadata": {
        "id": "W7uPMNxqSZXX"
      },
      "outputs": [],
      "source": [
        "import pandas as pd\n",
        "import numpy as np\n",
        "from tqdm import tqdm\n",
        "import pickle\n",
        "import time\n",
        "from sklearn.metrics import accuracy_score, precision_score, recall_score, f1_score,roc_curve,auc,classification_report,make_scorer\n",
        "from sklearn.model_selection import train_test_split,GridSearchCV\n",
        "from sklearn.neural_network import MLPClassifier\n",
        "from sklearn.ensemble import VotingClassifier\n",
        "from lightgbm import LGBMClassifier\n",
        "from xgboost import XGBClassifier\n",
        "\n",
        "from link_prediction import *"
      ]
    },
    {
      "cell_type": "code",
      "execution_count": null,
      "metadata": {
        "id": "v4rpvOhwSxVE"
      },
      "outputs": [],
      "source": [
        "#Load the entity embeddings dict\n",
        "with open(\"fb15k237_distmult_entity_embeddings.pkl\", \"rb\") as f:\n",
        "    entity_embeddings = pickle.load(f)\n",
        "#Load the predicate embeddings dict\n",
        "with open(\"fb15k237_distmult_predicate_embeddings.pkl\", \"rb\") as f:\n",
        "    predicate_embeddings = pickle.load(f)\n",
        "\n",
        "train_triples = pd.read_csv('fb15k237_train.txt', dtype=str, sep='\\t', header=None, names=['head', 'relation', 'tail'])\n",
        "test_triples = pd.read_csv('fb15k237_test.txt', dtype=str, sep='\\t', header=None, names=['head', 'relation', 'tail'])"
      ]
    },
    {
      "cell_type": "markdown",
      "metadata": {
        "id": "vUmY423XWjUn"
      },
      "source": [
        "**Create Negative Samples**"
      ]
    },
    {
      "cell_type": "code",
      "execution_count": null,
      "metadata": {
        "colab": {
          "base_uri": "https://localhost:8080/"
        },
        "id": "0VYaBwd_S6Ni",
        "outputId": "847bddd5-4d9d-408f-c81a-34adeec9dac4"
      },
      "outputs": [
        {
          "name": "stderr",
          "output_type": "stream",
          "text": [
            "Processing triples: 100%|██████████| 272115/272115 [01:42<00:00, 2658.80triple/s]\n",
            "Processing triples: 100%|██████████| 272115/272115 [01:43<00:00, 2617.11triple/s]"
          ]
        },
        {
          "name": "stdout",
          "output_type": "stream",
          "text": [
            "93370\n",
            "56314\n"
          ]
        },
        {
          "name": "stderr",
          "output_type": "stream",
          "text": [
            "\n"
          ]
        }
      ],
      "source": [
        "training_object=Training(entity_embeddings,predicate_embeddings,train_triples,test_triples, model='DistMult')\n",
        "tail_df = training_object.create_training_data_filtered(n=1, creating_for=\"tail\")\n",
        "head_df = training_object.create_training_data_filtered(n=1, creating_for=\"head\")\n",
        "print(len(tail_df))\n",
        "print(len(head_df))"
      ]
    },
    {
      "cell_type": "markdown",
      "metadata": {
        "id": "8js9F5XPTLq3"
      },
      "source": [
        "**Prepare Training Data**"
      ]
    },
    {
      "cell_type": "code",
      "execution_count": null,
      "metadata": {
        "colab": {
          "base_uri": "https://localhost:8080/",
          "height": 178
        },
        "id": "qOXSQ_U0TEOd",
        "outputId": "ea991259-59a3-4c66-d182-3e7fa78ef6ac"
      },
      "outputs": [
        {
          "data": {
            "text/html": [
              "<div>\n",
              "<style scoped>\n",
              "    .dataframe tbody tr th:only-of-type {\n",
              "        vertical-align: middle;\n",
              "    }\n",
              "\n",
              "    .dataframe tbody tr th {\n",
              "        vertical-align: top;\n",
              "    }\n",
              "\n",
              "    .dataframe thead th {\n",
              "        text-align: right;\n",
              "    }\n",
              "</style>\n",
              "<table border=\"1\" class=\"dataframe\">\n",
              "  <thead>\n",
              "    <tr style=\"text-align: right;\">\n",
              "      <th></th>\n",
              "      <th>count</th>\n",
              "    </tr>\n",
              "    <tr>\n",
              "      <th>label</th>\n",
              "      <th></th>\n",
              "    </tr>\n",
              "  </thead>\n",
              "  <tbody>\n",
              "    <tr>\n",
              "      <th>1</th>\n",
              "      <td>272115</td>\n",
              "    </tr>\n",
              "    <tr>\n",
              "      <th>0</th>\n",
              "      <td>144977</td>\n",
              "    </tr>\n",
              "  </tbody>\n",
              "</table>\n",
              "</div><br><label><b>dtype:</b> int64</label>"
            ],
            "text/plain": [
              "label\n",
              "1    272115\n",
              "0    144977\n",
              "Name: count, dtype: int64"
            ]
          },
          "execution_count": 6,
          "metadata": {},
          "output_type": "execute_result"
        }
      ],
      "source": [
        "train_triples['label']=1\n",
        "train_df = pd.concat([head_df,tail_df,train_triples], axis=0)\n",
        "# Reset the index\n",
        "train_df.reset_index(drop=True, inplace=True)\n",
        "# Drop duplicate rows\n",
        "train_df.drop_duplicates(inplace=True)\n",
        "# Step 1: Prepare the training data\n",
        "train_df['embedding'] = train_df.apply(lambda row: training_object.get_embedding(row).cpu().numpy(), axis=1)\n",
        "X_train = np.vstack(train_df['embedding'].values)  # Stack embeddings into a matrix\n",
        "y_train = train_df['label'].values  # Labels\n",
        "# Step 1: Split the data into training and test sets with stratification\n",
        "X_train, X_test, y_train, y_test = train_test_split(\n",
        "    np.vstack(train_df['embedding'].values),  # Embeddings matrix\n",
        "    train_df['label'].values,                # Labels\n",
        "    test_size=0.1,                           # 10% of the data for testing\n",
        "    random_state=42,                         # For reproducibility\n",
        "    stratify=train_df['label'].values        # Maintain label distribution\n",
        ")\n",
        "train_df['label'].value_counts()"
      ]
    },
    {
      "cell_type": "markdown",
      "metadata": {
        "id": "BewwL105Telw"
      },
      "source": [
        "**Set Models**"
      ]
    },
    {
      "cell_type": "markdown",
      "metadata": {
        "id": "FGzknXtLORux"
      },
      "source": [
        "**MLP**"
      ]
    },
    {
      "cell_type": "code",
      "execution_count": null,
      "metadata": {
        "id": "Hhf-7qv2-Ht-"
      },
      "outputs": [],
      "source": [
        "import warnings\n",
        "from sklearn.exceptions import ConvergenceWarning\n",
        "\n",
        "warnings.simplefilter(\"ignore\", ConvergenceWarning)"
      ]
    },
    {
      "cell_type": "code",
      "execution_count": null,
      "metadata": {
        "colab": {
          "base_uri": "https://localhost:8080/"
        },
        "id": "4Ep1UaH6TPR_",
        "outputId": "a42c125f-d12b-45bb-be7b-3e872d7b5fb2"
      },
      "outputs": [
        {
          "name": "stdout",
          "output_type": "stream",
          "text": [
            "Best parameters for MLP: {'hidden_layer_sizes': (256, 256), 'alpha': 0.0001, 'learning_rate_init': 0.001, 'max_iter': 50, 'f1_score': 0.8313385232689735, 'accuracy': 0.7641812514984416, 'precision_0': 0.71982270841192, 'precision_1': 0.7793030283546583, 'recall_0': 0.5264864119188853, 'recall_1': 0.8908202263707188}\n"
          ]
        }
      ],
      "source": [
        "param_grid_mlp = {\n",
        "    'hidden_layer_sizes': [(256, 256)],\n",
        "    'alpha': [0.0001, 0.001, 0.01],\n",
        "    'learning_rate_init': [0.001],\n",
        "    'max_iter': [50]\n",
        "}\n",
        "\n",
        "\n",
        "\n",
        "results_mlp = []\n",
        "for hidden_layer_sizes in param_grid_mlp['hidden_layer_sizes']:\n",
        "    for alpha in param_grid_mlp['alpha']:\n",
        "        for learning_rate_init in param_grid_mlp['learning_rate_init']:\n",
        "            for max_iter in param_grid_mlp['max_iter']:\n",
        "                mlp = MLPClassifier(\n",
        "                    hidden_layer_sizes=hidden_layer_sizes,\n",
        "                    alpha=alpha,\n",
        "                    learning_rate_init=learning_rate_init,\n",
        "                    max_iter=max_iter,\n",
        "                    solver='adam',\n",
        "                    early_stopping=True,\n",
        "                    batch_size=32,\n",
        "                    random_state=42\n",
        "                )\n",
        "                mlp.fit(X_train, y_train)\n",
        "                preds = mlp.predict(X_test)\n",
        "\n",
        "                # Calculate metrics\n",
        "                score_f1 = f1_score(y_test, preds)\n",
        "                acc = accuracy_score(y_test, preds)\n",
        "                precisions = precision_score(y_test, preds, average=None, zero_division=0)\n",
        "                recalls = recall_score(y_test, preds, average=None, zero_division=0)\n",
        "\n",
        "                results_mlp.append({\n",
        "                    'hidden_layer_sizes': hidden_layer_sizes,\n",
        "                    'alpha': alpha,\n",
        "                    'learning_rate_init': learning_rate_init,\n",
        "                    'max_iter': max_iter,\n",
        "                    'f1_score': score_f1,\n",
        "                    'accuracy': acc,\n",
        "                    'precision_0': precisions[0],\n",
        "                    'precision_1': precisions[1],\n",
        "                    'recall_0': recalls[0],\n",
        "                    'recall_1': recalls[1]\n",
        "                })\n",
        "\n",
        "df_results_mlp = pd.DataFrame(results_mlp)\n",
        "\n",
        "best_mlp_params = df_results_mlp.sort_values(by='f1_score', ascending=False).iloc[0].to_dict()\n",
        "print(\"Best parameters for MLP:\", best_mlp_params)"
      ]
    },
    {
      "cell_type": "markdown",
      "metadata": {
        "id": "S9YJEh-WOP07"
      },
      "source": [
        "**XGB**"
      ]
    },
    {
      "cell_type": "code",
      "execution_count": null,
      "metadata": {
        "colab": {
          "base_uri": "https://localhost:8080/"
        },
        "id": "zlTfpHrPMA7v",
        "outputId": "29137f21-0c15-40a0-c3e2-59aa92dc11fd"
      },
      "outputs": [],
      "source": [
        "param_grid_xgb = {\n",
        "    'n_estimators': [300],\n",
        "    'max_depth': [15],\n",
        "    'scale_pos_weight': [0.5, 1],\n",
        "    'learning_rate': [0.01, 0.1]\n",
        "}\n",
        "\n",
        "results_xgb = []\n",
        "for n_estimators in param_grid_xgb['n_estimators']:\n",
        "    for max_depth in param_grid_xgb['max_depth']:\n",
        "        for scale_pos_weight in param_grid_xgb['scale_pos_weight']:\n",
        "            for learning_rate in param_grid_xgb['learning_rate']:\n",
        "                xgb = XGBClassifier(\n",
        "                    n_estimators=n_estimators,\n",
        "                    max_depth=max_depth,\n",
        "                    scale_pos_weight=scale_pos_weight,\n",
        "                    learning_rate=learning_rate,\n",
        "                    random_state=42,\n",
        "                    #use_label_encoder=False,\n",
        "                    #eval_metric='logloss'\n",
        "                )\n",
        "                xgb.fit(X_train, y_train)\n",
        "                preds = xgb.predict(X_test)\n",
        "\n",
        "                # Calculate metrics\n",
        "                score_f1 = f1_score(y_test, preds)\n",
        "                acc = accuracy_score(y_test, preds)\n",
        "                precisions = precision_score(y_test, preds, average=None, zero_division=0)\n",
        "                recalls = recall_score(y_test, preds, average=None, zero_division=0)\n",
        "\n",
        "                results_xgb.append({\n",
        "                    'n_estimators': n_estimators,\n",
        "                    'max_depth': max_depth,\n",
        "                    'scale_pos_weight': scale_pos_weight,\n",
        "                    'learning_rate': learning_rate,\n",
        "                    'f1_score': score_f1,\n",
        "                    'accuracy': acc,\n",
        "                    'precision_0': precisions[0],\n",
        "                    'precision_1': precisions[1],\n",
        "                    'recall_0': recalls[0],\n",
        "                    'recall_1': recalls[1]\n",
        "                })\n",
        "\n",
        "df_results_xgb = pd.DataFrame(results_xgb)\n",
        "best_xgb_params = df_results_xgb.sort_values(by='f1_score', ascending=False).iloc[0].to_dict()\n",
        "print(\"Best parameters for XGBClassifier:\", best_xgb_params)"
      ]
    },
    {
      "cell_type": "markdown",
      "metadata": {
        "id": "sBawiIGpOUxY"
      },
      "source": [
        "**LGBM**"
      ]
    },
    {
      "cell_type": "code",
      "execution_count": null,
      "metadata": {
        "colab": {
          "base_uri": "https://localhost:8080/"
        },
        "id": "HKdY6e6LMCG8",
        "outputId": "f37f2471-0db7-4138-8a6a-c4620086c443"
      },
      "outputs": [],
      "source": [
        "param_grid_lgbm = {\n",
        "    'n_estimators': [300],\n",
        "    'max_depth': [15],\n",
        "    'learning_rate': [0.01, 0.1],\n",
        "    'is_unbalance': [True, False]\n",
        "}\n",
        "\n",
        "results_lgbm = []\n",
        "for n_estimators in param_grid_lgbm['n_estimators']:\n",
        "    for max_depth in param_grid_lgbm['max_depth']:\n",
        "        for learning_rate in param_grid_lgbm['learning_rate']:\n",
        "            for is_unbalance in param_grid_lgbm['is_unbalance']:\n",
        "                lgbm = LGBMClassifier(\n",
        "                    n_estimators=n_estimators,\n",
        "                    max_depth=max_depth,\n",
        "                    learning_rate=learning_rate,\n",
        "                    is_unbalance=is_unbalance,\n",
        "                    random_state=42\n",
        "                )\n",
        "                lgbm.fit(X_train, y_train)\n",
        "                preds = lgbm.predict(X_test)\n",
        "\n",
        "                # Calculate metrics\n",
        "                score_f1 = f1_score(y_test, preds)\n",
        "                acc = accuracy_score(y_test, preds)\n",
        "                precisions = precision_score(y_test, preds, average=None, zero_division=0)\n",
        "                recalls = recall_score(y_test, preds, average=None, zero_division=0)\n",
        "\n",
        "                results_lgbm.append({\n",
        "                    'n_estimators': n_estimators,\n",
        "                    'max_depth': max_depth,\n",
        "                    'learning_rate': learning_rate,\n",
        "                    'is_unbalance': is_unbalance,\n",
        "                    'f1_score': score_f1,\n",
        "                    'accuracy': acc,\n",
        "                    'precision_0': precisions[0],\n",
        "                    'precision_1': precisions[1],\n",
        "                    'recall_0': recalls[0],\n",
        "                    'recall_1': recalls[1]\n",
        "                })\n",
        "\n",
        "df_results_lgbm = pd.DataFrame(results_lgbm)\n",
        "best_lgbm_params = df_results_lgbm.sort_values(by='f1_score', ascending=False).iloc[0].to_dict()\n",
        "print(\"Best parameters for LGBM:\", best_lgbm_params)"
      ]
    },
    {
      "cell_type": "markdown",
      "metadata": {
        "id": "g3wpa-6XTijx"
      },
      "source": [
        "**Train Ensemble**"
      ]
    },
    {
      "cell_type": "code",
      "execution_count": null,
      "metadata": {
        "colab": {
          "base_uri": "https://localhost:8080/"
        },
        "id": "hh_nSA9ATkra",
        "outputId": "fbfeb773-77b5-40a6-8719-d94e3209f8dd"
      },
      "outputs": [
        {
          "name": "stderr",
          "output_type": "stream",
          "text": [
            "/usr/local/lib/python3.11/dist-packages/sklearn/utils/deprecation.py:151: FutureWarning: 'force_all_finite' was renamed to 'ensure_all_finite' in 1.6 and will be removed in 1.8.\n",
            "  warnings.warn(\n"
          ]
        },
        {
          "name": "stdout",
          "output_type": "stream",
          "text": [
            "[LightGBM] [Info] Number of positive: 244903, number of negative: 130479\n",
            "[LightGBM] [Info] Auto-choosing col-wise multi-threading, the overhead of testing was 0.513456 seconds.\n",
            "You can set `force_col_wise=true` to remove the overhead.\n",
            "[LightGBM] [Info] Total Bins 74517\n",
            "[LightGBM] [Info] Number of data points in the train set: 375382, number of used features: 300\n",
            "[LightGBM] [Info] [binary:BoostFromScore]: pavg=0.652410 -> initscore=0.629650\n",
            "[LightGBM] [Info] Start training from score 0.629650\n"
          ]
        },
        {
          "name": "stderr",
          "output_type": "stream",
          "text": [
            "/usr/local/lib/python3.11/dist-packages/sklearn/utils/deprecation.py:151: FutureWarning: 'force_all_finite' was renamed to 'ensure_all_finite' in 1.6 and will be removed in 1.8.\n",
            "  warnings.warn(\n",
            "/usr/local/lib/python3.11/dist-packages/sklearn/utils/deprecation.py:151: FutureWarning: 'force_all_finite' was renamed to 'ensure_all_finite' in 1.6 and will be removed in 1.8.\n",
            "  warnings.warn(\n"
          ]
        }
      ],
      "source": [
        "# Best MLPClassifier\n",
        "best_mlp = MLPClassifier(\n",
        "    hidden_layer_sizes=best_mlp_params['hidden_layer_sizes'],\n",
        "    alpha=best_mlp_params['alpha'],\n",
        "    learning_rate_init=best_mlp_params['learning_rate_init'],\n",
        "    max_iter=best_mlp_params['max_iter'],\n",
        "    solver='adam',\n",
        "    early_stopping=True,\n",
        "    batch_size=32,\n",
        "    random_state=42\n",
        ")\n",
        "best_mlp.fit(X_train, y_train)\n",
        "preds_mlp = best_mlp.predict(X_test)\n",
        "report_mlp = classification_report(y_test, preds_mlp)\n",
        "\n",
        "# Best XGBClassifier\n",
        "best_xgb = XGBClassifier(\n",
        "    n_estimators=int(best_xgb_params['n_estimators']),\n",
        "    max_depth=int(best_xgb_params['max_depth']),\n",
        "    learning_rate=float(best_xgb_params['learning_rate']),\n",
        "    scale_pos_weight=float(best_xgb_params['scale_pos_weight']),\n",
        "    random_state=42,\n",
        ")\n",
        "best_xgb.fit(X_train, y_train)\n",
        "preds_xgb = best_xgb.predict(X_test)\n",
        "report_xgb = classification_report(y_test, preds_xgb)\n",
        "\n",
        "# Best LGBMClassifier\n",
        "best_lgbm = LGBMClassifier(\n",
        "    n_estimators=best_lgbm_params['n_estimators'],\n",
        "    max_depth=best_lgbm_params['max_depth'],\n",
        "    learning_rate=best_lgbm_params['learning_rate'],\n",
        "    is_unbalance=best_lgbm_params['is_unbalance'],\n",
        "    random_state=42\n",
        ")\n",
        "best_lgbm.fit(X_train, y_train)\n",
        "preds_lgbm = best_lgbm.predict(X_test)\n",
        "report_lgbm = classification_report(y_test, preds_lgbm)\n",
        "\n",
        "######################################\n",
        "# Ensemble the best models using VotingClassifier\n",
        "######################################\n",
        "ensemble_model = VotingClassifier(\n",
        "    estimators=[\n",
        "        ('mlp', best_mlp),\n",
        "        ('xgb', best_xgb),\n",
        "        ('lgbm', best_lgbm)\n",
        "    ],\n",
        "    voting='soft',  # Soft voting uses predicted probabilities\n",
        "    n_jobs=-1\n",
        ")\n",
        "\n",
        "start_time = time.time()\n",
        "ensemble_model.fit(X_train, y_train)\n",
        "end_time = time.time()\n",
        "\n",
        "ensemble_time = end_time - start_time\n",
        "preds_ensemble = ensemble_model.predict(X_test)\n",
        "ensemble_acc = accuracy_score(y_test, preds_ensemble)\n",
        "report_ensemble = classification_report(y_test, preds_ensemble)"
      ]
    },
    {
      "cell_type": "code",
      "execution_count": null,
      "metadata": {
        "colab": {
          "base_uri": "https://localhost:8080/"
        },
        "id": "JhDeYNY6Ks7N",
        "outputId": "ad6f699c-bd72-4991-ee90-6b4d6d513ddb"
      },
      "outputs": [
        {
          "name": "stdout",
          "output_type": "stream",
          "text": [
            "Ensemble Accuracy: 0.7939582833852793\n",
            "Ensemble Classification Report:\n",
            "               precision    recall  f1-score   support\n",
            "\n",
            "           0       0.77      0.59      0.66     14498\n",
            "           1       0.80      0.90      0.85     27212\n",
            "\n",
            "    accuracy                           0.79     41710\n",
            "   macro avg       0.78      0.75      0.76     41710\n",
            "weighted avg       0.79      0.79      0.79     41710\n",
            "\n"
          ]
        },
        {
          "name": "stderr",
          "output_type": "stream",
          "text": [
            "/usr/local/lib/python3.11/dist-packages/sklearn/utils/deprecation.py:151: FutureWarning: 'force_all_finite' was renamed to 'ensure_all_finite' in 1.6 and will be removed in 1.8.\n",
            "  warnings.warn(\n"
          ]
        }
      ],
      "source": [
        "y_pred_ensemble = ensemble_model.predict(X_test)\n",
        "print(\"Ensemble Accuracy:\", accuracy_score(y_test, y_pred_ensemble))\n",
        "print(\"Ensemble Classification Report:\\n\", classification_report(y_test, y_pred_ensemble))"
      ]
    },
    {
      "cell_type": "code",
      "execution_count": null,
      "metadata": {
        "colab": {
          "base_uri": "https://localhost:8080/"
        },
        "id": "_tZhQkKJKx5d",
        "outputId": "b4756ba8-b606-43eb-aae9-9e035c6409ef"
      },
      "outputs": [
        {
          "name": "stdout",
          "output_type": "stream",
          "text": [
            "Results saved to fb15k237_distmult_tuning.txt\n"
          ]
        }
      ],
      "source": [
        "with open(\"/content/drive/MyDrive/link_prediction/tuning/fb15k237_distmult_tuning.txt\", \"w\") as f:\n",
        "    f.write(\"##############################\\n\")\n",
        "    f.write(\"MLPClassifier Full Results\\n\")\n",
        "    f.write(\"##############################\\n\")\n",
        "    f.write(df_results_mlp.to_string())\n",
        "    f.write(\"\\n\\nBest Parameters for MLPClassifier:\\n\")\n",
        "    f.write(str(best_mlp_params))\n",
        "    f.write(\"\\n\\nClassification Report for Best MLPClassifier:\\n\")\n",
        "    f.write(report_mlp)\n",
        "\n",
        "    f.write(\"\\n\\n\\n##############################\\n\")\n",
        "    f.write(\"XGBClassifier Full Results\\n\")\n",
        "    f.write(\"##############################\\n\")\n",
        "    f.write(df_results_xgb.to_string())\n",
        "    f.write(\"\\n\\nBest Parameters for XGBClassifier:\\n\")\n",
        "    f.write(str(best_xgb_params))\n",
        "    f.write(\"\\n\\nClassification Report for Best XGBClassifier:\\n\")\n",
        "    f.write(report_xgb)\n",
        "\n",
        "    f.write(\"\\n\\n\\n##############################\\n\")\n",
        "    f.write(\"LGBMClassifier Full Results\\n\")\n",
        "    f.write(\"##############################\\n\")\n",
        "    f.write(df_results_lgbm.to_string())\n",
        "    f.write(\"\\n\\nBest Parameters for LGBMClassifier:\\n\")\n",
        "    f.write(str(best_lgbm_params))\n",
        "    f.write(\"\\n\\nClassification Report for Best LGBMClassifier:\\n\")\n",
        "    f.write(report_lgbm)\n",
        "\n",
        "    f.write(\"\\n\\n\\n##############################\\n\")\n",
        "    f.write(\"Ensemble Model Performance\\n\")\n",
        "    f.write(\"##############################\\n\")\n",
        "    f.write(\"Ensemble Accuracy: {:.4f}\\n\".format(ensemble_acc))\n",
        "    f.write(\"Ensemble Classification Report:\\n\")\n",
        "    f.write(report_ensemble)\n",
        "\n",
        "print(\"Results saved to fb15k237_distmult_tuning.txt\")"
      ]
    },
    {
      "cell_type": "markdown",
      "metadata": {
        "id": "LaaXmNZEUIB1"
      },
      "source": [
        "**Rerank Hitk**"
      ]
    },
    {
      "cell_type": "code",
      "execution_count": null,
      "metadata": {
        "id": "NklFNH7RUlTM"
      },
      "outputs": [],
      "source": [
        "import warnings\n",
        "warnings.simplefilter(action='ignore', category=FutureWarning)"
      ]
    },
    {
      "cell_type": "code",
      "execution_count": null,
      "metadata": {
        "colab": {
          "base_uri": "https://localhost:8080/"
        },
        "id": "8bcKVBNzUjTD",
        "outputId": "8ab5c50b-352f-4afa-b3ec-b2588b2d9012"
      },
      "outputs": [
        {
          "name": "stderr",
          "output_type": "stream",
          "text": [
            "Precomputing top-k predictions: 100%|██████████| 20466/20466 [00:32<00:00, 626.60it/s]\n"
          ]
        }
      ],
      "source": [
        "tripleEvaluator=TripleEvaluator(entity_embeddings,predicate_embeddings,train_triples,test_triples, model='DistMult', k=50)"
      ]
    },
    {
      "cell_type": "code",
      "execution_count": null,
      "metadata": {
        "colab": {
          "base_uri": "https://localhost:8080/"
        },
        "id": "D3XXGZChPo76",
        "outputId": "c97ada97-9e4a-478e-dde2-025f2963e8a9"
      },
      "outputs": [
        {
          "name": "stdout",
          "output_type": "stream",
          "text": [
            "k=1 | th=1 | head: 13.82% | tail: 24.38% | overall: 20.16%\n",
            "k=1 | th=2 | head: 14.38% | tail: 27.06% | overall: 22.00%\n",
            "k=1 | th=3 | head: 13.94% | tail: 27.76% | overall: 22.25%\n",
            "k=1 | th=4 | head: 13.50% | tail: 27.67% | overall: 22.01%\n",
            "k=1 | th=5 | head: 13.34% | tail: 27.39% | overall: 21.78%\n",
            "k=1 | th=6 | head: 13.18% | tail: 27.21% | overall: 21.61%\n",
            "k=1 | th=7 | head: 12.35% | tail: 26.71% | overall: 20.98%\n",
            "k=1 | th=8 | head: 11.61% | tail: 26.71% | overall: 20.69%\n",
            "k=1 | th=9 | head: 11.30% | tail: 26.20% | overall: 20.26%\n",
            "k=1 | th=10 | head: 11.04% | tail: 25.66% | overall: 19.83%\n",
            "k=1 | th=20 | head: 8.24% | tail: 23.34% | overall: 17.31%\n",
            "k=1 | th=30 | head: 7.05% | tail: 22.58% | overall: 16.38%\n",
            "k=1 | th=40 | head: 6.20% | tail: 22.07% | overall: 15.74%\n",
            "k=1 | th=50 | head: 5.69% | tail: 21.50% | overall: 15.19%\n",
            "k=3 | th=3 | head: 26.49% | tail: 39.87% | overall: 34.53%\n",
            "k=3 | th=4 | head: 26.27% | tail: 40.56% | overall: 34.85%\n",
            "k=3 | th=5 | head: 25.93% | tail: 40.57% | overall: 34.73%\n",
            "k=3 | th=6 | head: 25.62% | tail: 40.55% | overall: 34.59%\n",
            "k=3 | th=7 | head: 24.85% | tail: 39.96% | overall: 33.93%\n",
            "k=3 | th=8 | head: 24.00% | tail: 39.82% | overall: 33.51%\n",
            "k=3 | th=9 | head: 23.25% | tail: 39.13% | overall: 32.79%\n",
            "k=3 | th=10 | head: 22.61% | tail: 38.43% | overall: 32.11%\n",
            "k=3 | th=20 | head: 18.19% | tail: 33.96% | overall: 27.67%\n",
            "k=3 | th=30 | head: 14.71% | tail: 31.85% | overall: 25.01%\n",
            "k=3 | th=40 | head: 12.84% | tail: 30.51% | overall: 23.46%\n",
            "k=3 | th=50 | head: 11.71% | tail: 29.53% | overall: 22.42%\n",
            "k=5 | th=5 | head: 33.92% | tail: 47.20% | overall: 41.90%\n",
            "k=5 | th=6 | head: 33.97% | tail: 47.38% | overall: 42.03%\n",
            "k=5 | th=7 | head: 33.27% | tail: 47.08% | overall: 41.57%\n",
            "k=5 | th=8 | head: 32.57% | tail: 47.13% | overall: 41.32%\n",
            "k=5 | th=9 | head: 31.70% | tail: 46.46% | overall: 40.57%\n",
            "k=5 | th=10 | head: 31.13% | tail: 45.71% | overall: 39.89%\n",
            "k=5 | th=20 | head: 25.49% | tail: 40.50% | overall: 34.51%\n",
            "k=5 | th=30 | head: 20.99% | tail: 37.76% | overall: 31.07%\n",
            "k=5 | th=40 | head: 18.76% | tail: 35.74% | overall: 28.96%\n",
            "k=5 | th=50 | head: 16.57% | tail: 34.61% | overall: 27.41%\n",
            "k=10 | th=10 | head: 45.42% | tail: 56.65% | overall: 52.17%\n",
            "k=10 | th=11 | head: 45.01% | tail: 56.39% | overall: 51.85%\n",
            "k=10 | th=12 | head: 44.25% | tail: 55.77% | overall: 51.17%\n",
            "k=10 | th=13 | head: 43.91% | tail: 55.34% | overall: 50.78%\n",
            "k=10 | th=14 | head: 43.30% | tail: 54.96% | overall: 50.31%\n",
            "k=10 | th=15 | head: 42.58% | tail: 54.20% | overall: 49.56%\n",
            "k=10 | th=16 | head: 41.91% | tail: 53.61% | overall: 48.94%\n",
            "k=10 | th=17 | head: 40.69% | tail: 53.07% | overall: 48.13%\n",
            "k=10 | th=18 | head: 40.00% | tail: 52.69% | overall: 47.62%\n",
            "k=10 | th=19 | head: 39.28% | tail: 52.32% | overall: 47.12%\n",
            "k=10 | th=20 | head: 38.50% | tail: 51.83% | overall: 46.51%\n",
            "k=10 | th=30 | head: 33.04% | tail: 47.89% | overall: 41.96%\n",
            "k=10 | th=40 | head: 28.90% | tail: 45.09% | overall: 38.63%\n",
            "k=10 | th=50 | head: 25.99% | tail: 43.22% | overall: 36.34%\n"
          ]
        }
      ],
      "source": [
        "# Define the mapping of k values to their respective threshold lists\n",
        "k_threshold_mapping = {\n",
        "    1: [1,2,3,4,5,6,7,8,9,10, 20, 30, 40, 50],\n",
        "    3: [3,4,5,6,7,8,9,10, 20, 30, 40, 50],\n",
        "    5: [5,6,7,8,9, 10,20, 30, 40, 50],\n",
        "    10: [10,11,12,13,14,15,16,17,18,19,20, 30, 40, 50]\n",
        "}\n",
        "\n",
        "# Iterate through the mapping and print results on the fly\n",
        "for k, threshold_values in k_threshold_mapping.items():\n",
        "    for threshold in threshold_values:\n",
        "        # Evaluate for head\n",
        "        total_count_head, hit_count_head = tripleEvaluator.rerank(k=k, model=best_mlp, threshold=threshold, evaluate_for=\"head\")\n",
        "        head_percentage = hit_count_head / total_count_head * 100\n",
        "\n",
        "        # Evaluate for tail\n",
        "        total_count_tail, hit_count_tail = tripleEvaluator.rerank(k=k, model=best_mlp, threshold=threshold, evaluate_for=\"tail\")\n",
        "        tail_percentage = hit_count_tail / total_count_tail * 100\n",
        "\n",
        "        # Calculate overall metrics\n",
        "        overall_hit_count = hit_count_head + hit_count_tail\n",
        "        overall_total_count = total_count_head + total_count_tail\n",
        "        overall_percentage = (overall_hit_count / overall_total_count) * 100\n",
        "\n",
        "        # Print results immediately\n",
        "        print(\n",
        "            f\"k={k} | th={threshold} | \"\n",
        "            f\"head: {head_percentage:.2f}% | tail: {tail_percentage:.2f}% | overall: {overall_percentage:.2f}%\"\n",
        "        )"
      ]
    },
    {
      "cell_type": "code",
      "execution_count": null,
      "metadata": {
        "colab": {
          "base_uri": "https://localhost:8080/"
        },
        "id": "hsbcZJ6fPomJ",
        "outputId": "614d281e-60de-497a-de0b-b4e38f5a55eb"
      },
      "outputs": [
        {
          "name": "stdout",
          "output_type": "stream",
          "text": [
            "k=1 | th=1 | head: 13.82% | tail: 24.38% | overall: 20.16%\n",
            "k=1 | th=2 | head: 18.81% | tail: 31.62% | overall: 26.51%\n",
            "k=1 | th=3 | head: 18.22% | tail: 31.53% | overall: 26.22%\n",
            "k=1 | th=4 | head: 17.65% | tail: 31.03% | overall: 25.69%\n",
            "k=1 | th=5 | head: 16.95% | tail: 30.48% | overall: 25.08%\n",
            "k=1 | th=6 | head: 16.43% | tail: 30.30% | overall: 24.77%\n",
            "k=1 | th=7 | head: 16.05% | tail: 29.89% | overall: 24.36%\n",
            "k=1 | th=8 | head: 15.35% | tail: 29.65% | overall: 23.94%\n",
            "k=1 | th=9 | head: 14.92% | tail: 29.05% | overall: 23.41%\n",
            "k=1 | th=10 | head: 14.71% | tail: 28.79% | overall: 23.17%\n",
            "k=1 | th=20 | head: 13.02% | tail: 26.54% | overall: 21.14%\n",
            "k=1 | th=30 | head: 12.23% | tail: 25.67% | overall: 20.31%\n",
            "k=1 | th=40 | head: 11.77% | tail: 25.33% | overall: 19.91%\n",
            "k=1 | th=50 | head: 11.61% | tail: 25.09% | overall: 19.71%\n",
            "k=3 | th=3 | head: 26.49% | tail: 39.87% | overall: 34.53%\n",
            "k=3 | th=4 | head: 29.25% | tail: 43.00% | overall: 37.52%\n",
            "k=3 | th=5 | head: 29.22% | tail: 42.99% | overall: 37.50%\n",
            "k=3 | th=6 | head: 29.03% | tail: 42.98% | overall: 37.41%\n",
            "k=3 | th=7 | head: 28.54% | tail: 42.42% | overall: 36.88%\n",
            "k=3 | th=8 | head: 27.76% | tail: 42.20% | overall: 36.44%\n",
            "k=3 | th=9 | head: 27.25% | tail: 41.43% | overall: 35.77%\n",
            "k=3 | th=10 | head: 26.93% | tail: 40.89% | overall: 35.32%\n",
            "k=3 | th=20 | head: 23.71% | tail: 37.32% | overall: 31.89%\n",
            "k=3 | th=30 | head: 22.36% | tail: 35.67% | overall: 30.36%\n",
            "k=3 | th=40 | head: 20.99% | tail: 34.93% | overall: 29.37%\n",
            "k=3 | th=50 | head: 20.25% | tail: 34.29% | overall: 28.69%\n",
            "k=5 | th=5 | head: 33.92% | tail: 47.20% | overall: 41.90%\n",
            "k=5 | th=6 | head: 35.87% | tail: 48.88% | overall: 43.69%\n",
            "k=5 | th=7 | head: 35.75% | tail: 48.87% | overall: 43.63%\n",
            "k=5 | th=8 | head: 35.30% | tail: 48.64% | overall: 43.31%\n",
            "k=5 | th=9 | head: 34.69% | tail: 48.22% | overall: 42.82%\n",
            "k=5 | th=10 | head: 34.44% | tail: 47.52% | overall: 42.30%\n",
            "k=5 | th=20 | head: 30.72% | tail: 43.15% | overall: 38.19%\n",
            "k=5 | th=30 | head: 28.35% | tail: 41.52% | overall: 36.27%\n",
            "k=5 | th=40 | head: 26.94% | tail: 40.34% | overall: 34.99%\n",
            "k=5 | th=50 | head: 26.07% | tail: 39.67% | overall: 34.25%\n",
            "k=10 | th=10 | head: 45.42% | tail: 56.65% | overall: 52.17%\n",
            "k=10 | th=11 | head: 46.25% | tail: 57.14% | overall: 52.80%\n",
            "k=10 | th=12 | head: 45.79% | tail: 56.78% | overall: 52.39%\n",
            "k=10 | th=13 | head: 45.63% | tail: 56.26% | overall: 52.02%\n",
            "k=10 | th=14 | head: 44.95% | tail: 55.83% | overall: 51.49%\n",
            "k=10 | th=15 | head: 44.24% | tail: 55.34% | overall: 50.91%\n",
            "k=10 | th=16 | head: 44.00% | tail: 54.57% | overall: 50.35%\n",
            "k=10 | th=17 | head: 43.48% | tail: 54.07% | overall: 49.84%\n",
            "k=10 | th=18 | head: 43.02% | tail: 53.57% | overall: 49.36%\n",
            "k=10 | th=19 | head: 42.82% | tail: 53.21% | overall: 49.07%\n",
            "k=10 | th=20 | head: 42.35% | tail: 53.04% | overall: 48.77%\n",
            "k=10 | th=30 | head: 39.09% | tail: 50.26% | overall: 45.80%\n",
            "k=10 | th=40 | head: 36.90% | tail: 48.55% | overall: 43.90%\n",
            "k=10 | th=50 | head: 35.29% | tail: 47.49% | overall: 42.62%\n"
          ]
        }
      ],
      "source": [
        "# Define the mapping of k values to their respective threshold lists\n",
        "k_threshold_mapping = {\n",
        "    1: [1,2, 3,4, 5,6,7,8,9,10, 20, 30, 40, 50],\n",
        "    3: [3,4,5,6,7,8,9, 10, 20, 30, 40, 50],\n",
        "    5: [5,6,7,8,9, 10, 20, 30, 40, 50],\n",
        "    10: [10,11,12,13,14,15,16,17,18,19, 20, 30, 40, 50]\n",
        "}\n",
        "\n",
        "# Iterate through the mapping and print results on the fly\n",
        "for k, threshold_values in k_threshold_mapping.items():\n",
        "    for threshold in threshold_values:\n",
        "        # Evaluate for head\n",
        "        total_count_head, hit_count_head = tripleEvaluator.rerank(k=k, model=best_xgb, threshold=threshold, evaluate_for=\"head\")\n",
        "        head_percentage = hit_count_head / total_count_head * 100\n",
        "\n",
        "        # Evaluate for tail\n",
        "        total_count_tail, hit_count_tail = tripleEvaluator.rerank(k=k, model=best_xgb, threshold=threshold, evaluate_for=\"tail\")\n",
        "        tail_percentage = hit_count_tail / total_count_tail * 100\n",
        "\n",
        "        # Calculate overall metrics\n",
        "        overall_hit_count = hit_count_head + hit_count_tail\n",
        "        overall_total_count = total_count_head + total_count_tail\n",
        "        overall_percentage = (overall_hit_count / overall_total_count) * 100\n",
        "\n",
        "        # Print results immediately\n",
        "        print(\n",
        "            f\"k={k} | th={threshold} | \"\n",
        "            f\"head: {head_percentage:.2f}% | tail: {tail_percentage:.2f}% | overall: {overall_percentage:.2f}%\"\n",
        "        )"
      ]
    },
    {
      "cell_type": "code",
      "execution_count": null,
      "metadata": {
        "colab": {
          "base_uri": "https://localhost:8080/"
        },
        "id": "nI-JrkLNPn4D",
        "outputId": "9d751b27-1a18-497a-9e67-4892bb4dbd1d"
      },
      "outputs": [
        {
          "name": "stdout",
          "output_type": "stream",
          "text": [
            "k=1 | th=1 | head: 13.82% | tail: 24.38% | overall: 20.16%\n",
            "k=1 | th=2 | head: 15.16% | tail: 27.58% | overall: 22.62%\n",
            "k=1 | th=3 | head: 15.43% | tail: 28.52% | overall: 23.30%\n",
            "k=1 | th=4 | head: 15.25% | tail: 28.44% | overall: 23.18%\n",
            "k=1 | th=5 | head: 14.98% | tail: 28.67% | overall: 23.21%\n",
            "k=1 | th=6 | head: 14.85% | tail: 28.85% | overall: 23.26%\n",
            "k=1 | th=7 | head: 14.64% | tail: 28.69% | overall: 23.08%\n",
            "k=1 | th=8 | head: 14.34% | tail: 28.56% | overall: 22.88%\n",
            "k=1 | th=9 | head: 14.02% | tail: 28.27% | overall: 22.58%\n",
            "k=1 | th=10 | head: 13.78% | tail: 28.01% | overall: 22.33%\n",
            "k=1 | th=20 | head: 12.37% | tail: 26.53% | overall: 20.88%\n",
            "k=1 | th=30 | head: 11.37% | tail: 25.65% | overall: 19.95%\n",
            "k=1 | th=40 | head: 10.89% | tail: 24.94% | overall: 19.33%\n",
            "k=1 | th=50 | head: 10.39% | tail: 24.44% | overall: 18.84%\n",
            "k=3 | th=3 | head: 26.49% | tail: 39.87% | overall: 34.53%\n",
            "k=3 | th=4 | head: 26.74% | tail: 40.81% | overall: 35.20%\n",
            "k=3 | th=5 | head: 26.57% | tail: 40.92% | overall: 35.20%\n",
            "k=3 | th=6 | head: 26.34% | tail: 40.87% | overall: 35.07%\n",
            "k=3 | th=7 | head: 25.89% | tail: 40.67% | overall: 34.78%\n",
            "k=3 | th=8 | head: 25.62% | tail: 40.67% | overall: 34.67%\n",
            "k=3 | th=9 | head: 25.16% | tail: 40.34% | overall: 34.28%\n",
            "k=3 | th=10 | head: 24.95% | tail: 39.92% | overall: 33.95%\n",
            "k=3 | th=20 | head: 22.77% | tail: 37.71% | overall: 31.75%\n",
            "k=3 | th=30 | head: 20.97% | tail: 36.49% | overall: 30.30%\n",
            "k=3 | th=40 | head: 20.08% | tail: 35.54% | overall: 29.37%\n",
            "k=3 | th=50 | head: 19.19% | tail: 34.67% | overall: 28.49%\n",
            "k=5 | th=5 | head: 33.92% | tail: 47.20% | overall: 41.90%\n",
            "k=5 | th=6 | head: 33.96% | tail: 47.27% | overall: 41.96%\n",
            "k=5 | th=7 | head: 33.63% | tail: 47.13% | overall: 41.74%\n",
            "k=5 | th=8 | head: 32.81% | tail: 47.04% | overall: 41.36%\n",
            "k=5 | th=9 | head: 32.48% | tail: 46.46% | overall: 40.88%\n",
            "k=5 | th=10 | head: 32.18% | tail: 46.09% | overall: 40.54%\n",
            "k=5 | th=20 | head: 29.34% | tail: 43.68% | overall: 37.96%\n",
            "k=5 | th=30 | head: 26.62% | tail: 42.18% | overall: 35.97%\n",
            "k=5 | th=40 | head: 25.75% | tail: 41.01% | overall: 34.92%\n",
            "k=5 | th=50 | head: 24.63% | tail: 40.24% | overall: 34.01%\n",
            "k=10 | th=10 | head: 45.42% | tail: 56.65% | overall: 52.17%\n",
            "k=10 | th=11 | head: 45.02% | tail: 56.10% | overall: 51.68%\n",
            "k=10 | th=12 | head: 44.52% | tail: 55.42% | overall: 51.07%\n",
            "k=10 | th=13 | head: 44.22% | tail: 55.07% | overall: 50.74%\n",
            "k=10 | th=14 | head: 43.50% | tail: 54.65% | overall: 50.20%\n",
            "k=10 | th=15 | head: 42.82% | tail: 54.30% | overall: 49.72%\n",
            "k=10 | th=16 | head: 42.26% | tail: 53.81% | overall: 49.20%\n",
            "k=10 | th=17 | head: 41.62% | tail: 53.48% | overall: 48.75%\n",
            "k=10 | th=18 | head: 41.11% | tail: 53.10% | overall: 48.31%\n",
            "k=10 | th=19 | head: 40.78% | tail: 52.63% | overall: 47.90%\n",
            "k=10 | th=20 | head: 40.55% | tail: 52.43% | overall: 47.69%\n",
            "k=10 | th=30 | head: 37.38% | tail: 50.38% | overall: 45.19%\n",
            "k=10 | th=40 | head: 34.94% | tail: 48.89% | overall: 43.32%\n",
            "k=10 | th=50 | head: 33.58% | tail: 47.94% | overall: 42.21%\n"
          ]
        }
      ],
      "source": [
        "# Define the mapping of k values to their respective threshold lists\n",
        "k_threshold_mapping = {\n",
        "    1: [1,2, 3,4, 5,6,7,8,9,10, 20, 30, 40, 50],\n",
        "    3: [3,4,5,6,7,8,9, 10, 20, 30, 40, 50],\n",
        "    5: [5,6,7,8,9, 10, 20, 30, 40, 50],\n",
        "    10: [10,11,12,13,14,15,16,17,18,19, 20, 30, 40, 50]\n",
        "}\n",
        "\n",
        "# Iterate through the mapping and print results on the fly\n",
        "for k, threshold_values in k_threshold_mapping.items():\n",
        "    for threshold in threshold_values:\n",
        "        # Evaluate for head\n",
        "        total_count_head, hit_count_head = tripleEvaluator.rerank(k=k, model=best_lgbm, threshold=threshold, evaluate_for=\"head\")\n",
        "        head_percentage = hit_count_head / total_count_head * 100\n",
        "\n",
        "        # Evaluate for tail\n",
        "        total_count_tail, hit_count_tail = tripleEvaluator.rerank(k=k, model=best_lgbm, threshold=threshold, evaluate_for=\"tail\")\n",
        "        tail_percentage = hit_count_tail / total_count_tail * 100\n",
        "\n",
        "        # Calculate overall metrics\n",
        "        overall_hit_count = hit_count_head + hit_count_tail\n",
        "        overall_total_count = total_count_head + total_count_tail\n",
        "        overall_percentage = (overall_hit_count / overall_total_count) * 100\n",
        "\n",
        "        # Print results immediately\n",
        "        print(\n",
        "            f\"k={k} | th={threshold} | \"\n",
        "            f\"head: {head_percentage:.2f}% | tail: {tail_percentage:.2f}% | overall: {overall_percentage:.2f}%\"\n",
        "        )"
      ]
    },
    {
      "cell_type": "code",
      "execution_count": null,
      "metadata": {
        "colab": {
          "base_uri": "https://localhost:8080/"
        },
        "id": "SfckpZ0vgt-J",
        "outputId": "ce7b550d-8437-41a7-be3d-25bcefe69c8a"
      },
      "outputs": [
        {
          "name": "stdout",
          "output_type": "stream",
          "text": [
            "k=1 | th=1 | head: 13.82% | tail: 24.38% | overall: 20.16%\n",
            "k=1 | th=2 | head: 18.49% | tail: 30.98% | overall: 26.00%\n",
            "k=1 | th=3 | head: 18.20% | tail: 31.56% | overall: 26.23%\n",
            "k=1 | th=4 | head: 17.85% | tail: 31.33% | overall: 25.95%\n",
            "k=1 | th=5 | head: 17.07% | tail: 31.02% | overall: 25.45%\n",
            "k=1 | th=6 | head: 16.73% | tail: 30.94% | overall: 25.27%\n",
            "k=1 | th=7 | head: 16.10% | tail: 30.56% | overall: 24.79%\n",
            "k=1 | th=8 | head: 15.57% | tail: 30.56% | overall: 24.58%\n",
            "k=1 | th=9 | head: 15.23% | tail: 30.10% | overall: 24.16%\n",
            "k=1 | th=10 | head: 15.09% | tail: 29.64% | overall: 23.84%\n",
            "k=1 | th=20 | head: 13.20% | tail: 26.97% | overall: 21.48%\n",
            "k=1 | th=30 | head: 12.12% | tail: 26.32% | overall: 20.65%\n",
            "k=1 | th=40 | head: 11.60% | tail: 25.82% | overall: 20.14%\n",
            "k=1 | th=50 | head: 11.37% | tail: 25.20% | overall: 19.68%\n",
            "k=3 | th=3 | head: 26.49% | tail: 39.87% | overall: 34.53%\n",
            "k=3 | th=4 | head: 28.92% | tail: 42.72% | overall: 37.21%\n",
            "k=3 | th=5 | head: 29.20% | tail: 42.96% | overall: 37.47%\n",
            "k=3 | th=6 | head: 29.13% | tail: 43.07% | overall: 37.51%\n",
            "k=3 | th=7 | head: 28.69% | tail: 42.77% | overall: 37.16%\n",
            "k=3 | th=8 | head: 28.11% | tail: 42.72% | overall: 36.89%\n",
            "k=3 | th=9 | head: 27.33% | tail: 42.14% | overall: 36.23%\n",
            "k=3 | th=10 | head: 26.98% | tail: 41.73% | overall: 35.85%\n",
            "k=3 | th=20 | head: 23.88% | tail: 39.11% | overall: 33.04%\n",
            "k=3 | th=30 | head: 22.07% | tail: 37.06% | overall: 31.08%\n",
            "k=3 | th=40 | head: 20.83% | tail: 36.13% | overall: 30.02%\n",
            "k=3 | th=50 | head: 19.86% | tail: 35.41% | overall: 29.20%\n",
            "k=5 | th=5 | head: 33.92% | tail: 47.20% | overall: 41.90%\n",
            "k=5 | th=6 | head: 35.52% | tail: 48.68% | overall: 43.42%\n",
            "k=5 | th=7 | head: 35.71% | tail: 48.73% | overall: 43.54%\n",
            "k=5 | th=8 | head: 35.43% | tail: 48.86% | overall: 43.50%\n",
            "k=5 | th=9 | head: 34.78% | tail: 48.43% | overall: 42.98%\n",
            "k=5 | th=10 | head: 34.51% | tail: 48.03% | overall: 42.64%\n",
            "k=5 | th=20 | head: 31.73% | tail: 45.03% | overall: 39.72%\n",
            "k=5 | th=30 | head: 28.74% | tail: 43.37% | overall: 37.53%\n",
            "k=5 | th=40 | head: 27.05% | tail: 42.33% | overall: 36.23%\n",
            "k=5 | th=50 | head: 25.79% | tail: 41.43% | overall: 35.19%\n",
            "k=10 | th=10 | head: 45.42% | tail: 56.65% | overall: 52.17%\n",
            "k=10 | th=11 | head: 45.92% | tail: 57.02% | overall: 52.59%\n",
            "k=10 | th=12 | head: 45.62% | tail: 56.70% | overall: 52.28%\n",
            "k=10 | th=13 | head: 45.61% | tail: 56.36% | overall: 52.07%\n",
            "k=10 | th=14 | head: 45.22% | tail: 56.16% | overall: 51.79%\n",
            "k=10 | th=15 | head: 44.42% | tail: 55.66% | overall: 51.18%\n",
            "k=10 | th=16 | head: 44.07% | tail: 55.23% | overall: 50.78%\n",
            "k=10 | th=17 | head: 43.23% | tail: 54.64% | overall: 50.09%\n",
            "k=10 | th=18 | head: 42.69% | tail: 54.25% | overall: 49.64%\n",
            "k=10 | th=19 | head: 42.71% | tail: 53.87% | overall: 49.42%\n",
            "k=10 | th=20 | head: 42.58% | tail: 53.71% | overall: 49.27%\n",
            "k=10 | th=30 | head: 39.79% | tail: 51.47% | overall: 46.81%\n",
            "k=10 | th=40 | head: 37.08% | tail: 50.03% | overall: 44.86%\n",
            "k=10 | th=50 | head: 35.18% | tail: 48.84% | overall: 43.39%\n"
          ]
        }
      ],
      "source": [
        "# Define the mapping of k values to their respective threshold lists\n",
        "k_threshold_mapping = {\n",
        "    1: [1,2, 3,4, 5,6,7,8,9,10, 20, 30, 40, 50],\n",
        "    3: [3,4,5,6,7,8,9, 10, 20, 30, 40, 50],\n",
        "    5: [5,6,7,8,9, 10, 20, 30, 40, 50],\n",
        "    10: [10,11,12,13,14,15,16,17,18,19, 20, 30, 40, 50]\n",
        "}\n",
        "\n",
        "# Iterate through the mapping and print results on the fly\n",
        "for k, threshold_values in k_threshold_mapping.items():\n",
        "    for threshold in threshold_values:\n",
        "        # Evaluate for head\n",
        "        total_count_head, hit_count_head = tripleEvaluator.rerank(k=k, model=ensemble_model, threshold=threshold, evaluate_for=\"head\")\n",
        "        head_percentage = hit_count_head / total_count_head * 100\n",
        "\n",
        "        # Evaluate for tail\n",
        "        total_count_tail, hit_count_tail = tripleEvaluator.rerank(k=k, model=ensemble_model, threshold=threshold, evaluate_for=\"tail\")\n",
        "        tail_percentage = hit_count_tail / total_count_tail * 100\n",
        "\n",
        "        # Calculate overall metrics\n",
        "        overall_hit_count = hit_count_head + hit_count_tail\n",
        "        overall_total_count = total_count_head + total_count_tail\n",
        "        overall_percentage = (overall_hit_count / overall_total_count) * 100\n",
        "\n",
        "        # Print results immediately\n",
        "        print(\n",
        "            f\"k={k} | th={threshold} | \"\n",
        "            f\"head: {head_percentage:.2f}% | tail: {tail_percentage:.2f}% | overall: {overall_percentage:.2f}%\"\n",
        "        )"
      ]
    }
  ],
  "metadata": {
    "colab": {
      "machine_shape": "hm",
      "provenance": []
    },
    "kernelspec": {
      "display_name": "Python 3",
      "name": "python3"
    },
    "language_info": {
      "name": "python"
    }
  },
  "nbformat": 4,
  "nbformat_minor": 0
}
